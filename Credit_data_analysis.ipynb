{
 "cells": [
  {
   "cell_type": "markdown",
   "metadata": {},
   "source": [
    "### Credit Data Analysis\n",
    "    * EDA\n",
    "    * Logistic Regression Model\n",
    "    * Decision Tree Model\n",
    "    * Support Vector Machine Model"
   ]
  },
  {
   "cell_type": "code",
   "execution_count": 10,
   "metadata": {},
   "outputs": [],
   "source": [
    "import numpy as np \n",
    "import pandas as pd\n",
    "%matplotlib inline\n",
    "import matplotlib.pyplot as plt  \n",
    "import seaborn as sns\n",
    "from scipy import stats\n",
    "#For some Statistics\n",
    "from scipy.stats import norm, skew\n",
    "from sklearn.preprocessing import Imputer"
   ]
  },
  {
   "cell_type": "code",
   "execution_count": 11,
   "metadata": {},
   "outputs": [
    {
     "data": {
      "text/html": [
       "<div>\n",
       "<style scoped>\n",
       "    .dataframe tbody tr th:only-of-type {\n",
       "        vertical-align: middle;\n",
       "    }\n",
       "\n",
       "    .dataframe tbody tr th {\n",
       "        vertical-align: top;\n",
       "    }\n",
       "\n",
       "    .dataframe thead th {\n",
       "        text-align: right;\n",
       "    }\n",
       "</style>\n",
       "<table border=\"1\" class=\"dataframe\">\n",
       "  <thead>\n",
       "    <tr style=\"text-align: right;\">\n",
       "      <th></th>\n",
       "      <th>Unnamed: 0</th>\n",
       "      <th>SeriousDlqin2yrs</th>\n",
       "      <th>RevolvingUtilizationOfUnsecuredLines</th>\n",
       "      <th>age</th>\n",
       "      <th>NumberOfTime30-59DaysPastDueNotWorse</th>\n",
       "      <th>DebtRatio</th>\n",
       "      <th>MonthlyIncome</th>\n",
       "      <th>NumberOfOpenCreditLinesAndLoans</th>\n",
       "      <th>NumberOfTimes90DaysLate</th>\n",
       "      <th>NumberRealEstateLoansOrLines</th>\n",
       "      <th>NumberOfTime60-89DaysPastDueNotWorse</th>\n",
       "      <th>NumberOfDependents</th>\n",
       "    </tr>\n",
       "  </thead>\n",
       "  <tbody>\n",
       "    <tr>\n",
       "      <th>0</th>\n",
       "      <td>1</td>\n",
       "      <td>1</td>\n",
       "      <td>0.766127</td>\n",
       "      <td>45</td>\n",
       "      <td>2</td>\n",
       "      <td>0.802982</td>\n",
       "      <td>9120.0</td>\n",
       "      <td>13</td>\n",
       "      <td>0</td>\n",
       "      <td>6</td>\n",
       "      <td>0</td>\n",
       "      <td>2.0</td>\n",
       "    </tr>\n",
       "    <tr>\n",
       "      <th>1</th>\n",
       "      <td>2</td>\n",
       "      <td>0</td>\n",
       "      <td>0.957151</td>\n",
       "      <td>40</td>\n",
       "      <td>0</td>\n",
       "      <td>0.121876</td>\n",
       "      <td>2600.0</td>\n",
       "      <td>4</td>\n",
       "      <td>0</td>\n",
       "      <td>0</td>\n",
       "      <td>0</td>\n",
       "      <td>1.0</td>\n",
       "    </tr>\n",
       "    <tr>\n",
       "      <th>2</th>\n",
       "      <td>3</td>\n",
       "      <td>0</td>\n",
       "      <td>0.658180</td>\n",
       "      <td>38</td>\n",
       "      <td>1</td>\n",
       "      <td>0.085113</td>\n",
       "      <td>3042.0</td>\n",
       "      <td>2</td>\n",
       "      <td>1</td>\n",
       "      <td>0</td>\n",
       "      <td>0</td>\n",
       "      <td>0.0</td>\n",
       "    </tr>\n",
       "    <tr>\n",
       "      <th>3</th>\n",
       "      <td>4</td>\n",
       "      <td>0</td>\n",
       "      <td>0.233810</td>\n",
       "      <td>30</td>\n",
       "      <td>0</td>\n",
       "      <td>0.036050</td>\n",
       "      <td>3300.0</td>\n",
       "      <td>5</td>\n",
       "      <td>0</td>\n",
       "      <td>0</td>\n",
       "      <td>0</td>\n",
       "      <td>0.0</td>\n",
       "    </tr>\n",
       "    <tr>\n",
       "      <th>4</th>\n",
       "      <td>5</td>\n",
       "      <td>0</td>\n",
       "      <td>0.907239</td>\n",
       "      <td>49</td>\n",
       "      <td>1</td>\n",
       "      <td>0.024926</td>\n",
       "      <td>63588.0</td>\n",
       "      <td>7</td>\n",
       "      <td>0</td>\n",
       "      <td>1</td>\n",
       "      <td>0</td>\n",
       "      <td>0.0</td>\n",
       "    </tr>\n",
       "  </tbody>\n",
       "</table>\n",
       "</div>"
      ],
      "text/plain": [
       "   Unnamed: 0  SeriousDlqin2yrs  RevolvingUtilizationOfUnsecuredLines  age  \\\n",
       "0           1                 1                              0.766127   45   \n",
       "1           2                 0                              0.957151   40   \n",
       "2           3                 0                              0.658180   38   \n",
       "3           4                 0                              0.233810   30   \n",
       "4           5                 0                              0.907239   49   \n",
       "\n",
       "   NumberOfTime30-59DaysPastDueNotWorse  DebtRatio  MonthlyIncome  \\\n",
       "0                                     2   0.802982         9120.0   \n",
       "1                                     0   0.121876         2600.0   \n",
       "2                                     1   0.085113         3042.0   \n",
       "3                                     0   0.036050         3300.0   \n",
       "4                                     1   0.024926        63588.0   \n",
       "\n",
       "   NumberOfOpenCreditLinesAndLoans  NumberOfTimes90DaysLate  \\\n",
       "0                               13                        0   \n",
       "1                                4                        0   \n",
       "2                                2                        1   \n",
       "3                                5                        0   \n",
       "4                                7                        0   \n",
       "\n",
       "   NumberRealEstateLoansOrLines  NumberOfTime60-89DaysPastDueNotWorse  \\\n",
       "0                             6                                     0   \n",
       "1                             0                                     0   \n",
       "2                             0                                     0   \n",
       "3                             0                                     0   \n",
       "4                             1                                     0   \n",
       "\n",
       "   NumberOfDependents  \n",
       "0                 2.0  \n",
       "1                 1.0  \n",
       "2                 0.0  \n",
       "3                 0.0  \n",
       "4                 0.0  "
      ]
     },
     "execution_count": 11,
     "metadata": {},
     "output_type": "execute_result"
    }
   ],
   "source": [
    "train_data=pd.read_csv('cs-training.csv')\n",
    "train_data.head()"
   ]
  },
  {
   "cell_type": "code",
   "execution_count": 12,
   "metadata": {},
   "outputs": [
    {
     "data": {
      "text/html": [
       "<div>\n",
       "<style scoped>\n",
       "    .dataframe tbody tr th:only-of-type {\n",
       "        vertical-align: middle;\n",
       "    }\n",
       "\n",
       "    .dataframe tbody tr th {\n",
       "        vertical-align: top;\n",
       "    }\n",
       "\n",
       "    .dataframe thead th {\n",
       "        text-align: right;\n",
       "    }\n",
       "</style>\n",
       "<table border=\"1\" class=\"dataframe\">\n",
       "  <thead>\n",
       "    <tr style=\"text-align: right;\">\n",
       "      <th></th>\n",
       "      <th>Total</th>\n",
       "      <th>Percent</th>\n",
       "    </tr>\n",
       "  </thead>\n",
       "  <tbody>\n",
       "    <tr>\n",
       "      <th>MonthlyIncome</th>\n",
       "      <td>29731</td>\n",
       "      <td>19.820667</td>\n",
       "    </tr>\n",
       "    <tr>\n",
       "      <th>NumberOfDependents</th>\n",
       "      <td>3924</td>\n",
       "      <td>2.616000</td>\n",
       "    </tr>\n",
       "    <tr>\n",
       "      <th>NumberOfTime60-89DaysPastDueNotWorse</th>\n",
       "      <td>0</td>\n",
       "      <td>0.000000</td>\n",
       "    </tr>\n",
       "    <tr>\n",
       "      <th>NumberRealEstateLoansOrLines</th>\n",
       "      <td>0</td>\n",
       "      <td>0.000000</td>\n",
       "    </tr>\n",
       "    <tr>\n",
       "      <th>NumberOfTimes90DaysLate</th>\n",
       "      <td>0</td>\n",
       "      <td>0.000000</td>\n",
       "    </tr>\n",
       "    <tr>\n",
       "      <th>NumberOfOpenCreditLinesAndLoans</th>\n",
       "      <td>0</td>\n",
       "      <td>0.000000</td>\n",
       "    </tr>\n",
       "    <tr>\n",
       "      <th>DebtRatio</th>\n",
       "      <td>0</td>\n",
       "      <td>0.000000</td>\n",
       "    </tr>\n",
       "    <tr>\n",
       "      <th>NumberOfTime30-59DaysPastDueNotWorse</th>\n",
       "      <td>0</td>\n",
       "      <td>0.000000</td>\n",
       "    </tr>\n",
       "    <tr>\n",
       "      <th>age</th>\n",
       "      <td>0</td>\n",
       "      <td>0.000000</td>\n",
       "    </tr>\n",
       "    <tr>\n",
       "      <th>RevolvingUtilizationOfUnsecuredLines</th>\n",
       "      <td>0</td>\n",
       "      <td>0.000000</td>\n",
       "    </tr>\n",
       "    <tr>\n",
       "      <th>SeriousDlqin2yrs</th>\n",
       "      <td>0</td>\n",
       "      <td>0.000000</td>\n",
       "    </tr>\n",
       "    <tr>\n",
       "      <th>Unnamed: 0</th>\n",
       "      <td>0</td>\n",
       "      <td>0.000000</td>\n",
       "    </tr>\n",
       "  </tbody>\n",
       "</table>\n",
       "</div>"
      ],
      "text/plain": [
       "                                      Total    Percent\n",
       "MonthlyIncome                         29731  19.820667\n",
       "NumberOfDependents                     3924   2.616000\n",
       "NumberOfTime60-89DaysPastDueNotWorse      0   0.000000\n",
       "NumberRealEstateLoansOrLines              0   0.000000\n",
       "NumberOfTimes90DaysLate                   0   0.000000\n",
       "NumberOfOpenCreditLinesAndLoans           0   0.000000\n",
       "DebtRatio                                 0   0.000000\n",
       "NumberOfTime30-59DaysPastDueNotWorse      0   0.000000\n",
       "age                                       0   0.000000\n",
       "RevolvingUtilizationOfUnsecuredLines      0   0.000000\n",
       "SeriousDlqin2yrs                          0   0.000000\n",
       "Unnamed: 0                                0   0.000000"
      ]
     },
     "execution_count": 12,
     "metadata": {},
     "output_type": "execute_result"
    }
   ],
   "source": [
    "total = train_data.isnull().sum(axis=0).sort_values(ascending=False)\n",
    "percent = ((train_data.isnull().sum(axis=0)/train_data.isnull().count(axis=0))*100).sort_values(ascending=False)\n",
    "\n",
    "# count the number of null values in the column and their perecentage of the total data\n",
    "missing_data_columns = pd.concat([total, percent], axis=1, keys=['Total', 'Percent'])\n",
    "missing_data_columns.head(20)"
   ]
  },
  {
   "cell_type": "code",
   "execution_count": 13,
   "metadata": {},
   "outputs": [],
   "source": [
    "imp_mean = Imputer(missing_values = 'NaN', strategy='mean')\n",
    "imp_mean.fit(train_data[['MonthlyIncome']])\n",
    "train_data['MonthlyIncome'] = imp_mean.transform(train_data[['MonthlyIncome']])"
   ]
  },
  {
   "cell_type": "code",
   "execution_count": 14,
   "metadata": {},
   "outputs": [
    {
     "data": {
      "text/plain": [
       "(146076, 12)"
      ]
     },
     "execution_count": 14,
     "metadata": {},
     "output_type": "execute_result"
    }
   ],
   "source": [
    "train_data = train_data.copy().dropna(how='any')\n",
    "train_data.shape"
   ]
  },
  {
   "cell_type": "code",
   "execution_count": null,
   "metadata": {},
   "outputs": [],
   "source": []
  },
  {
   "cell_type": "code",
   "execution_count": null,
   "metadata": {},
   "outputs": [],
   "source": []
  },
  {
   "cell_type": "code",
   "execution_count": 6,
   "metadata": {},
   "outputs": [
    {
     "name": "stdout",
     "output_type": "stream",
     "text": [
      "<class 'pandas.core.frame.DataFrame'>\n",
      "Int64Index: 146076 entries, 0 to 149999\n",
      "Data columns (total 12 columns):\n",
      "Unnamed: 0                              146076 non-null int64\n",
      "SeriousDlqin2yrs                        146076 non-null int64\n",
      "RevolvingUtilizationOfUnsecuredLines    146076 non-null float64\n",
      "age                                     146076 non-null int64\n",
      "NumberOfTime30-59DaysPastDueNotWorse    146076 non-null int64\n",
      "DebtRatio                               146076 non-null float64\n",
      "MonthlyIncome                           146076 non-null float64\n",
      "NumberOfOpenCreditLinesAndLoans         146076 non-null int64\n",
      "NumberOfTimes90DaysLate                 146076 non-null int64\n",
      "NumberRealEstateLoansOrLines            146076 non-null int64\n",
      "NumberOfTime60-89DaysPastDueNotWorse    146076 non-null int64\n",
      "NumberOfDependents                      146076 non-null float64\n",
      "dtypes: float64(4), int64(8)\n",
      "memory usage: 14.5 MB\n"
     ]
    }
   ],
   "source": [
    "train_data.info()"
   ]
  },
  {
   "cell_type": "code",
   "execution_count": 7,
   "metadata": {},
   "outputs": [
    {
     "data": {
      "text/html": [
       "<div>\n",
       "<style scoped>\n",
       "    .dataframe tbody tr th:only-of-type {\n",
       "        vertical-align: middle;\n",
       "    }\n",
       "\n",
       "    .dataframe tbody tr th {\n",
       "        vertical-align: top;\n",
       "    }\n",
       "\n",
       "    .dataframe thead th {\n",
       "        text-align: right;\n",
       "    }\n",
       "</style>\n",
       "<table border=\"1\" class=\"dataframe\">\n",
       "  <thead>\n",
       "    <tr style=\"text-align: right;\">\n",
       "      <th></th>\n",
       "      <th>count</th>\n",
       "      <th>mean</th>\n",
       "      <th>std</th>\n",
       "      <th>min</th>\n",
       "      <th>25%</th>\n",
       "      <th>50%</th>\n",
       "      <th>75%</th>\n",
       "      <th>max</th>\n",
       "    </tr>\n",
       "  </thead>\n",
       "  <tbody>\n",
       "    <tr>\n",
       "      <th>Unnamed: 0</th>\n",
       "      <td>146076.0</td>\n",
       "      <td>75013.668597</td>\n",
       "      <td>43290.647551</td>\n",
       "      <td>1.0</td>\n",
       "      <td>37534.750000</td>\n",
       "      <td>75013.500000</td>\n",
       "      <td>112496.250000</td>\n",
       "      <td>150000.0</td>\n",
       "    </tr>\n",
       "    <tr>\n",
       "      <th>SeriousDlqin2yrs</th>\n",
       "      <td>146076.0</td>\n",
       "      <td>0.067410</td>\n",
       "      <td>0.250732</td>\n",
       "      <td>0.0</td>\n",
       "      <td>0.000000</td>\n",
       "      <td>0.000000</td>\n",
       "      <td>0.000000</td>\n",
       "      <td>1.0</td>\n",
       "    </tr>\n",
       "    <tr>\n",
       "      <th>RevolvingUtilizationOfUnsecuredLines</th>\n",
       "      <td>146076.0</td>\n",
       "      <td>5.922272</td>\n",
       "      <td>250.070774</td>\n",
       "      <td>0.0</td>\n",
       "      <td>0.031018</td>\n",
       "      <td>0.158818</td>\n",
       "      <td>0.563684</td>\n",
       "      <td>50708.0</td>\n",
       "    </tr>\n",
       "    <tr>\n",
       "      <th>age</th>\n",
       "      <td>146076.0</td>\n",
       "      <td>52.099277</td>\n",
       "      <td>14.604005</td>\n",
       "      <td>0.0</td>\n",
       "      <td>41.000000</td>\n",
       "      <td>52.000000</td>\n",
       "      <td>62.000000</td>\n",
       "      <td>107.0</td>\n",
       "    </tr>\n",
       "    <tr>\n",
       "      <th>NumberOfTime30-59DaysPastDueNotWorse</th>\n",
       "      <td>146076.0</td>\n",
       "      <td>0.407945</td>\n",
       "      <td>4.002747</td>\n",
       "      <td>0.0</td>\n",
       "      <td>0.000000</td>\n",
       "      <td>0.000000</td>\n",
       "      <td>0.000000</td>\n",
       "      <td>98.0</td>\n",
       "    </tr>\n",
       "    <tr>\n",
       "      <th>DebtRatio</th>\n",
       "      <td>146076.0</td>\n",
       "      <td>333.373603</td>\n",
       "      <td>1943.906679</td>\n",
       "      <td>0.0</td>\n",
       "      <td>0.171764</td>\n",
       "      <td>0.357751</td>\n",
       "      <td>0.766117</td>\n",
       "      <td>329664.0</td>\n",
       "    </tr>\n",
       "    <tr>\n",
       "      <th>MonthlyIncome</th>\n",
       "      <td>146076.0</td>\n",
       "      <td>6670.221237</td>\n",
       "      <td>13052.302408</td>\n",
       "      <td>0.0</td>\n",
       "      <td>3820.000000</td>\n",
       "      <td>6415.000000</td>\n",
       "      <td>7500.000000</td>\n",
       "      <td>3008750.0</td>\n",
       "    </tr>\n",
       "    <tr>\n",
       "      <th>NumberOfOpenCreditLinesAndLoans</th>\n",
       "      <td>146076.0</td>\n",
       "      <td>8.529279</td>\n",
       "      <td>5.149533</td>\n",
       "      <td>0.0</td>\n",
       "      <td>5.000000</td>\n",
       "      <td>8.000000</td>\n",
       "      <td>11.000000</td>\n",
       "      <td>58.0</td>\n",
       "    </tr>\n",
       "    <tr>\n",
       "      <th>NumberOfTimes90DaysLate</th>\n",
       "      <td>146076.0</td>\n",
       "      <td>0.250698</td>\n",
       "      <td>3.977197</td>\n",
       "      <td>0.0</td>\n",
       "      <td>0.000000</td>\n",
       "      <td>0.000000</td>\n",
       "      <td>0.000000</td>\n",
       "      <td>98.0</td>\n",
       "    </tr>\n",
       "    <tr>\n",
       "      <th>NumberRealEstateLoansOrLines</th>\n",
       "      <td>146076.0</td>\n",
       "      <td>1.029717</td>\n",
       "      <td>1.132774</td>\n",
       "      <td>0.0</td>\n",
       "      <td>0.000000</td>\n",
       "      <td>1.000000</td>\n",
       "      <td>2.000000</td>\n",
       "      <td>54.0</td>\n",
       "    </tr>\n",
       "    <tr>\n",
       "      <th>NumberOfTime60-89DaysPastDueNotWorse</th>\n",
       "      <td>146076.0</td>\n",
       "      <td>0.225027</td>\n",
       "      <td>3.962048</td>\n",
       "      <td>0.0</td>\n",
       "      <td>0.000000</td>\n",
       "      <td>0.000000</td>\n",
       "      <td>0.000000</td>\n",
       "      <td>98.0</td>\n",
       "    </tr>\n",
       "    <tr>\n",
       "      <th>NumberOfDependents</th>\n",
       "      <td>146076.0</td>\n",
       "      <td>0.757222</td>\n",
       "      <td>1.115086</td>\n",
       "      <td>0.0</td>\n",
       "      <td>0.000000</td>\n",
       "      <td>0.000000</td>\n",
       "      <td>1.000000</td>\n",
       "      <td>20.0</td>\n",
       "    </tr>\n",
       "  </tbody>\n",
       "</table>\n",
       "</div>"
      ],
      "text/plain": [
       "                                         count          mean           std  \\\n",
       "Unnamed: 0                            146076.0  75013.668597  43290.647551   \n",
       "SeriousDlqin2yrs                      146076.0      0.067410      0.250732   \n",
       "RevolvingUtilizationOfUnsecuredLines  146076.0      5.922272    250.070774   \n",
       "age                                   146076.0     52.099277     14.604005   \n",
       "NumberOfTime30-59DaysPastDueNotWorse  146076.0      0.407945      4.002747   \n",
       "DebtRatio                             146076.0    333.373603   1943.906679   \n",
       "MonthlyIncome                         146076.0   6670.221237  13052.302408   \n",
       "NumberOfOpenCreditLinesAndLoans       146076.0      8.529279      5.149533   \n",
       "NumberOfTimes90DaysLate               146076.0      0.250698      3.977197   \n",
       "NumberRealEstateLoansOrLines          146076.0      1.029717      1.132774   \n",
       "NumberOfTime60-89DaysPastDueNotWorse  146076.0      0.225027      3.962048   \n",
       "NumberOfDependents                    146076.0      0.757222      1.115086   \n",
       "\n",
       "                                      min           25%           50%  \\\n",
       "Unnamed: 0                            1.0  37534.750000  75013.500000   \n",
       "SeriousDlqin2yrs                      0.0      0.000000      0.000000   \n",
       "RevolvingUtilizationOfUnsecuredLines  0.0      0.031018      0.158818   \n",
       "age                                   0.0     41.000000     52.000000   \n",
       "NumberOfTime30-59DaysPastDueNotWorse  0.0      0.000000      0.000000   \n",
       "DebtRatio                             0.0      0.171764      0.357751   \n",
       "MonthlyIncome                         0.0   3820.000000   6415.000000   \n",
       "NumberOfOpenCreditLinesAndLoans       0.0      5.000000      8.000000   \n",
       "NumberOfTimes90DaysLate               0.0      0.000000      0.000000   \n",
       "NumberRealEstateLoansOrLines          0.0      0.000000      1.000000   \n",
       "NumberOfTime60-89DaysPastDueNotWorse  0.0      0.000000      0.000000   \n",
       "NumberOfDependents                    0.0      0.000000      0.000000   \n",
       "\n",
       "                                                75%        max  \n",
       "Unnamed: 0                            112496.250000   150000.0  \n",
       "SeriousDlqin2yrs                           0.000000        1.0  \n",
       "RevolvingUtilizationOfUnsecuredLines       0.563684    50708.0  \n",
       "age                                       62.000000      107.0  \n",
       "NumberOfTime30-59DaysPastDueNotWorse       0.000000       98.0  \n",
       "DebtRatio                                  0.766117   329664.0  \n",
       "MonthlyIncome                           7500.000000  3008750.0  \n",
       "NumberOfOpenCreditLinesAndLoans           11.000000       58.0  \n",
       "NumberOfTimes90DaysLate                    0.000000       98.0  \n",
       "NumberRealEstateLoansOrLines               2.000000       54.0  \n",
       "NumberOfTime60-89DaysPastDueNotWorse       0.000000       98.0  \n",
       "NumberOfDependents                         1.000000       20.0  "
      ]
     },
     "execution_count": 7,
     "metadata": {},
     "output_type": "execute_result"
    }
   ],
   "source": [
    "train_data.describe().T"
   ]
  },
  {
   "cell_type": "markdown",
   "metadata": {},
   "source": [
    "The summary statistics for SeriousDlqin2yrs does not make any sense, as it is a categorical variable."
   ]
  },
  {
   "cell_type": "markdown",
   "metadata": {},
   "source": [
    "### Exploratory Data Analysis"
   ]
  },
  {
   "cell_type": "code",
   "execution_count": 8,
   "metadata": {},
   "outputs": [
    {
     "data": {
      "text/plain": [
       "0    136229\n",
       "1      9847\n",
       "Name: SeriousDlqin2yrs, dtype: int64"
      ]
     },
     "execution_count": 8,
     "metadata": {},
     "output_type": "execute_result"
    }
   ],
   "source": [
    "#0 Number of people who have experienced 90 days past due delinquency or worse.\n",
    "train_data_delinquent=train_data['SeriousDlqin2yrs'].value_counts()\n",
    "train_data_delinquent"
   ]
  },
  {
   "cell_type": "code",
   "execution_count": 12,
   "metadata": {},
   "outputs": [],
   "source": [
    "#1 How does age play role in delinquency?"
   ]
  },
  {
   "cell_type": "code",
   "execution_count": 9,
   "metadata": {},
   "outputs": [],
   "source": [
    "age_count=train_data[['age','SeriousDlqin2yrs']].groupby(['age','SeriousDlqin2yrs']).size().reset_index()\n",
    "age_count.columns=['age','SeriousDlqin2yrs','count']\n",
    "age_count['age']=age_count['age']//10*10"
   ]
  },
  {
   "cell_type": "code",
   "execution_count": 10,
   "metadata": {},
   "outputs": [
    {
     "name": "stdout",
     "output_type": "stream",
     "text": [
      "(0, 0)\n",
      "1\n",
      "(20, 0)\n",
      "7436\n",
      "(20, 1)\n",
      "993\n",
      "(30, 0)\n",
      "20579\n",
      "(30, 1)\n",
      "2312\n",
      "(40, 0)\n",
      "31142\n",
      "(40, 1)\n",
      "2850\n",
      "(50, 0)\n",
      "32343\n",
      "(50, 1)\n",
      "2235\n",
      "(60, 0)\n",
      "27023\n",
      "(60, 1)\n",
      "1023\n",
      "(70, 0)\n",
      "12600\n",
      "(70, 1)\n",
      "320\n",
      "(80, 0)\n",
      "4551\n",
      "(80, 1)\n",
      "102\n",
      "(90, 0)\n",
      "545\n",
      "(90, 1)\n",
      "11\n",
      "(100, 0)\n",
      "9\n",
      "(100, 1)\n",
      "1\n"
     ]
    }
   ],
   "source": [
    "grouped=age_count.groupby(['age','SeriousDlqin2yrs'])\n",
    "for name,group in grouped:\n",
    "    print(name)\n",
    "    print(group['count'].sum())"
   ]
  },
  {
   "cell_type": "markdown",
   "metadata": {},
   "source": [
    "So we can conclude from this data that people in their forties have defaulted the most on their loans."
   ]
  },
  {
   "cell_type": "code",
   "execution_count": 33,
   "metadata": {},
   "outputs": [],
   "source": [
    "#3 How is monthly income related to delinquency?"
   ]
  },
  {
   "cell_type": "code",
   "execution_count": 8,
   "metadata": {},
   "outputs": [],
   "source": [
    "income_count=train_data[['MonthlyIncome','SeriousDlqin2yrs']].groupby(['MonthlyIncome','SeriousDlqin2yrs']).size().reset_index()\n",
    "income_count.columns=['MonthlyIncome','SeriousDlqin2yrs','count']"
   ]
  },
  {
   "cell_type": "code",
   "execution_count": 9,
   "metadata": {},
   "outputs": [
    {
     "data": {
      "text/plain": [
       "<matplotlib.axes._subplots.AxesSubplot at 0x1f09dc2dc50>"
      ]
     },
     "execution_count": 9,
     "metadata": {},
     "output_type": "execute_result"
    },
    {
     "data": {
      "image/png": "[encoded data removed]",
      "text/plain": [
       "<matplotlib.figure.Figure at 0x1f09dc2d7b8>"
      ]
     },
     "metadata": {},
     "output_type": "display_data"
    }
   ],
   "source": [
    "#sns.distplot(income_count[income_count.SeriousDlqin2yrs ==0]['MonthlyIncome'], color='b')\n",
    "sns.distplot(income_count[income_count.SeriousDlqin2yrs ==1]['MonthlyIncome'], color='r')"
   ]
  },
  {
   "cell_type": "markdown",
   "metadata": {},
   "source": [
    "Null Hypothesis: Monthly income does not affect whether the person would be delinquent or not.\n",
    "Alternate Hypothesis: Monthly income does affect whether the person would be delinquent or not."
   ]
  },
  {
   "cell_type": "code",
   "execution_count": 10,
   "metadata": {},
   "outputs": [
    {
     "data": {
      "text/plain": [
       "Ttest_indResult(statistic=-5.59675246930332, pvalue=2.218825771826394e-08)"
      ]
     },
     "execution_count": 10,
     "metadata": {},
     "output_type": "execute_result"
    }
   ],
   "source": [
    "stats.ttest_ind(income_count[income_count.SeriousDlqin2yrs==1]['MonthlyIncome'],income_count[income_count.SeriousDlqin2yrs==0]['MonthlyIncome'] )"
   ]
  },
  {
   "cell_type": "code",
   "execution_count": 22,
   "metadata": {},
   "outputs": [],
   "source": [
    "#4 How DebtRatio affect delinquency of a person?"
   ]
  },
  {
   "cell_type": "code",
   "execution_count": 31,
   "metadata": {},
   "outputs": [
    {
     "data": {
      "text/plain": [
       "Text(0.5,0,'Debt Ratio')"
      ]
     },
     "execution_count": 31,
     "metadata": {},
     "output_type": "execute_result"
    },
    {
     "data": {
      "image/png": "[encoded data removed]",
      "text/plain": [
       "<matplotlib.figure.Figure at 0x229361c5198>"
      ]
     },
     "metadata": {},
     "output_type": "display_data"
    }
   ],
   "source": [
    "plt.scatter(train_data['DebtRatio'],train_data['SeriousDlqin2yrs'])\n",
    "plt.ylabel('SeriousDlqin2yrs')\n",
    "plt.xlabel('Debt Ratio')"
   ]
  },
  {
   "cell_type": "code",
   "execution_count": 33,
   "metadata": {},
   "outputs": [
    {
     "data": {
      "text/plain": [
       "Text(0.5,0,'RevolvingUtilizationOfUnsecuredLines')"
      ]
     },
     "execution_count": 33,
     "metadata": {},
     "output_type": "execute_result"
    },
    {
     "data": {
      "image/png": "[encoded data removed]",
      "text/plain": [
       "<matplotlib.figure.Figure at 0x22936010fd0>"
      ]
     },
     "metadata": {},
     "output_type": "display_data"
    }
   ],
   "source": [
    "plt.scatter(train_data['RevolvingUtilizationOfUnsecuredLines'],train_data['SeriousDlqin2yrs'])\n",
    "plt.ylabel('SeriousDlqin2yrs')\n",
    "plt.xlabel('RevolvingUtilizationOfUnsecuredLines')"
   ]
  },
  {
   "cell_type": "code",
   "execution_count": 34,
   "metadata": {},
   "outputs": [
    {
     "data": {
      "text/plain": [
       "<matplotlib.collections.PathCollection at 0x22937e08f60>"
      ]
     },
     "execution_count": 34,
     "metadata": {},
     "output_type": "execute_result"
    },
    {
     "data": {
      "image/png": "[encoded data removed]",
      "text/plain": [
       "<matplotlib.figure.Figure at 0x22937c1e080>"
      ]
     },
     "metadata": {},
     "output_type": "display_data"
    }
   ],
   "source": [
    "plt.scatter(train_data['NumberOfTime30-59DaysPastDueNotWorse'],train_data['SeriousDlqin2yrs'])"
   ]
  },
  {
   "cell_type": "code",
   "execution_count": 12,
   "metadata": {},
   "outputs": [
    {
     "data": {
      "text/plain": [
       "98"
      ]
     },
     "execution_count": 12,
     "metadata": {},
     "output_type": "execute_result"
    }
   ],
   "source": [
    "train_data['NumberOfTime30-59DaysPastDueNotWorse'].max()"
   ]
  },
  {
   "cell_type": "code",
   "execution_count": 36,
   "metadata": {},
   "outputs": [
    {
     "data": {
      "text/plain": [
       "<matplotlib.collections.PathCollection at 0x22936288cf8>"
      ]
     },
     "execution_count": 36,
     "metadata": {},
     "output_type": "execute_result"
    },
    {
     "data": {
      "image/png": "[encoded data removed]",
      "text/plain": [
       "<matplotlib.figure.Figure at 0x229380e7be0>"
      ]
     },
     "metadata": {},
     "output_type": "display_data"
    }
   ],
   "source": [
    "plt.scatter(train_data['NumberOfOpenCreditLinesAndLoans'],train_data['SeriousDlqin2yrs'])"
   ]
  },
  {
   "cell_type": "code",
   "execution_count": 13,
   "metadata": {},
   "outputs": [],
   "source": [
    "from scipy.stats import pearsonr"
   ]
  },
  {
   "cell_type": "code",
   "execution_count": 14,
   "metadata": {},
   "outputs": [
    {
     "name": "stdout",
     "output_type": "stream",
     "text": [
      "Unnamed: 0\n",
      "(0.00286295955523407, 0.27386162621416343)\n",
      "SeriousDlqin2yrs\n",
      "(1.0, 0.0)\n",
      "RevolvingUtilizationOfUnsecuredLines\n",
      "(-0.00160080970499169, 0.540654959004689)\n",
      "age\n",
      "(-0.11390677528472706, 0.0)\n",
      "NumberOfTime30-59DaysPastDueNotWorse\n",
      "(0.1270843069960124, 0.0)\n",
      "DebtRatio\n",
      "(-0.007746637392831056, 0.0030686564845941668)\n",
      "MonthlyIncome\n",
      "(-0.018170150506306444, 3.781242228693798e-12)\n",
      "NumberOfOpenCreditLinesAndLoans\n",
      "(-0.03147750135258377, 2.3677110242679355e-33)\n",
      "NumberOfTimes90DaysLate\n",
      "(0.11814843148889632, 0.0)\n",
      "NumberRealEstateLoansOrLines\n",
      "(-0.008378869667640391, 0.0013627645074222642)\n",
      "NumberOfTime60-89DaysPastDueNotWorse\n",
      "(0.10239748216961213, 0.0)\n",
      "NumberOfDependents\n",
      "(0.046047943522171265, 2.1137912590682112e-69)\n"
     ]
    }
   ],
   "source": [
    "for att in train_data.columns:\n",
    "    print(att)\n",
    "    print(pearsonr(train_data[att],train_data['SeriousDlqin2yrs']))"
   ]
  },
  {
   "cell_type": "code",
   "execution_count": null,
   "metadata": {},
   "outputs": [],
   "source": []
  },
  {
   "cell_type": "code",
   "execution_count": 21,
   "metadata": {},
   "outputs": [
    {
     "name": "stdout",
     "output_type": "stream",
     "text": [
      "RevolvingUtilizationOfUnsecuredLines\n",
      "0.000000    10878\n",
      "1.000000    10256\n",
      "1.000000       17\n",
      "0.950100        8\n",
      "0.713147        6\n",
      "0.007984        6\n",
      "0.954092        6\n",
      "0.796407        5\n",
      "0.850299        5\n",
      "0.538922        5\n",
      "1.003322        5\n",
      "0.717131        5\n",
      "0.994012        5\n",
      "0.046048        5\n",
      "0.582834        5\n",
      "0.988024        5\n",
      "0.004999        5\n",
      "0.962076        4\n",
      "0.003650        4\n",
      "0.076923        4\n",
      "0.932136        4\n",
      "0.846307        4\n",
      "0.930233        4\n",
      "0.037498        4\n",
      "0.120879        4\n",
      "0.996400        4\n",
      "0.001000        4\n",
      "0.992016        4\n",
      "0.948207        4\n",
      "0.035964        4\n",
      "            ...  \n",
      "0.185457        1\n",
      "0.240394        1\n",
      "0.103126        1\n",
      "0.009586        1\n",
      "0.007483        1\n",
      "0.243720        1\n",
      "0.625282        1\n",
      "0.264277        1\n",
      "0.107940        1\n",
      "0.478457        1\n",
      "0.047742        1\n",
      "0.133503        1\n",
      "0.972451        1\n",
      "0.110805        1\n",
      "0.013018        1\n",
      "0.022324        1\n",
      "0.217510        1\n",
      "0.020559        1\n",
      "0.159196        1\n",
      "0.371764        1\n",
      "0.237108        1\n",
      "0.924179        1\n",
      "0.364635        1\n",
      "0.009577        1\n",
      "0.007792        1\n",
      "0.486200        1\n",
      "0.039377        1\n",
      "0.030780        1\n",
      "0.355181        1\n",
      "0.168611        1\n",
      "Name: RevolvingUtilizationOfUnsecuredLines, Length: 125728, dtype: int64\n",
      "age\n",
      "49     3837\n",
      "48     3806\n",
      "50     3753\n",
      "63     3719\n",
      "47     3719\n",
      "46     3714\n",
      "53     3648\n",
      "51     3627\n",
      "52     3609\n",
      "56     3589\n",
      "62     3568\n",
      "54     3561\n",
      "61     3522\n",
      "45     3502\n",
      "58     3443\n",
      "55     3416\n",
      "57     3375\n",
      "44     3294\n",
      "59     3280\n",
      "60     3258\n",
      "43     3208\n",
      "41     3122\n",
      "40     3093\n",
      "42     3082\n",
      "64     3058\n",
      "39     2987\n",
      "38     2631\n",
      "65     2594\n",
      "37     2521\n",
      "67     2503\n",
      "       ... \n",
      "24      816\n",
      "81      774\n",
      "82      647\n",
      "23      641\n",
      "83      512\n",
      "85      483\n",
      "84      480\n",
      "22      434\n",
      "86      407\n",
      "87      357\n",
      "88      313\n",
      "89      276\n",
      "90      198\n",
      "21      183\n",
      "91      154\n",
      "92       93\n",
      "93       87\n",
      "94       47\n",
      "95       45\n",
      "96       18\n",
      "97       17\n",
      "99        9\n",
      "98        6\n",
      "103       3\n",
      "102       3\n",
      "101       3\n",
      "109       2\n",
      "107       1\n",
      "105       1\n",
      "0         1\n",
      "Name: age, Length: 86, dtype: int64\n",
      "NumberOfTime30-59DaysPastDueNotWorse\n",
      "0     126018\n",
      "1      16033\n",
      "2       4598\n",
      "3       1754\n",
      "4        747\n",
      "5        342\n",
      "98       264\n",
      "6        140\n",
      "7         54\n",
      "8         25\n",
      "9         12\n",
      "96         5\n",
      "10         4\n",
      "12         2\n",
      "13         1\n",
      "11         1\n",
      "Name: NumberOfTime30-59DaysPastDueNotWorse, dtype: int64\n",
      "DebtRatio\n",
      "0.000000     4113\n",
      "1.000000      229\n",
      "4.000000      174\n",
      "2.000000      170\n",
      "3.000000      162\n",
      "5.000000      143\n",
      "9.000000      125\n",
      "10.000000     117\n",
      "7.000000      115\n",
      "13.000000     114\n",
      "6.000000      112\n",
      "11.000000     108\n",
      "8.000000      106\n",
      "12.000000     102\n",
      "14.000000     101\n",
      "21.000000      99\n",
      "15.000000      98\n",
      "19.000000      91\n",
      "16.000000      86\n",
      "18.000000      83\n",
      "20.000000      83\n",
      "28.000000      80\n",
      "24.000000      79\n",
      "30.000000      78\n",
      "25.000000      78\n",
      "22.000000      78\n",
      "29.000000      77\n",
      "27.000000      76\n",
      "23.000000      70\n",
      "26.000000      69\n",
      "             ... \n",
      "0.474797        1\n",
      "0.508349        1\n",
      "0.210872        1\n",
      "0.074325        1\n",
      "0.294245        1\n",
      "0.230446        1\n",
      "0.435326        1\n",
      "0.607805        1\n",
      "0.339040        1\n",
      "0.558307        1\n",
      "0.384478        1\n",
      "1.366861        1\n",
      "0.275018        1\n",
      "0.909718        1\n",
      "0.278574        1\n",
      "0.610896        1\n",
      "0.271490        1\n",
      "0.336025        1\n",
      "0.378557        1\n",
      "0.123922        1\n",
      "0.275182        1\n",
      "0.174031        1\n",
      "0.359255        1\n",
      "0.640236        1\n",
      "0.566348        1\n",
      "0.367271        1\n",
      "0.037634        1\n",
      "0.755290        1\n",
      "0.457568        1\n",
      "0.656276        1\n",
      "Name: DebtRatio, Length: 114194, dtype: int64\n",
      "MonthlyIncome\n",
      "6670.221237     29731\n",
      "5000.000000      2757\n",
      "4000.000000      2106\n",
      "6000.000000      1934\n",
      "3000.000000      1758\n",
      "0.000000         1634\n",
      "2500.000000      1551\n",
      "10000.000000     1466\n",
      "3500.000000      1360\n",
      "4500.000000      1226\n",
      "7000.000000      1223\n",
      "8000.000000      1127\n",
      "2000.000000      1116\n",
      "7500.000000      1051\n",
      "10500.000000     1013\n",
      "5500.000000       897\n",
      "6500.000000       841\n",
      "9000.000000       763\n",
      "1.000000          605\n",
      "3200.000000       584\n",
      "6250.000000       570\n",
      "4200.000000       569\n",
      "4166.000000       554\n",
      "1500.000000       553\n",
      "12000.000000      547\n",
      "8333.000000       543\n",
      "8500.000000       505\n",
      "3750.000000       504\n",
      "3600.000000       503\n",
      "2400.000000       501\n",
      "                ...  \n",
      "6896.000000         1\n",
      "3057.000000         1\n",
      "20283.000000        1\n",
      "16254.000000        1\n",
      "727.000000          1\n",
      "8405.000000         1\n",
      "28430.000000        1\n",
      "8852.000000         1\n",
      "7462.000000         1\n",
      "10224.000000        1\n",
      "40388.000000        1\n",
      "15667.000000        1\n",
      "6899.000000         1\n",
      "10099.000000        1\n",
      "30500.000000        1\n",
      "10101.000000        1\n",
      "25808.000000        1\n",
      "14803.000000        1\n",
      "9329.000000         1\n",
      "14214.000000        1\n",
      "16582.000000        1\n",
      "10105.000000        1\n",
      "11637.000000        1\n",
      "595.000000          1\n",
      "16580.000000        1\n",
      "3847.000000         1\n",
      "10113.000000        1\n",
      "14210.000000        1\n",
      "13023.000000        1\n",
      "1037.000000         1\n",
      "Name: MonthlyIncome, Length: 13595, dtype: int64\n",
      "NumberOfOpenCreditLinesAndLoans\n",
      "6     13614\n",
      "7     13245\n",
      "5     12931\n",
      "8     12562\n",
      "4     11609\n",
      "9     11355\n",
      "10     9624\n",
      "3      9058\n",
      "11     8321\n",
      "12     7005\n",
      "2      6666\n",
      "13     5667\n",
      "14     4546\n",
      "1      4438\n",
      "15     3645\n",
      "16     3000\n",
      "17     2370\n",
      "0      1888\n",
      "18     1874\n",
      "19     1433\n",
      "20     1169\n",
      "21      864\n",
      "22      685\n",
      "23      533\n",
      "24      422\n",
      "25      337\n",
      "26      239\n",
      "27      194\n",
      "28      150\n",
      "29      114\n",
      "30       88\n",
      "31       74\n",
      "32       52\n",
      "33       47\n",
      "34       35\n",
      "35       27\n",
      "36       18\n",
      "38       13\n",
      "40       10\n",
      "39        9\n",
      "45        8\n",
      "43        8\n",
      "42        8\n",
      "37        7\n",
      "48        6\n",
      "41        4\n",
      "54        4\n",
      "49        4\n",
      "46        3\n",
      "52        3\n",
      "51        2\n",
      "56        2\n",
      "57        2\n",
      "50        2\n",
      "47        2\n",
      "44        2\n",
      "53        1\n",
      "58        1\n",
      "Name: NumberOfOpenCreditLinesAndLoans, dtype: int64\n",
      "NumberOfTimes90DaysLate\n",
      "0     141662\n",
      "1       5243\n",
      "2       1555\n",
      "3        667\n",
      "4        291\n",
      "98       264\n",
      "5        131\n",
      "6         80\n",
      "7         38\n",
      "8         21\n",
      "9         19\n",
      "10         8\n",
      "11         5\n",
      "96         5\n",
      "13         4\n",
      "12         2\n",
      "14         2\n",
      "15         2\n",
      "17         1\n",
      "Name: NumberOfTimes90DaysLate, dtype: int64\n",
      "NumberRealEstateLoansOrLines\n",
      "0     56188\n",
      "1     52338\n",
      "2     31522\n",
      "3      6300\n",
      "4      2170\n",
      "5       689\n",
      "6       320\n",
      "7       171\n",
      "8        93\n",
      "9        78\n",
      "10       37\n",
      "11       23\n",
      "12       18\n",
      "13       15\n",
      "14        7\n",
      "15        7\n",
      "16        4\n",
      "17        4\n",
      "25        3\n",
      "18        2\n",
      "19        2\n",
      "20        2\n",
      "23        2\n",
      "32        1\n",
      "21        1\n",
      "26        1\n",
      "29        1\n",
      "54        1\n",
      "Name: NumberRealEstateLoansOrLines, dtype: int64\n",
      "NumberOfTime60-89DaysPastDueNotWorse\n",
      "0     142396\n",
      "1       5731\n",
      "2       1118\n",
      "3        318\n",
      "98       264\n",
      "4        105\n",
      "5         34\n",
      "6         16\n",
      "7          9\n",
      "96         5\n",
      "8          2\n",
      "11         1\n",
      "9          1\n",
      "Name: NumberOfTime60-89DaysPastDueNotWorse, dtype: int64\n",
      "NumberOfDependents\n",
      "0.0     86902\n",
      "1.0     26316\n",
      "2.0     19522\n",
      "3.0      9483\n",
      "4.0      2862\n",
      "5.0       746\n",
      "6.0       158\n",
      "7.0        51\n",
      "8.0        24\n",
      "9.0         5\n",
      "10.0        5\n",
      "13.0        1\n",
      "20.0        1\n",
      "Name: NumberOfDependents, dtype: int64\n"
     ]
    }
   ],
   "source": [
    "for att in train_data.columns[2:]:\n",
    "    print(att)\n",
    "    print(train_data[att].value_counts())"
   ]
  },
  {
   "cell_type": "code",
   "execution_count": 16,
   "metadata": {},
   "outputs": [],
   "source": [
    "train_data.drop(columns=\"RevolvingUtilizationOfUnsecuredLines\",inplace=True)"
   ]
  },
  {
   "cell_type": "code",
   "execution_count": null,
   "metadata": {},
   "outputs": [],
   "source": []
  },
  {
   "cell_type": "markdown",
   "metadata": {},
   "source": [
    "### Predictive Model: Build a model to predict whether or not a person will go delinquent for more than 90 days or not."
   ]
  },
  {
   "cell_type": "code",
   "execution_count": 17,
   "metadata": {},
   "outputs": [
    {
     "data": {
      "text/plain": [
       "LogisticRegression(C=1.0, class_weight=None, dual=False, fit_intercept=True,\n",
       "          intercept_scaling=1, max_iter=100, multi_class='ovr', n_jobs=1,\n",
       "          penalty='l2', random_state=None, solver='liblinear', tol=0.0001,\n",
       "          verbose=0, warm_start=False)"
      ]
     },
     "execution_count": 17,
     "metadata": {},
     "output_type": "execute_result"
    }
   ],
   "source": [
    "from sklearn.linear_model import LogisticRegression\n",
    "\n",
    "logreg = LogisticRegression()\n",
    "logreg.fit( train_data.iloc[:,2:], train_data['SeriousDlqin2yrs'] )"
   ]
  },
  {
   "cell_type": "code",
   "execution_count": 30,
   "metadata": {},
   "outputs": [],
   "source": [
    "y_pred=logreg.predict(test_data)"
   ]
  },
  {
   "cell_type": "code",
   "execution_count": 18,
   "metadata": {},
   "outputs": [
    {
     "data": {
      "text/html": [
       "<div>\n",
       "<style scoped>\n",
       "    .dataframe tbody tr th:only-of-type {\n",
       "        vertical-align: middle;\n",
       "    }\n",
       "\n",
       "    .dataframe tbody tr th {\n",
       "        vertical-align: top;\n",
       "    }\n",
       "\n",
       "    .dataframe thead th {\n",
       "        text-align: right;\n",
       "    }\n",
       "</style>\n",
       "<table border=\"1\" class=\"dataframe\">\n",
       "  <thead>\n",
       "    <tr style=\"text-align: right;\">\n",
       "      <th></th>\n",
       "      <th>Unnamed: 0</th>\n",
       "      <th>SeriousDlqin2yrs</th>\n",
       "      <th>RevolvingUtilizationOfUnsecuredLines</th>\n",
       "      <th>age</th>\n",
       "      <th>NumberOfTime30-59DaysPastDueNotWorse</th>\n",
       "      <th>DebtRatio</th>\n",
       "      <th>MonthlyIncome</th>\n",
       "      <th>NumberOfOpenCreditLinesAndLoans</th>\n",
       "      <th>NumberOfTimes90DaysLate</th>\n",
       "      <th>NumberRealEstateLoansOrLines</th>\n",
       "      <th>NumberOfTime60-89DaysPastDueNotWorse</th>\n",
       "      <th>NumberOfDependents</th>\n",
       "    </tr>\n",
       "  </thead>\n",
       "  <tbody>\n",
       "    <tr>\n",
       "      <th>0</th>\n",
       "      <td>1</td>\n",
       "      <td>NaN</td>\n",
       "      <td>0.885519</td>\n",
       "      <td>43</td>\n",
       "      <td>0</td>\n",
       "      <td>0.177513</td>\n",
       "      <td>5700.0</td>\n",
       "      <td>4</td>\n",
       "      <td>0</td>\n",
       "      <td>0</td>\n",
       "      <td>0</td>\n",
       "      <td>0.0</td>\n",
       "    </tr>\n",
       "    <tr>\n",
       "      <th>1</th>\n",
       "      <td>2</td>\n",
       "      <td>NaN</td>\n",
       "      <td>0.463295</td>\n",
       "      <td>57</td>\n",
       "      <td>0</td>\n",
       "      <td>0.527237</td>\n",
       "      <td>9141.0</td>\n",
       "      <td>15</td>\n",
       "      <td>0</td>\n",
       "      <td>4</td>\n",
       "      <td>0</td>\n",
       "      <td>2.0</td>\n",
       "    </tr>\n",
       "    <tr>\n",
       "      <th>2</th>\n",
       "      <td>3</td>\n",
       "      <td>NaN</td>\n",
       "      <td>0.043275</td>\n",
       "      <td>59</td>\n",
       "      <td>0</td>\n",
       "      <td>0.687648</td>\n",
       "      <td>5083.0</td>\n",
       "      <td>12</td>\n",
       "      <td>0</td>\n",
       "      <td>1</td>\n",
       "      <td>0</td>\n",
       "      <td>2.0</td>\n",
       "    </tr>\n",
       "    <tr>\n",
       "      <th>3</th>\n",
       "      <td>4</td>\n",
       "      <td>NaN</td>\n",
       "      <td>0.280308</td>\n",
       "      <td>38</td>\n",
       "      <td>1</td>\n",
       "      <td>0.925961</td>\n",
       "      <td>3200.0</td>\n",
       "      <td>7</td>\n",
       "      <td>0</td>\n",
       "      <td>2</td>\n",
       "      <td>0</td>\n",
       "      <td>0.0</td>\n",
       "    </tr>\n",
       "    <tr>\n",
       "      <th>4</th>\n",
       "      <td>5</td>\n",
       "      <td>NaN</td>\n",
       "      <td>1.000000</td>\n",
       "      <td>27</td>\n",
       "      <td>0</td>\n",
       "      <td>0.019917</td>\n",
       "      <td>3865.0</td>\n",
       "      <td>4</td>\n",
       "      <td>0</td>\n",
       "      <td>0</td>\n",
       "      <td>0</td>\n",
       "      <td>1.0</td>\n",
       "    </tr>\n",
       "  </tbody>\n",
       "</table>\n",
       "</div>"
      ],
      "text/plain": [
       "   Unnamed: 0  SeriousDlqin2yrs  RevolvingUtilizationOfUnsecuredLines  age  \\\n",
       "0           1               NaN                              0.885519   43   \n",
       "1           2               NaN                              0.463295   57   \n",
       "2           3               NaN                              0.043275   59   \n",
       "3           4               NaN                              0.280308   38   \n",
       "4           5               NaN                              1.000000   27   \n",
       "\n",
       "   NumberOfTime30-59DaysPastDueNotWorse  DebtRatio  MonthlyIncome  \\\n",
       "0                                     0   0.177513         5700.0   \n",
       "1                                     0   0.527237         9141.0   \n",
       "2                                     0   0.687648         5083.0   \n",
       "3                                     1   0.925961         3200.0   \n",
       "4                                     0   0.019917         3865.0   \n",
       "\n",
       "   NumberOfOpenCreditLinesAndLoans  NumberOfTimes90DaysLate  \\\n",
       "0                                4                        0   \n",
       "1                               15                        0   \n",
       "2                               12                        0   \n",
       "3                                7                        0   \n",
       "4                                4                        0   \n",
       "\n",
       "   NumberRealEstateLoansOrLines  NumberOfTime60-89DaysPastDueNotWorse  \\\n",
       "0                             0                                     0   \n",
       "1                             4                                     0   \n",
       "2                             1                                     0   \n",
       "3                             2                                     0   \n",
       "4                             0                                     0   \n",
       "\n",
       "   NumberOfDependents  \n",
       "0                 0.0  \n",
       "1                 2.0  \n",
       "2                 2.0  \n",
       "3                 0.0  \n",
       "4                 1.0  "
      ]
     },
     "execution_count": 18,
     "metadata": {},
     "output_type": "execute_result"
    }
   ],
   "source": [
    "test_data=pd.read_csv('cs-test.csv')\n",
    "test_data.head()"
   ]
  },
  {
   "cell_type": "code",
   "execution_count": 19,
   "metadata": {},
   "outputs": [
    {
     "data": {
      "text/html": [
       "<div>\n",
       "<style scoped>\n",
       "    .dataframe tbody tr th:only-of-type {\n",
       "        vertical-align: middle;\n",
       "    }\n",
       "\n",
       "    .dataframe tbody tr th {\n",
       "        vertical-align: top;\n",
       "    }\n",
       "\n",
       "    .dataframe thead th {\n",
       "        text-align: right;\n",
       "    }\n",
       "</style>\n",
       "<table border=\"1\" class=\"dataframe\">\n",
       "  <thead>\n",
       "    <tr style=\"text-align: right;\">\n",
       "      <th></th>\n",
       "      <th>Id</th>\n",
       "      <th>Probability</th>\n",
       "    </tr>\n",
       "  </thead>\n",
       "  <tbody>\n",
       "    <tr>\n",
       "      <th>0</th>\n",
       "      <td>1</td>\n",
       "      <td>0.080807</td>\n",
       "    </tr>\n",
       "    <tr>\n",
       "      <th>1</th>\n",
       "      <td>2</td>\n",
       "      <td>0.040719</td>\n",
       "    </tr>\n",
       "    <tr>\n",
       "      <th>2</th>\n",
       "      <td>3</td>\n",
       "      <td>0.011968</td>\n",
       "    </tr>\n",
       "    <tr>\n",
       "      <th>3</th>\n",
       "      <td>4</td>\n",
       "      <td>0.067640</td>\n",
       "    </tr>\n",
       "    <tr>\n",
       "      <th>4</th>\n",
       "      <td>5</td>\n",
       "      <td>0.108264</td>\n",
       "    </tr>\n",
       "  </tbody>\n",
       "</table>\n",
       "</div>"
      ],
      "text/plain": [
       "   Id  Probability\n",
       "0   1     0.080807\n",
       "1   2     0.040719\n",
       "2   3     0.011968\n",
       "3   4     0.067640\n",
       "4   5     0.108264"
      ]
     },
     "execution_count": 19,
     "metadata": {},
     "output_type": "execute_result"
    }
   ],
   "source": [
    "pred_test=pd.read_csv('sampleEntry.csv')\n",
    "pred_test.head()"
   ]
  },
  {
   "cell_type": "code",
   "execution_count": null,
   "metadata": {},
   "outputs": [],
   "source": [
    "#Data Pre-processing on the test data."
   ]
  },
  {
   "cell_type": "code",
   "execution_count": 20,
   "metadata": {},
   "outputs": [
    {
     "data": {
      "text/html": [
       "<div>\n",
       "<style scoped>\n",
       "    .dataframe tbody tr th:only-of-type {\n",
       "        vertical-align: middle;\n",
       "    }\n",
       "\n",
       "    .dataframe tbody tr th {\n",
       "        vertical-align: top;\n",
       "    }\n",
       "\n",
       "    .dataframe thead th {\n",
       "        text-align: right;\n",
       "    }\n",
       "</style>\n",
       "<table border=\"1\" class=\"dataframe\">\n",
       "  <thead>\n",
       "    <tr style=\"text-align: right;\">\n",
       "      <th></th>\n",
       "      <th>Total</th>\n",
       "      <th>Percent</th>\n",
       "    </tr>\n",
       "  </thead>\n",
       "  <tbody>\n",
       "    <tr>\n",
       "      <th>SeriousDlqin2yrs</th>\n",
       "      <td>101503</td>\n",
       "      <td>100.000000</td>\n",
       "    </tr>\n",
       "    <tr>\n",
       "      <th>MonthlyIncome</th>\n",
       "      <td>20103</td>\n",
       "      <td>19.805326</td>\n",
       "    </tr>\n",
       "    <tr>\n",
       "      <th>NumberOfDependents</th>\n",
       "      <td>2626</td>\n",
       "      <td>2.587116</td>\n",
       "    </tr>\n",
       "    <tr>\n",
       "      <th>NumberOfTime60-89DaysPastDueNotWorse</th>\n",
       "      <td>0</td>\n",
       "      <td>0.000000</td>\n",
       "    </tr>\n",
       "    <tr>\n",
       "      <th>NumberRealEstateLoansOrLines</th>\n",
       "      <td>0</td>\n",
       "      <td>0.000000</td>\n",
       "    </tr>\n",
       "    <tr>\n",
       "      <th>NumberOfTimes90DaysLate</th>\n",
       "      <td>0</td>\n",
       "      <td>0.000000</td>\n",
       "    </tr>\n",
       "    <tr>\n",
       "      <th>NumberOfOpenCreditLinesAndLoans</th>\n",
       "      <td>0</td>\n",
       "      <td>0.000000</td>\n",
       "    </tr>\n",
       "    <tr>\n",
       "      <th>DebtRatio</th>\n",
       "      <td>0</td>\n",
       "      <td>0.000000</td>\n",
       "    </tr>\n",
       "    <tr>\n",
       "      <th>NumberOfTime30-59DaysPastDueNotWorse</th>\n",
       "      <td>0</td>\n",
       "      <td>0.000000</td>\n",
       "    </tr>\n",
       "    <tr>\n",
       "      <th>age</th>\n",
       "      <td>0</td>\n",
       "      <td>0.000000</td>\n",
       "    </tr>\n",
       "    <tr>\n",
       "      <th>RevolvingUtilizationOfUnsecuredLines</th>\n",
       "      <td>0</td>\n",
       "      <td>0.000000</td>\n",
       "    </tr>\n",
       "    <tr>\n",
       "      <th>Unnamed: 0</th>\n",
       "      <td>0</td>\n",
       "      <td>0.000000</td>\n",
       "    </tr>\n",
       "  </tbody>\n",
       "</table>\n",
       "</div>"
      ],
      "text/plain": [
       "                                       Total     Percent\n",
       "SeriousDlqin2yrs                      101503  100.000000\n",
       "MonthlyIncome                          20103   19.805326\n",
       "NumberOfDependents                      2626    2.587116\n",
       "NumberOfTime60-89DaysPastDueNotWorse       0    0.000000\n",
       "NumberRealEstateLoansOrLines               0    0.000000\n",
       "NumberOfTimes90DaysLate                    0    0.000000\n",
       "NumberOfOpenCreditLinesAndLoans            0    0.000000\n",
       "DebtRatio                                  0    0.000000\n",
       "NumberOfTime30-59DaysPastDueNotWorse       0    0.000000\n",
       "age                                        0    0.000000\n",
       "RevolvingUtilizationOfUnsecuredLines       0    0.000000\n",
       "Unnamed: 0                                 0    0.000000"
      ]
     },
     "execution_count": 20,
     "metadata": {},
     "output_type": "execute_result"
    }
   ],
   "source": [
    "total = test_data.isnull().sum(axis=0).sort_values(ascending=False)\n",
    "percent = ((test_data.isnull().sum(axis=0)/test_data.isnull().count(axis=0))*100).sort_values(ascending=False)\n",
    "\n",
    "# count the number of null values in the column and their perecentage of the total data\n",
    "missing_data_columns = pd.concat([total, percent], axis=1, keys=['Total', 'Percent'])\n",
    "missing_data_columns.head(20)"
   ]
  },
  {
   "cell_type": "code",
   "execution_count": 21,
   "metadata": {},
   "outputs": [],
   "source": [
    "imp_mean = Imputer(missing_values = 'NaN', strategy='mean')\n",
    "imp_mean.fit(test_data[['MonthlyIncome']])\n",
    "test_data['MonthlyIncome'] = imp_mean.transform(test_data[['MonthlyIncome']])"
   ]
  },
  {
   "cell_type": "code",
   "execution_count": 22,
   "metadata": {},
   "outputs": [],
   "source": [
    "test_data=test_data.drop('SeriousDlqin2yrs',axis=1)"
   ]
  },
  {
   "cell_type": "code",
   "execution_count": 23,
   "metadata": {},
   "outputs": [],
   "source": [
    "test_data.drop('Unnamed: 0',axis=1,inplace=True)"
   ]
  },
  {
   "cell_type": "code",
   "execution_count": 24,
   "metadata": {},
   "outputs": [],
   "source": [
    "remove_index=test_data[test_data['NumberOfDependents'].isnull()].index"
   ]
  },
  {
   "cell_type": "code",
   "execution_count": 25,
   "metadata": {},
   "outputs": [
    {
     "data": {
      "text/plain": [
       "Int64Index([    46,     80,    198,    238,    250,    320,    329,    364,\n",
       "               453,    592,\n",
       "            ...\n",
       "            100955, 101035, 101082, 101103, 101138, 101145, 101388, 101431,\n",
       "            101460, 101500],\n",
       "           dtype='int64', length=2626)"
      ]
     },
     "execution_count": 25,
     "metadata": {},
     "output_type": "execute_result"
    }
   ],
   "source": [
    "remove_index"
   ]
  },
  {
   "cell_type": "code",
   "execution_count": 26,
   "metadata": {},
   "outputs": [
    {
     "data": {
      "text/plain": [
       "(98877, 10)"
      ]
     },
     "execution_count": 26,
     "metadata": {},
     "output_type": "execute_result"
    }
   ],
   "source": [
    "test_data = test_data.copy().dropna(how='any')\n",
    "test_data.shape"
   ]
  },
  {
   "cell_type": "code",
   "execution_count": 27,
   "metadata": {},
   "outputs": [
    {
     "data": {
      "text/html": [
       "<div>\n",
       "<style scoped>\n",
       "    .dataframe tbody tr th:only-of-type {\n",
       "        vertical-align: middle;\n",
       "    }\n",
       "\n",
       "    .dataframe tbody tr th {\n",
       "        vertical-align: top;\n",
       "    }\n",
       "\n",
       "    .dataframe thead th {\n",
       "        text-align: right;\n",
       "    }\n",
       "</style>\n",
       "<table border=\"1\" class=\"dataframe\">\n",
       "  <thead>\n",
       "    <tr style=\"text-align: right;\">\n",
       "      <th></th>\n",
       "      <th>Total</th>\n",
       "      <th>Percent</th>\n",
       "    </tr>\n",
       "  </thead>\n",
       "  <tbody>\n",
       "    <tr>\n",
       "      <th>NumberOfDependents</th>\n",
       "      <td>0</td>\n",
       "      <td>0.0</td>\n",
       "    </tr>\n",
       "    <tr>\n",
       "      <th>NumberOfTime60-89DaysPastDueNotWorse</th>\n",
       "      <td>0</td>\n",
       "      <td>0.0</td>\n",
       "    </tr>\n",
       "    <tr>\n",
       "      <th>NumberRealEstateLoansOrLines</th>\n",
       "      <td>0</td>\n",
       "      <td>0.0</td>\n",
       "    </tr>\n",
       "    <tr>\n",
       "      <th>NumberOfTimes90DaysLate</th>\n",
       "      <td>0</td>\n",
       "      <td>0.0</td>\n",
       "    </tr>\n",
       "    <tr>\n",
       "      <th>NumberOfOpenCreditLinesAndLoans</th>\n",
       "      <td>0</td>\n",
       "      <td>0.0</td>\n",
       "    </tr>\n",
       "    <tr>\n",
       "      <th>MonthlyIncome</th>\n",
       "      <td>0</td>\n",
       "      <td>0.0</td>\n",
       "    </tr>\n",
       "    <tr>\n",
       "      <th>DebtRatio</th>\n",
       "      <td>0</td>\n",
       "      <td>0.0</td>\n",
       "    </tr>\n",
       "    <tr>\n",
       "      <th>NumberOfTime30-59DaysPastDueNotWorse</th>\n",
       "      <td>0</td>\n",
       "      <td>0.0</td>\n",
       "    </tr>\n",
       "    <tr>\n",
       "      <th>age</th>\n",
       "      <td>0</td>\n",
       "      <td>0.0</td>\n",
       "    </tr>\n",
       "    <tr>\n",
       "      <th>RevolvingUtilizationOfUnsecuredLines</th>\n",
       "      <td>0</td>\n",
       "      <td>0.0</td>\n",
       "    </tr>\n",
       "  </tbody>\n",
       "</table>\n",
       "</div>"
      ],
      "text/plain": [
       "                                      Total  Percent\n",
       "NumberOfDependents                        0      0.0\n",
       "NumberOfTime60-89DaysPastDueNotWorse      0      0.0\n",
       "NumberRealEstateLoansOrLines              0      0.0\n",
       "NumberOfTimes90DaysLate                   0      0.0\n",
       "NumberOfOpenCreditLinesAndLoans           0      0.0\n",
       "MonthlyIncome                             0      0.0\n",
       "DebtRatio                                 0      0.0\n",
       "NumberOfTime30-59DaysPastDueNotWorse      0      0.0\n",
       "age                                       0      0.0\n",
       "RevolvingUtilizationOfUnsecuredLines      0      0.0"
      ]
     },
     "execution_count": 27,
     "metadata": {},
     "output_type": "execute_result"
    }
   ],
   "source": [
    "total = test_data.isnull().sum(axis=0).sort_values(ascending=False)\n",
    "percent = ((test_data.isnull().sum(axis=0)/test_data.isnull().count(axis=0))*100).sort_values(ascending=False)\n",
    "\n",
    "# count the number of null values in the column and their perecentage of the total data\n",
    "missing_data_columns = pd.concat([total, percent], axis=1, keys=['Total', 'Percent'])\n",
    "missing_data_columns.head(20)"
   ]
  },
  {
   "cell_type": "code",
   "execution_count": 28,
   "metadata": {},
   "outputs": [],
   "source": [
    "pred_test.drop(index=remove_index,axis=0,inplace=True)"
   ]
  },
  {
   "cell_type": "code",
   "execution_count": 29,
   "metadata": {},
   "outputs": [],
   "source": [
    "test_data.drop(columns=\"RevolvingUtilizationOfUnsecuredLines\",inplace=True)"
   ]
  },
  {
   "cell_type": "code",
   "execution_count": 19,
   "metadata": {},
   "outputs": [
    {
     "data": {
      "text/plain": [
       "Index(['RevolvingUtilizationOfUnsecuredLines', 'age',\n",
       "       'NumberOfTime30-59DaysPastDueNotWorse', 'DebtRatio', 'MonthlyIncome',\n",
       "       'NumberOfOpenCreditLinesAndLoans', 'NumberOfTimes90DaysLate',\n",
       "       'NumberRealEstateLoansOrLines', 'NumberOfTime60-89DaysPastDueNotWorse',\n",
       "       'NumberOfDependents'],\n",
       "      dtype='object')"
      ]
     },
     "execution_count": 19,
     "metadata": {},
     "output_type": "execute_result"
    }
   ],
   "source": [
    "test_data.columns"
   ]
  },
  {
   "cell_type": "code",
   "execution_count": 31,
   "metadata": {},
   "outputs": [
    {
     "data": {
      "text/plain": [
       "array([0, 0, 0, ..., 0, 0, 0], dtype=int64)"
      ]
     },
     "execution_count": 31,
     "metadata": {},
     "output_type": "execute_result"
    }
   ],
   "source": [
    "y_pred"
   ]
  },
  {
   "cell_type": "code",
   "execution_count": 32,
   "metadata": {},
   "outputs": [
    {
     "data": {
      "text/plain": [
       "98877"
      ]
     },
     "execution_count": 32,
     "metadata": {},
     "output_type": "execute_result"
    }
   ],
   "source": [
    "len(y_pred)"
   ]
  },
  {
   "cell_type": "code",
   "execution_count": 33,
   "metadata": {},
   "outputs": [],
   "source": [
    "#Converting numpy array to Pandas dataframe object.\n",
    "y_pred_pd=pd.DataFrame(data=y_pred,index=range(len(y_pred)))\n"
   ]
  },
  {
   "cell_type": "code",
   "execution_count": 34,
   "metadata": {},
   "outputs": [],
   "source": [
    "y_pred_pd=y_pred_pd.rename(columns={0:'Predicted_Values'})"
   ]
  },
  {
   "cell_type": "code",
   "execution_count": 35,
   "metadata": {},
   "outputs": [
    {
     "data": {
      "text/html": [
       "<div>\n",
       "<style scoped>\n",
       "    .dataframe tbody tr th:only-of-type {\n",
       "        vertical-align: middle;\n",
       "    }\n",
       "\n",
       "    .dataframe tbody tr th {\n",
       "        vertical-align: top;\n",
       "    }\n",
       "\n",
       "    .dataframe thead th {\n",
       "        text-align: right;\n",
       "    }\n",
       "</style>\n",
       "<table border=\"1\" class=\"dataframe\">\n",
       "  <thead>\n",
       "    <tr style=\"text-align: right;\">\n",
       "      <th></th>\n",
       "      <th>Predicted_Values</th>\n",
       "    </tr>\n",
       "  </thead>\n",
       "  <tbody>\n",
       "    <tr>\n",
       "      <th>0</th>\n",
       "      <td>0</td>\n",
       "    </tr>\n",
       "    <tr>\n",
       "      <th>1</th>\n",
       "      <td>0</td>\n",
       "    </tr>\n",
       "    <tr>\n",
       "      <th>2</th>\n",
       "      <td>0</td>\n",
       "    </tr>\n",
       "    <tr>\n",
       "      <th>3</th>\n",
       "      <td>0</td>\n",
       "    </tr>\n",
       "    <tr>\n",
       "      <th>4</th>\n",
       "      <td>0</td>\n",
       "    </tr>\n",
       "  </tbody>\n",
       "</table>\n",
       "</div>"
      ],
      "text/plain": [
       "   Predicted_Values\n",
       "0                 0\n",
       "1                 0\n",
       "2                 0\n",
       "3                 0\n",
       "4                 0"
      ]
     },
     "execution_count": 35,
     "metadata": {},
     "output_type": "execute_result"
    }
   ],
   "source": [
    "y_pred_pd.head()"
   ]
  },
  {
   "cell_type": "code",
   "execution_count": 36,
   "metadata": {},
   "outputs": [],
   "source": [
    "pred_test['new_labels'] = pred_test['Probability'].map( lambda x: 1 if x >= 0.50 else 0 )"
   ]
  },
  {
   "cell_type": "code",
   "execution_count": 43,
   "metadata": {},
   "outputs": [
    {
     "data": {
      "text/html": [
       "<div>\n",
       "<style scoped>\n",
       "    .dataframe tbody tr th:only-of-type {\n",
       "        vertical-align: middle;\n",
       "    }\n",
       "\n",
       "    .dataframe tbody tr th {\n",
       "        vertical-align: top;\n",
       "    }\n",
       "\n",
       "    .dataframe thead th {\n",
       "        text-align: right;\n",
       "    }\n",
       "</style>\n",
       "<table border=\"1\" class=\"dataframe\">\n",
       "  <thead>\n",
       "    <tr style=\"text-align: right;\">\n",
       "      <th></th>\n",
       "      <th>Id</th>\n",
       "      <th>Probability</th>\n",
       "      <th>new_labels</th>\n",
       "    </tr>\n",
       "  </thead>\n",
       "  <tbody>\n",
       "    <tr>\n",
       "      <th>0</th>\n",
       "      <td>1</td>\n",
       "      <td>0.080807</td>\n",
       "      <td>0</td>\n",
       "    </tr>\n",
       "    <tr>\n",
       "      <th>1</th>\n",
       "      <td>2</td>\n",
       "      <td>0.040719</td>\n",
       "      <td>0</td>\n",
       "    </tr>\n",
       "    <tr>\n",
       "      <th>2</th>\n",
       "      <td>3</td>\n",
       "      <td>0.011968</td>\n",
       "      <td>0</td>\n",
       "    </tr>\n",
       "    <tr>\n",
       "      <th>3</th>\n",
       "      <td>4</td>\n",
       "      <td>0.067640</td>\n",
       "      <td>0</td>\n",
       "    </tr>\n",
       "    <tr>\n",
       "      <th>4</th>\n",
       "      <td>5</td>\n",
       "      <td>0.108264</td>\n",
       "      <td>0</td>\n",
       "    </tr>\n",
       "  </tbody>\n",
       "</table>\n",
       "</div>"
      ],
      "text/plain": [
       "   Id  Probability  new_labels\n",
       "0   1     0.080807           0\n",
       "1   2     0.040719           0\n",
       "2   3     0.011968           0\n",
       "3   4     0.067640           0\n",
       "4   5     0.108264           0"
      ]
     },
     "execution_count": 43,
     "metadata": {},
     "output_type": "execute_result"
    }
   ],
   "source": [
    "pred_test.head()"
   ]
  },
  {
   "cell_type": "code",
   "execution_count": 37,
   "metadata": {},
   "outputs": [
    {
     "data": {
      "text/plain": [
       "array([[  138,  1531],\n",
       "       [   99, 97109]], dtype=int64)"
      ]
     },
     "execution_count": 37,
     "metadata": {},
     "output_type": "execute_result"
    }
   ],
   "source": [
    "#Formation of confusion matrix.\n",
    "from sklearn import metrics\n",
    "\n",
    "cm = metrics.confusion_matrix( pred_test.new_labels,\n",
    "                            y_pred_pd.Predicted_Values , [1,0] )\n",
    "cm"
   ]
  },
  {
   "cell_type": "code",
   "execution_count": 38,
   "metadata": {},
   "outputs": [
    {
     "data": {
      "text/plain": [
       "Text(0.5,15,'Predicted label')"
      ]
     },
     "execution_count": 38,
     "metadata": {},
     "output_type": "execute_result"
    },
    {
     "data": {
      "image/png": "[encoded data removed]",
      "text/plain": [
       "<matplotlib.figure.Figure at 0x1a33a212438>"
      ]
     },
     "metadata": {},
     "output_type": "display_data"
    }
   ],
   "source": [
    "sns.heatmap(cm, annot=True,  fmt='.2f', xticklabels = [\"Delinquent\", \"Not Delinquent\"] , yticklabels = [\"Delinquent\", \"Not Delinquent\"] )\n",
    "plt.ylabel('True label')\n",
    "plt.xlabel('Predicted label')"
   ]
  },
  {
   "cell_type": "code",
   "execution_count": null,
   "metadata": {},
   "outputs": [],
   "source": []
  },
  {
   "cell_type": "code",
   "execution_count": null,
   "metadata": {},
   "outputs": [],
   "source": []
  },
  {
   "cell_type": "code",
   "execution_count": null,
   "metadata": {},
   "outputs": [],
   "source": []
  },
  {
   "cell_type": "code",
   "execution_count": null,
   "metadata": {},
   "outputs": [],
   "source": []
  },
  {
   "cell_type": "code",
   "execution_count": null,
   "metadata": {},
   "outputs": [],
   "source": []
  },
  {
   "cell_type": "markdown",
   "metadata": {},
   "source": [
    "### Building Decision Tree Model."
   ]
  },
  {
   "cell_type": "code",
   "execution_count": 16,
   "metadata": {},
   "outputs": [],
   "source": [
    "import sklearn.tree as dt"
   ]
  },
  {
   "cell_type": "code",
   "execution_count": 17,
   "metadata": {},
   "outputs": [],
   "source": [
    "import sklearn.ensemble as en"
   ]
  },
  {
   "cell_type": "code",
   "execution_count": 18,
   "metadata": {},
   "outputs": [
    {
     "name": "stderr",
     "output_type": "stream",
     "text": [
      "C:\\Users\\adity\\Anaconda3\\lib\\site-packages\\sklearn\\cross_validation.py:41: DeprecationWarning: This module was deprecated in version 0.18 in favor of the model_selection module into which all the refactored classes and functions are moved. Also note that the interface of the new CV iterators are different from that of this module. This module will be removed in 0.20.\n",
      "  \"This module will be removed in 0.20.\", DeprecationWarning)\n",
      "C:\\Users\\adity\\Anaconda3\\lib\\site-packages\\sklearn\\grid_search.py:42: DeprecationWarning: This module was deprecated in version 0.18 in favor of the model_selection module into which all the refactored classes and functions are moved. This module will be removed in 0.20.\n",
      "  DeprecationWarning)\n"
     ]
    }
   ],
   "source": [
    "from sklearn import metrics\n",
    "from sklearn.tree import DecisionTreeClassifier\n",
    "from sklearn.grid_search import GridSearchCV"
   ]
  },
  {
   "cell_type": "code",
   "execution_count": 19,
   "metadata": {},
   "outputs": [
    {
     "data": {
      "text/plain": [
       "DecisionTreeClassifier(class_weight=None, criterion='gini', max_depth=3,\n",
       "            max_features=None, max_leaf_nodes=None,\n",
       "            min_impurity_decrease=0.0, min_impurity_split=None,\n",
       "            min_samples_leaf=1, min_samples_split=2,\n",
       "            min_weight_fraction_leaf=0.0, presort=False, random_state=None,\n",
       "            splitter='best')"
      ]
     },
     "execution_count": 19,
     "metadata": {},
     "output_type": "execute_result"
    }
   ],
   "source": [
    "clf_tree=DecisionTreeClassifier(max_depth=3)\n",
    "clf_tree.fit(train_data.iloc[:,2:], train_data['SeriousDlqin2yrs'])"
   ]
  },
  {
   "cell_type": "code",
   "execution_count": 20,
   "metadata": {},
   "outputs": [
    {
     "data": {
      "text/html": [
       "<div>\n",
       "<style scoped>\n",
       "    .dataframe tbody tr th:only-of-type {\n",
       "        vertical-align: middle;\n",
       "    }\n",
       "\n",
       "    .dataframe tbody tr th {\n",
       "        vertical-align: top;\n",
       "    }\n",
       "\n",
       "    .dataframe thead th {\n",
       "        text-align: right;\n",
       "    }\n",
       "</style>\n",
       "<table border=\"1\" class=\"dataframe\">\n",
       "  <thead>\n",
       "    <tr style=\"text-align: right;\">\n",
       "      <th></th>\n",
       "      <th>0</th>\n",
       "      <th>1</th>\n",
       "    </tr>\n",
       "  </thead>\n",
       "  <tbody>\n",
       "    <tr>\n",
       "      <th>0</th>\n",
       "      <td>0.762383</td>\n",
       "      <td>0.237617</td>\n",
       "    </tr>\n",
       "    <tr>\n",
       "      <th>1</th>\n",
       "      <td>0.911903</td>\n",
       "      <td>0.088097</td>\n",
       "    </tr>\n",
       "    <tr>\n",
       "      <th>2</th>\n",
       "      <td>0.600687</td>\n",
       "      <td>0.399313</td>\n",
       "    </tr>\n",
       "    <tr>\n",
       "      <th>3</th>\n",
       "      <td>0.981770</td>\n",
       "      <td>0.018230</td>\n",
       "    </tr>\n",
       "    <tr>\n",
       "      <th>4</th>\n",
       "      <td>0.762383</td>\n",
       "      <td>0.237617</td>\n",
       "    </tr>\n",
       "    <tr>\n",
       "      <th>5</th>\n",
       "      <td>0.981770</td>\n",
       "      <td>0.018230</td>\n",
       "    </tr>\n",
       "    <tr>\n",
       "      <th>6</th>\n",
       "      <td>0.981770</td>\n",
       "      <td>0.018230</td>\n",
       "    </tr>\n",
       "    <tr>\n",
       "      <th>7</th>\n",
       "      <td>0.911903</td>\n",
       "      <td>0.088097</td>\n",
       "    </tr>\n",
       "    <tr>\n",
       "      <th>8</th>\n",
       "      <td>0.981770</td>\n",
       "      <td>0.018230</td>\n",
       "    </tr>\n",
       "    <tr>\n",
       "      <th>9</th>\n",
       "      <td>0.911903</td>\n",
       "      <td>0.088097</td>\n",
       "    </tr>\n",
       "    <tr>\n",
       "      <th>10</th>\n",
       "      <td>0.981770</td>\n",
       "      <td>0.018230</td>\n",
       "    </tr>\n",
       "    <tr>\n",
       "      <th>11</th>\n",
       "      <td>0.981770</td>\n",
       "      <td>0.018230</td>\n",
       "    </tr>\n",
       "    <tr>\n",
       "      <th>12</th>\n",
       "      <td>0.397808</td>\n",
       "      <td>0.602192</td>\n",
       "    </tr>\n",
       "    <tr>\n",
       "      <th>13</th>\n",
       "      <td>0.981770</td>\n",
       "      <td>0.018230</td>\n",
       "    </tr>\n",
       "    <tr>\n",
       "      <th>14</th>\n",
       "      <td>0.981770</td>\n",
       "      <td>0.018230</td>\n",
       "    </tr>\n",
       "    <tr>\n",
       "      <th>15</th>\n",
       "      <td>0.981770</td>\n",
       "      <td>0.018230</td>\n",
       "    </tr>\n",
       "    <tr>\n",
       "      <th>16</th>\n",
       "      <td>0.981770</td>\n",
       "      <td>0.018230</td>\n",
       "    </tr>\n",
       "    <tr>\n",
       "      <th>17</th>\n",
       "      <td>0.981770</td>\n",
       "      <td>0.018230</td>\n",
       "    </tr>\n",
       "    <tr>\n",
       "      <th>18</th>\n",
       "      <td>0.911903</td>\n",
       "      <td>0.088097</td>\n",
       "    </tr>\n",
       "    <tr>\n",
       "      <th>19</th>\n",
       "      <td>0.981770</td>\n",
       "      <td>0.018230</td>\n",
       "    </tr>\n",
       "    <tr>\n",
       "      <th>20</th>\n",
       "      <td>0.981770</td>\n",
       "      <td>0.018230</td>\n",
       "    </tr>\n",
       "    <tr>\n",
       "      <th>21</th>\n",
       "      <td>0.911903</td>\n",
       "      <td>0.088097</td>\n",
       "    </tr>\n",
       "    <tr>\n",
       "      <th>22</th>\n",
       "      <td>0.981770</td>\n",
       "      <td>0.018230</td>\n",
       "    </tr>\n",
       "    <tr>\n",
       "      <th>23</th>\n",
       "      <td>0.981770</td>\n",
       "      <td>0.018230</td>\n",
       "    </tr>\n",
       "    <tr>\n",
       "      <th>24</th>\n",
       "      <td>0.981770</td>\n",
       "      <td>0.018230</td>\n",
       "    </tr>\n",
       "    <tr>\n",
       "      <th>25</th>\n",
       "      <td>0.981770</td>\n",
       "      <td>0.018230</td>\n",
       "    </tr>\n",
       "    <tr>\n",
       "      <th>26</th>\n",
       "      <td>0.981770</td>\n",
       "      <td>0.018230</td>\n",
       "    </tr>\n",
       "    <tr>\n",
       "      <th>27</th>\n",
       "      <td>0.981770</td>\n",
       "      <td>0.018230</td>\n",
       "    </tr>\n",
       "    <tr>\n",
       "      <th>28</th>\n",
       "      <td>0.914136</td>\n",
       "      <td>0.085864</td>\n",
       "    </tr>\n",
       "    <tr>\n",
       "      <th>29</th>\n",
       "      <td>0.762383</td>\n",
       "      <td>0.237617</td>\n",
       "    </tr>\n",
       "    <tr>\n",
       "      <th>...</th>\n",
       "      <td>...</td>\n",
       "      <td>...</td>\n",
       "    </tr>\n",
       "    <tr>\n",
       "      <th>146046</th>\n",
       "      <td>0.981770</td>\n",
       "      <td>0.018230</td>\n",
       "    </tr>\n",
       "    <tr>\n",
       "      <th>146047</th>\n",
       "      <td>0.981770</td>\n",
       "      <td>0.018230</td>\n",
       "    </tr>\n",
       "    <tr>\n",
       "      <th>146048</th>\n",
       "      <td>0.981770</td>\n",
       "      <td>0.018230</td>\n",
       "    </tr>\n",
       "    <tr>\n",
       "      <th>146049</th>\n",
       "      <td>0.911903</td>\n",
       "      <td>0.088097</td>\n",
       "    </tr>\n",
       "    <tr>\n",
       "      <th>146050</th>\n",
       "      <td>0.762383</td>\n",
       "      <td>0.237617</td>\n",
       "    </tr>\n",
       "    <tr>\n",
       "      <th>146051</th>\n",
       "      <td>0.981770</td>\n",
       "      <td>0.018230</td>\n",
       "    </tr>\n",
       "    <tr>\n",
       "      <th>146052</th>\n",
       "      <td>0.981770</td>\n",
       "      <td>0.018230</td>\n",
       "    </tr>\n",
       "    <tr>\n",
       "      <th>146053</th>\n",
       "      <td>0.981770</td>\n",
       "      <td>0.018230</td>\n",
       "    </tr>\n",
       "    <tr>\n",
       "      <th>146054</th>\n",
       "      <td>0.762383</td>\n",
       "      <td>0.237617</td>\n",
       "    </tr>\n",
       "    <tr>\n",
       "      <th>146055</th>\n",
       "      <td>0.981770</td>\n",
       "      <td>0.018230</td>\n",
       "    </tr>\n",
       "    <tr>\n",
       "      <th>146056</th>\n",
       "      <td>0.981770</td>\n",
       "      <td>0.018230</td>\n",
       "    </tr>\n",
       "    <tr>\n",
       "      <th>146057</th>\n",
       "      <td>0.911903</td>\n",
       "      <td>0.088097</td>\n",
       "    </tr>\n",
       "    <tr>\n",
       "      <th>146058</th>\n",
       "      <td>0.981770</td>\n",
       "      <td>0.018230</td>\n",
       "    </tr>\n",
       "    <tr>\n",
       "      <th>146059</th>\n",
       "      <td>0.981770</td>\n",
       "      <td>0.018230</td>\n",
       "    </tr>\n",
       "    <tr>\n",
       "      <th>146060</th>\n",
       "      <td>0.981770</td>\n",
       "      <td>0.018230</td>\n",
       "    </tr>\n",
       "    <tr>\n",
       "      <th>146061</th>\n",
       "      <td>0.911903</td>\n",
       "      <td>0.088097</td>\n",
       "    </tr>\n",
       "    <tr>\n",
       "      <th>146062</th>\n",
       "      <td>0.981770</td>\n",
       "      <td>0.018230</td>\n",
       "    </tr>\n",
       "    <tr>\n",
       "      <th>146063</th>\n",
       "      <td>0.600687</td>\n",
       "      <td>0.399313</td>\n",
       "    </tr>\n",
       "    <tr>\n",
       "      <th>146064</th>\n",
       "      <td>0.762383</td>\n",
       "      <td>0.237617</td>\n",
       "    </tr>\n",
       "    <tr>\n",
       "      <th>146065</th>\n",
       "      <td>0.981770</td>\n",
       "      <td>0.018230</td>\n",
       "    </tr>\n",
       "    <tr>\n",
       "      <th>146066</th>\n",
       "      <td>0.981770</td>\n",
       "      <td>0.018230</td>\n",
       "    </tr>\n",
       "    <tr>\n",
       "      <th>146067</th>\n",
       "      <td>0.981770</td>\n",
       "      <td>0.018230</td>\n",
       "    </tr>\n",
       "    <tr>\n",
       "      <th>146068</th>\n",
       "      <td>0.911903</td>\n",
       "      <td>0.088097</td>\n",
       "    </tr>\n",
       "    <tr>\n",
       "      <th>146069</th>\n",
       "      <td>0.911903</td>\n",
       "      <td>0.088097</td>\n",
       "    </tr>\n",
       "    <tr>\n",
       "      <th>146070</th>\n",
       "      <td>0.981770</td>\n",
       "      <td>0.018230</td>\n",
       "    </tr>\n",
       "    <tr>\n",
       "      <th>146071</th>\n",
       "      <td>0.981770</td>\n",
       "      <td>0.018230</td>\n",
       "    </tr>\n",
       "    <tr>\n",
       "      <th>146072</th>\n",
       "      <td>0.981770</td>\n",
       "      <td>0.018230</td>\n",
       "    </tr>\n",
       "    <tr>\n",
       "      <th>146073</th>\n",
       "      <td>0.981770</td>\n",
       "      <td>0.018230</td>\n",
       "    </tr>\n",
       "    <tr>\n",
       "      <th>146074</th>\n",
       "      <td>0.981770</td>\n",
       "      <td>0.018230</td>\n",
       "    </tr>\n",
       "    <tr>\n",
       "      <th>146075</th>\n",
       "      <td>0.911903</td>\n",
       "      <td>0.088097</td>\n",
       "    </tr>\n",
       "  </tbody>\n",
       "</table>\n",
       "<p>146076 rows × 2 columns</p>\n",
       "</div>"
      ],
      "text/plain": [
       "               0         1\n",
       "0       0.762383  0.237617\n",
       "1       0.911903  0.088097\n",
       "2       0.600687  0.399313\n",
       "3       0.981770  0.018230\n",
       "4       0.762383  0.237617\n",
       "5       0.981770  0.018230\n",
       "6       0.981770  0.018230\n",
       "7       0.911903  0.088097\n",
       "8       0.981770  0.018230\n",
       "9       0.911903  0.088097\n",
       "10      0.981770  0.018230\n",
       "11      0.981770  0.018230\n",
       "12      0.397808  0.602192\n",
       "13      0.981770  0.018230\n",
       "14      0.981770  0.018230\n",
       "15      0.981770  0.018230\n",
       "16      0.981770  0.018230\n",
       "17      0.981770  0.018230\n",
       "18      0.911903  0.088097\n",
       "19      0.981770  0.018230\n",
       "20      0.981770  0.018230\n",
       "21      0.911903  0.088097\n",
       "22      0.981770  0.018230\n",
       "23      0.981770  0.018230\n",
       "24      0.981770  0.018230\n",
       "25      0.981770  0.018230\n",
       "26      0.981770  0.018230\n",
       "27      0.981770  0.018230\n",
       "28      0.914136  0.085864\n",
       "29      0.762383  0.237617\n",
       "...          ...       ...\n",
       "146046  0.981770  0.018230\n",
       "146047  0.981770  0.018230\n",
       "146048  0.981770  0.018230\n",
       "146049  0.911903  0.088097\n",
       "146050  0.762383  0.237617\n",
       "146051  0.981770  0.018230\n",
       "146052  0.981770  0.018230\n",
       "146053  0.981770  0.018230\n",
       "146054  0.762383  0.237617\n",
       "146055  0.981770  0.018230\n",
       "146056  0.981770  0.018230\n",
       "146057  0.911903  0.088097\n",
       "146058  0.981770  0.018230\n",
       "146059  0.981770  0.018230\n",
       "146060  0.981770  0.018230\n",
       "146061  0.911903  0.088097\n",
       "146062  0.981770  0.018230\n",
       "146063  0.600687  0.399313\n",
       "146064  0.762383  0.237617\n",
       "146065  0.981770  0.018230\n",
       "146066  0.981770  0.018230\n",
       "146067  0.981770  0.018230\n",
       "146068  0.911903  0.088097\n",
       "146069  0.911903  0.088097\n",
       "146070  0.981770  0.018230\n",
       "146071  0.981770  0.018230\n",
       "146072  0.981770  0.018230\n",
       "146073  0.981770  0.018230\n",
       "146074  0.981770  0.018230\n",
       "146075  0.911903  0.088097\n",
       "\n",
       "[146076 rows x 2 columns]"
      ]
     },
     "execution_count": 20,
     "metadata": {},
     "output_type": "execute_result"
    }
   ],
   "source": [
    "pd.DataFrame(clf_tree.predict_proba(train_data.iloc[:,2:])).head()"
   ]
  },
  {
   "cell_type": "code",
   "execution_count": 22,
   "metadata": {},
   "outputs": [],
   "source": [
    "tree_train_pred=pd.DataFrame({'predicted':clf_tree.predict(train_data.iloc[:,2:]),'actual':train_data['SeriousDlqin2yrs']})"
   ]
  },
  {
   "cell_type": "code",
   "execution_count": 23,
   "metadata": {},
   "outputs": [
    {
     "data": {
      "text/html": [
       "<div>\n",
       "<style scoped>\n",
       "    .dataframe tbody tr th:only-of-type {\n",
       "        vertical-align: middle;\n",
       "    }\n",
       "\n",
       "    .dataframe tbody tr th {\n",
       "        vertical-align: top;\n",
       "    }\n",
       "\n",
       "    .dataframe thead th {\n",
       "        text-align: right;\n",
       "    }\n",
       "</style>\n",
       "<table border=\"1\" class=\"dataframe\">\n",
       "  <thead>\n",
       "    <tr style=\"text-align: right;\">\n",
       "      <th></th>\n",
       "      <th>actual</th>\n",
       "      <th>predicted</th>\n",
       "    </tr>\n",
       "  </thead>\n",
       "  <tbody>\n",
       "    <tr>\n",
       "      <th>0</th>\n",
       "      <td>1</td>\n",
       "      <td>0</td>\n",
       "    </tr>\n",
       "    <tr>\n",
       "      <th>1</th>\n",
       "      <td>0</td>\n",
       "      <td>0</td>\n",
       "    </tr>\n",
       "    <tr>\n",
       "      <th>2</th>\n",
       "      <td>0</td>\n",
       "      <td>0</td>\n",
       "    </tr>\n",
       "    <tr>\n",
       "      <th>3</th>\n",
       "      <td>0</td>\n",
       "      <td>0</td>\n",
       "    </tr>\n",
       "    <tr>\n",
       "      <th>4</th>\n",
       "      <td>0</td>\n",
       "      <td>0</td>\n",
       "    </tr>\n",
       "    <tr>\n",
       "      <th>5</th>\n",
       "      <td>0</td>\n",
       "      <td>0</td>\n",
       "    </tr>\n",
       "    <tr>\n",
       "      <th>6</th>\n",
       "      <td>0</td>\n",
       "      <td>0</td>\n",
       "    </tr>\n",
       "    <tr>\n",
       "      <th>7</th>\n",
       "      <td>0</td>\n",
       "      <td>0</td>\n",
       "    </tr>\n",
       "    <tr>\n",
       "      <th>9</th>\n",
       "      <td>0</td>\n",
       "      <td>0</td>\n",
       "    </tr>\n",
       "    <tr>\n",
       "      <th>10</th>\n",
       "      <td>0</td>\n",
       "      <td>0</td>\n",
       "    </tr>\n",
       "    <tr>\n",
       "      <th>11</th>\n",
       "      <td>0</td>\n",
       "      <td>0</td>\n",
       "    </tr>\n",
       "    <tr>\n",
       "      <th>12</th>\n",
       "      <td>0</td>\n",
       "      <td>0</td>\n",
       "    </tr>\n",
       "    <tr>\n",
       "      <th>13</th>\n",
       "      <td>1</td>\n",
       "      <td>1</td>\n",
       "    </tr>\n",
       "    <tr>\n",
       "      <th>14</th>\n",
       "      <td>0</td>\n",
       "      <td>0</td>\n",
       "    </tr>\n",
       "    <tr>\n",
       "      <th>15</th>\n",
       "      <td>0</td>\n",
       "      <td>0</td>\n",
       "    </tr>\n",
       "    <tr>\n",
       "      <th>16</th>\n",
       "      <td>0</td>\n",
       "      <td>0</td>\n",
       "    </tr>\n",
       "    <tr>\n",
       "      <th>17</th>\n",
       "      <td>0</td>\n",
       "      <td>0</td>\n",
       "    </tr>\n",
       "    <tr>\n",
       "      <th>18</th>\n",
       "      <td>0</td>\n",
       "      <td>0</td>\n",
       "    </tr>\n",
       "    <tr>\n",
       "      <th>19</th>\n",
       "      <td>0</td>\n",
       "      <td>0</td>\n",
       "    </tr>\n",
       "    <tr>\n",
       "      <th>20</th>\n",
       "      <td>0</td>\n",
       "      <td>0</td>\n",
       "    </tr>\n",
       "    <tr>\n",
       "      <th>21</th>\n",
       "      <td>1</td>\n",
       "      <td>0</td>\n",
       "    </tr>\n",
       "    <tr>\n",
       "      <th>22</th>\n",
       "      <td>0</td>\n",
       "      <td>0</td>\n",
       "    </tr>\n",
       "    <tr>\n",
       "      <th>23</th>\n",
       "      <td>0</td>\n",
       "      <td>0</td>\n",
       "    </tr>\n",
       "    <tr>\n",
       "      <th>24</th>\n",
       "      <td>0</td>\n",
       "      <td>0</td>\n",
       "    </tr>\n",
       "    <tr>\n",
       "      <th>25</th>\n",
       "      <td>1</td>\n",
       "      <td>0</td>\n",
       "    </tr>\n",
       "    <tr>\n",
       "      <th>26</th>\n",
       "      <td>0</td>\n",
       "      <td>0</td>\n",
       "    </tr>\n",
       "    <tr>\n",
       "      <th>27</th>\n",
       "      <td>0</td>\n",
       "      <td>0</td>\n",
       "    </tr>\n",
       "    <tr>\n",
       "      <th>28</th>\n",
       "      <td>0</td>\n",
       "      <td>0</td>\n",
       "    </tr>\n",
       "    <tr>\n",
       "      <th>29</th>\n",
       "      <td>0</td>\n",
       "      <td>0</td>\n",
       "    </tr>\n",
       "    <tr>\n",
       "      <th>30</th>\n",
       "      <td>0</td>\n",
       "      <td>0</td>\n",
       "    </tr>\n",
       "    <tr>\n",
       "      <th>...</th>\n",
       "      <td>...</td>\n",
       "      <td>...</td>\n",
       "    </tr>\n",
       "    <tr>\n",
       "      <th>149970</th>\n",
       "      <td>0</td>\n",
       "      <td>0</td>\n",
       "    </tr>\n",
       "    <tr>\n",
       "      <th>149971</th>\n",
       "      <td>0</td>\n",
       "      <td>0</td>\n",
       "    </tr>\n",
       "    <tr>\n",
       "      <th>149972</th>\n",
       "      <td>0</td>\n",
       "      <td>0</td>\n",
       "    </tr>\n",
       "    <tr>\n",
       "      <th>149973</th>\n",
       "      <td>0</td>\n",
       "      <td>0</td>\n",
       "    </tr>\n",
       "    <tr>\n",
       "      <th>149974</th>\n",
       "      <td>0</td>\n",
       "      <td>0</td>\n",
       "    </tr>\n",
       "    <tr>\n",
       "      <th>149975</th>\n",
       "      <td>0</td>\n",
       "      <td>0</td>\n",
       "    </tr>\n",
       "    <tr>\n",
       "      <th>149976</th>\n",
       "      <td>0</td>\n",
       "      <td>0</td>\n",
       "    </tr>\n",
       "    <tr>\n",
       "      <th>149977</th>\n",
       "      <td>0</td>\n",
       "      <td>0</td>\n",
       "    </tr>\n",
       "    <tr>\n",
       "      <th>149978</th>\n",
       "      <td>0</td>\n",
       "      <td>0</td>\n",
       "    </tr>\n",
       "    <tr>\n",
       "      <th>149979</th>\n",
       "      <td>1</td>\n",
       "      <td>0</td>\n",
       "    </tr>\n",
       "    <tr>\n",
       "      <th>149980</th>\n",
       "      <td>0</td>\n",
       "      <td>0</td>\n",
       "    </tr>\n",
       "    <tr>\n",
       "      <th>149981</th>\n",
       "      <td>0</td>\n",
       "      <td>0</td>\n",
       "    </tr>\n",
       "    <tr>\n",
       "      <th>149982</th>\n",
       "      <td>0</td>\n",
       "      <td>0</td>\n",
       "    </tr>\n",
       "    <tr>\n",
       "      <th>149983</th>\n",
       "      <td>0</td>\n",
       "      <td>0</td>\n",
       "    </tr>\n",
       "    <tr>\n",
       "      <th>149984</th>\n",
       "      <td>0</td>\n",
       "      <td>0</td>\n",
       "    </tr>\n",
       "    <tr>\n",
       "      <th>149985</th>\n",
       "      <td>0</td>\n",
       "      <td>0</td>\n",
       "    </tr>\n",
       "    <tr>\n",
       "      <th>149986</th>\n",
       "      <td>0</td>\n",
       "      <td>0</td>\n",
       "    </tr>\n",
       "    <tr>\n",
       "      <th>149987</th>\n",
       "      <td>0</td>\n",
       "      <td>0</td>\n",
       "    </tr>\n",
       "    <tr>\n",
       "      <th>149988</th>\n",
       "      <td>0</td>\n",
       "      <td>0</td>\n",
       "    </tr>\n",
       "    <tr>\n",
       "      <th>149989</th>\n",
       "      <td>0</td>\n",
       "      <td>0</td>\n",
       "    </tr>\n",
       "    <tr>\n",
       "      <th>149990</th>\n",
       "      <td>0</td>\n",
       "      <td>0</td>\n",
       "    </tr>\n",
       "    <tr>\n",
       "      <th>149991</th>\n",
       "      <td>0</td>\n",
       "      <td>0</td>\n",
       "    </tr>\n",
       "    <tr>\n",
       "      <th>149992</th>\n",
       "      <td>0</td>\n",
       "      <td>0</td>\n",
       "    </tr>\n",
       "    <tr>\n",
       "      <th>149993</th>\n",
       "      <td>0</td>\n",
       "      <td>0</td>\n",
       "    </tr>\n",
       "    <tr>\n",
       "      <th>149994</th>\n",
       "      <td>0</td>\n",
       "      <td>0</td>\n",
       "    </tr>\n",
       "    <tr>\n",
       "      <th>149995</th>\n",
       "      <td>0</td>\n",
       "      <td>0</td>\n",
       "    </tr>\n",
       "    <tr>\n",
       "      <th>149996</th>\n",
       "      <td>0</td>\n",
       "      <td>0</td>\n",
       "    </tr>\n",
       "    <tr>\n",
       "      <th>149997</th>\n",
       "      <td>0</td>\n",
       "      <td>0</td>\n",
       "    </tr>\n",
       "    <tr>\n",
       "      <th>149998</th>\n",
       "      <td>0</td>\n",
       "      <td>0</td>\n",
       "    </tr>\n",
       "    <tr>\n",
       "      <th>149999</th>\n",
       "      <td>0</td>\n",
       "      <td>0</td>\n",
       "    </tr>\n",
       "  </tbody>\n",
       "</table>\n",
       "<p>146076 rows × 2 columns</p>\n",
       "</div>"
      ],
      "text/plain": [
       "        actual  predicted\n",
       "0            1          0\n",
       "1            0          0\n",
       "2            0          0\n",
       "3            0          0\n",
       "4            0          0\n",
       "5            0          0\n",
       "6            0          0\n",
       "7            0          0\n",
       "9            0          0\n",
       "10           0          0\n",
       "11           0          0\n",
       "12           0          0\n",
       "13           1          1\n",
       "14           0          0\n",
       "15           0          0\n",
       "16           0          0\n",
       "17           0          0\n",
       "18           0          0\n",
       "19           0          0\n",
       "20           0          0\n",
       "21           1          0\n",
       "22           0          0\n",
       "23           0          0\n",
       "24           0          0\n",
       "25           1          0\n",
       "26           0          0\n",
       "27           0          0\n",
       "28           0          0\n",
       "29           0          0\n",
       "30           0          0\n",
       "...        ...        ...\n",
       "149970       0          0\n",
       "149971       0          0\n",
       "149972       0          0\n",
       "149973       0          0\n",
       "149974       0          0\n",
       "149975       0          0\n",
       "149976       0          0\n",
       "149977       0          0\n",
       "149978       0          0\n",
       "149979       1          0\n",
       "149980       0          0\n",
       "149981       0          0\n",
       "149982       0          0\n",
       "149983       0          0\n",
       "149984       0          0\n",
       "149985       0          0\n",
       "149986       0          0\n",
       "149987       0          0\n",
       "149988       0          0\n",
       "149989       0          0\n",
       "149990       0          0\n",
       "149991       0          0\n",
       "149992       0          0\n",
       "149993       0          0\n",
       "149994       0          0\n",
       "149995       0          0\n",
       "149996       0          0\n",
       "149997       0          0\n",
       "149998       0          0\n",
       "149999       0          0\n",
       "\n",
       "[146076 rows x 2 columns]"
      ]
     },
     "execution_count": 23,
     "metadata": {},
     "output_type": "execute_result"
    }
   ],
   "source": [
    "tree_train_pred"
   ]
  },
  {
   "cell_type": "code",
   "execution_count": 24,
   "metadata": {},
   "outputs": [
    {
     "data": {
      "text/plain": [
       "0.935143350036967"
      ]
     },
     "execution_count": 24,
     "metadata": {},
     "output_type": "execute_result"
    }
   ],
   "source": [
    "metrics.accuracy_score( tree_train_pred.actual, tree_train_pred.predicted )"
   ]
  },
  {
   "cell_type": "code",
   "execution_count": 27,
   "metadata": {},
   "outputs": [],
   "source": [
    "tree_test_pred = pd.DataFrame( { 'actual':  pred_test.new_labels,\n",
    "                            'predicted': clf_tree.predict( test_data ) } )"
   ]
  },
  {
   "cell_type": "code",
   "execution_count": 28,
   "metadata": {},
   "outputs": [
    {
     "data": {
      "text/plain": [
       "0.9879345044853707"
      ]
     },
     "execution_count": 28,
     "metadata": {},
     "output_type": "execute_result"
    }
   ],
   "source": [
    "metrics.accuracy_score( tree_test_pred.actual, tree_test_pred.predicted )"
   ]
  },
  {
   "cell_type": "code",
   "execution_count": 30,
   "metadata": {},
   "outputs": [
    {
     "data": {
      "text/plain": [
       "Text(0.5,15,'Predicted label')"
      ]
     },
     "execution_count": 30,
     "metadata": {},
     "output_type": "execute_result"
    },
    {
     "data": {
      "image/png": "[encoded data removed]",
      "text/plain": [
       "<matplotlib.figure.Figure at 0x23cb44d21d0>"
      ]
     },
     "metadata": {},
     "output_type": "display_data"
    }
   ],
   "source": [
    "tree_cm = metrics.confusion_matrix( tree_test_pred.predicted,\n",
    "                                 tree_test_pred.actual,\n",
    "                                 [1,0] )\n",
    "sns.heatmap(tree_cm, annot=True,\n",
    "         fmt='.2f',\n",
    "         xticklabels = [\"Delinquent\", \"Not Delinquent\"] , yticklabels = [\"Delinquent\", \"Not Delinquent\"] )\n",
    "\n",
    "plt.ylabel('True label')\n",
    "plt.xlabel('Predicted label')"
   ]
  },
  {
   "cell_type": "markdown",
   "metadata": {},
   "source": [
    "### Building Model using Suppport Vector Machines"
   ]
  },
  {
   "cell_type": "code",
   "execution_count": 6,
   "metadata": {},
   "outputs": [],
   "source": [
    "from sklearn.svm import LinearSVC"
   ]
  },
  {
   "cell_type": "code",
   "execution_count": 7,
   "metadata": {},
   "outputs": [],
   "source": [
    "svm_clf = LinearSVC(random_state=0)\n"
   ]
  },
  {
   "cell_type": "code",
   "execution_count": 8,
   "metadata": {},
   "outputs": [
    {
     "data": {
      "text/plain": [
       "LinearSVC(C=1.0, class_weight=None, dual=True, fit_intercept=True,\n",
       "     intercept_scaling=1, loss='squared_hinge', max_iter=1000,\n",
       "     multi_class='ovr', penalty='l2', random_state=0, tol=0.0001,\n",
       "     verbose=0)"
      ]
     },
     "execution_count": 8,
     "metadata": {},
     "output_type": "execute_result"
    }
   ],
   "source": [
    "svm_clf.fit(train_data.values[:,range(2,12)], train_data['SeriousDlqin2yrs'])"
   ]
  },
  {
   "cell_type": "code",
   "execution_count": 10,
   "metadata": {},
   "outputs": [
    {
     "data": {
      "text/plain": [
       "array([[ 0.76612661, 45.        ,  2.        , ...,  6.        ,\n",
       "         0.        ,  2.        ],\n",
       "       [ 0.95715102, 40.        ,  0.        , ...,  0.        ,\n",
       "         0.        ,  1.        ],\n",
       "       [ 0.65818014, 38.        ,  1.        , ...,  0.        ,\n",
       "         0.        ,  0.        ],\n",
       "       ...,\n",
       "       [ 0.24604392, 58.        ,  0.        , ...,  1.        ,\n",
       "         0.        ,  0.        ],\n",
       "       [ 0.        , 30.        ,  0.        , ...,  0.        ,\n",
       "         0.        ,  0.        ],\n",
       "       [ 0.85028295, 64.        ,  0.        , ...,  2.        ,\n",
       "         0.        ,  0.        ]])"
      ]
     },
     "execution_count": 10,
     "metadata": {},
     "output_type": "execute_result"
    }
   ],
   "source": [
    "train_data.values[:,range(2,12)]"
   ]
  },
  {
   "cell_type": "code",
   "execution_count": 18,
   "metadata": {},
   "outputs": [
    {
     "data": {
      "text/plain": [
       "Index(['Unnamed: 0', 'SeriousDlqin2yrs',\n",
       "       'RevolvingUtilizationOfUnsecuredLines', 'age',\n",
       "       'NumberOfTime30-59DaysPastDueNotWorse', 'DebtRatio', 'MonthlyIncome',\n",
       "       'NumberOfOpenCreditLinesAndLoans', 'NumberOfTimes90DaysLate',\n",
       "       'NumberRealEstateLoansOrLines', 'NumberOfTime60-89DaysPastDueNotWorse',\n",
       "       'NumberOfDependents'],\n",
       "      dtype='object')"
      ]
     },
     "execution_count": 18,
     "metadata": {},
     "output_type": "execute_result"
    }
   ],
   "source": [
    "train_data.columns\n"
   ]
  },
  {
   "cell_type": "code",
   "execution_count": null,
   "metadata": {},
   "outputs": [],
   "source": []
  },
  {
   "cell_type": "code",
   "execution_count": 22,
   "metadata": {},
   "outputs": [
    {
     "data": {
      "text/plain": [
       "array([0, 0, 0, ..., 0, 0, 0], dtype=int64)"
      ]
     },
     "execution_count": 22,
     "metadata": {},
     "output_type": "execute_result"
    }
   ],
   "source": [
    "svm_clf.predict(test_data)"
   ]
  },
  {
   "cell_type": "code",
   "execution_count": 25,
   "metadata": {},
   "outputs": [],
   "source": [
    "y_pred_pd=pd.DataFrame(data=svm_clf.predict(test_data),index=range(len(svm_clf.predict(test_data))))"
   ]
  },
  {
   "cell_type": "code",
   "execution_count": 26,
   "metadata": {},
   "outputs": [],
   "source": [
    "y_pred_pd=y_pred_pd.rename(columns={0:'Predicted_Values'})"
   ]
  },
  {
   "cell_type": "code",
   "execution_count": null,
   "metadata": {},
   "outputs": [],
   "source": []
  },
  {
   "cell_type": "code",
   "execution_count": 30,
   "metadata": {},
   "outputs": [
    {
     "data": {
      "text/plain": [
       "array([[  233,  1436],\n",
       "       [  140, 97068]], dtype=int64)"
      ]
     },
     "execution_count": 30,
     "metadata": {},
     "output_type": "execute_result"
    }
   ],
   "source": [
    "from sklearn import metrics\n",
    "\n",
    "cm = metrics.confusion_matrix( pred_test.new_labels,\n",
    "                            y_pred_pd.Predicted_Values , [1,0] )\n",
    "cm"
   ]
  },
  {
   "cell_type": "code",
   "execution_count": null,
   "metadata": {},
   "outputs": [],
   "source": []
  }
 ],
 "metadata": {
  "kernelspec": {
   "display_name": "Python 3",
   "language": "python",
   "name": "python3"
  },
  "language_info": {
   "codemirror_mode": {
    "name": "ipython",
    "version": 3
   },
   "file_extension": ".py",
   "mimetype": "text/x-python",
   "name": "python",
   "nbconvert_exporter": "python",
   "pygments_lexer": "ipython3",
   "version": "3.6.4"
  }
 },
 "nbformat": 4,
 "nbformat_minor": 2
}
