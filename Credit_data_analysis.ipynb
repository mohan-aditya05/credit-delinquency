{
 "cells": [
  {
   "cell_type": "markdown",
   "metadata": {},
   "source": [
    "### Credit Data Analysis\n",
    "    * EDA\n",
    "    * Logistic Regression Model\n",
    "    * Decision Tree Model\n",
    "    * Support Vector Machine Model"
   ]
  },
  {
   "cell_type": "code",
   "execution_count": 1,
   "metadata": {},
   "outputs": [],
   "source": [
    "import numpy as np \n",
    "import pandas as pd\n",
    "%matplotlib inline\n",
    "import matplotlib.pyplot as plt  \n",
    "import seaborn as sns\n",
    "from scipy import stats\n",
    "#For some Statistics\n",
    "from scipy.stats import norm, skew\n",
    "from sklearn.preprocessing import Imputer"
   ]
  },
  {
   "cell_type": "code",
   "execution_count": 2,
   "metadata": {},
   "outputs": [
    {
     "data": {
      "text/html": [
       "<div>\n",
       "<style scoped>\n",
       "    .dataframe tbody tr th:only-of-type {\n",
       "        vertical-align: middle;\n",
       "    }\n",
       "\n",
       "    .dataframe tbody tr th {\n",
       "        vertical-align: top;\n",
       "    }\n",
       "\n",
       "    .dataframe thead th {\n",
       "        text-align: right;\n",
       "    }\n",
       "</style>\n",
       "<table border=\"1\" class=\"dataframe\">\n",
       "  <thead>\n",
       "    <tr style=\"text-align: right;\">\n",
       "      <th></th>\n",
       "      <th>Unnamed: 0</th>\n",
       "      <th>SeriousDlqin2yrs</th>\n",
       "      <th>RevolvingUtilizationOfUnsecuredLines</th>\n",
       "      <th>age</th>\n",
       "      <th>NumberOfTime30-59DaysPastDueNotWorse</th>\n",
       "      <th>DebtRatio</th>\n",
       "      <th>MonthlyIncome</th>\n",
       "      <th>NumberOfOpenCreditLinesAndLoans</th>\n",
       "      <th>NumberOfTimes90DaysLate</th>\n",
       "      <th>NumberRealEstateLoansOrLines</th>\n",
       "      <th>NumberOfTime60-89DaysPastDueNotWorse</th>\n",
       "      <th>NumberOfDependents</th>\n",
       "    </tr>\n",
       "  </thead>\n",
       "  <tbody>\n",
       "    <tr>\n",
       "      <th>0</th>\n",
       "      <td>1</td>\n",
       "      <td>1</td>\n",
       "      <td>0.766127</td>\n",
       "      <td>45</td>\n",
       "      <td>2</td>\n",
       "      <td>0.802982</td>\n",
       "      <td>9120.0</td>\n",
       "      <td>13</td>\n",
       "      <td>0</td>\n",
       "      <td>6</td>\n",
       "      <td>0</td>\n",
       "      <td>2.0</td>\n",
       "    </tr>\n",
       "    <tr>\n",
       "      <th>1</th>\n",
       "      <td>2</td>\n",
       "      <td>0</td>\n",
       "      <td>0.957151</td>\n",
       "      <td>40</td>\n",
       "      <td>0</td>\n",
       "      <td>0.121876</td>\n",
       "      <td>2600.0</td>\n",
       "      <td>4</td>\n",
       "      <td>0</td>\n",
       "      <td>0</td>\n",
       "      <td>0</td>\n",
       "      <td>1.0</td>\n",
       "    </tr>\n",
       "    <tr>\n",
       "      <th>2</th>\n",
       "      <td>3</td>\n",
       "      <td>0</td>\n",
       "      <td>0.658180</td>\n",
       "      <td>38</td>\n",
       "      <td>1</td>\n",
       "      <td>0.085113</td>\n",
       "      <td>3042.0</td>\n",
       "      <td>2</td>\n",
       "      <td>1</td>\n",
       "      <td>0</td>\n",
       "      <td>0</td>\n",
       "      <td>0.0</td>\n",
       "    </tr>\n",
       "    <tr>\n",
       "      <th>3</th>\n",
       "      <td>4</td>\n",
       "      <td>0</td>\n",
       "      <td>0.233810</td>\n",
       "      <td>30</td>\n",
       "      <td>0</td>\n",
       "      <td>0.036050</td>\n",
       "      <td>3300.0</td>\n",
       "      <td>5</td>\n",
       "      <td>0</td>\n",
       "      <td>0</td>\n",
       "      <td>0</td>\n",
       "      <td>0.0</td>\n",
       "    </tr>\n",
       "    <tr>\n",
       "      <th>4</th>\n",
       "      <td>5</td>\n",
       "      <td>0</td>\n",
       "      <td>0.907239</td>\n",
       "      <td>49</td>\n",
       "      <td>1</td>\n",
       "      <td>0.024926</td>\n",
       "      <td>63588.0</td>\n",
       "      <td>7</td>\n",
       "      <td>0</td>\n",
       "      <td>1</td>\n",
       "      <td>0</td>\n",
       "      <td>0.0</td>\n",
       "    </tr>\n",
       "  </tbody>\n",
       "</table>\n",
       "</div>"
      ],
      "text/plain": [
       "   Unnamed: 0  SeriousDlqin2yrs  RevolvingUtilizationOfUnsecuredLines  age  \\\n",
       "0           1                 1                              0.766127   45   \n",
       "1           2                 0                              0.957151   40   \n",
       "2           3                 0                              0.658180   38   \n",
       "3           4                 0                              0.233810   30   \n",
       "4           5                 0                              0.907239   49   \n",
       "\n",
       "   NumberOfTime30-59DaysPastDueNotWorse  DebtRatio  MonthlyIncome  \\\n",
       "0                                     2   0.802982         9120.0   \n",
       "1                                     0   0.121876         2600.0   \n",
       "2                                     1   0.085113         3042.0   \n",
       "3                                     0   0.036050         3300.0   \n",
       "4                                     1   0.024926        63588.0   \n",
       "\n",
       "   NumberOfOpenCreditLinesAndLoans  NumberOfTimes90DaysLate  \\\n",
       "0                               13                        0   \n",
       "1                                4                        0   \n",
       "2                                2                        1   \n",
       "3                                5                        0   \n",
       "4                                7                        0   \n",
       "\n",
       "   NumberRealEstateLoansOrLines  NumberOfTime60-89DaysPastDueNotWorse  \\\n",
       "0                             6                                     0   \n",
       "1                             0                                     0   \n",
       "2                             0                                     0   \n",
       "3                             0                                     0   \n",
       "4                             1                                     0   \n",
       "\n",
       "   NumberOfDependents  \n",
       "0                 2.0  \n",
       "1                 1.0  \n",
       "2                 0.0  \n",
       "3                 0.0  \n",
       "4                 0.0  "
      ]
     },
     "execution_count": 2,
     "metadata": {},
     "output_type": "execute_result"
    }
   ],
   "source": [
    "train_data=pd.read_csv('cs-training.csv')\n",
    "train_data.head()"
   ]
  },
  {
   "cell_type": "code",
   "execution_count": 3,
   "metadata": {},
   "outputs": [
    {
     "data": {
      "text/html": [
       "<div>\n",
       "<style scoped>\n",
       "    .dataframe tbody tr th:only-of-type {\n",
       "        vertical-align: middle;\n",
       "    }\n",
       "\n",
       "    .dataframe tbody tr th {\n",
       "        vertical-align: top;\n",
       "    }\n",
       "\n",
       "    .dataframe thead th {\n",
       "        text-align: right;\n",
       "    }\n",
       "</style>\n",
       "<table border=\"1\" class=\"dataframe\">\n",
       "  <thead>\n",
       "    <tr style=\"text-align: right;\">\n",
       "      <th></th>\n",
       "      <th>Total</th>\n",
       "      <th>Percent</th>\n",
       "    </tr>\n",
       "  </thead>\n",
       "  <tbody>\n",
       "    <tr>\n",
       "      <th>MonthlyIncome</th>\n",
       "      <td>29731</td>\n",
       "      <td>19.820667</td>\n",
       "    </tr>\n",
       "    <tr>\n",
       "      <th>NumberOfDependents</th>\n",
       "      <td>3924</td>\n",
       "      <td>2.616000</td>\n",
       "    </tr>\n",
       "    <tr>\n",
       "      <th>NumberOfTime60-89DaysPastDueNotWorse</th>\n",
       "      <td>0</td>\n",
       "      <td>0.000000</td>\n",
       "    </tr>\n",
       "    <tr>\n",
       "      <th>NumberRealEstateLoansOrLines</th>\n",
       "      <td>0</td>\n",
       "      <td>0.000000</td>\n",
       "    </tr>\n",
       "    <tr>\n",
       "      <th>NumberOfTimes90DaysLate</th>\n",
       "      <td>0</td>\n",
       "      <td>0.000000</td>\n",
       "    </tr>\n",
       "    <tr>\n",
       "      <th>NumberOfOpenCreditLinesAndLoans</th>\n",
       "      <td>0</td>\n",
       "      <td>0.000000</td>\n",
       "    </tr>\n",
       "    <tr>\n",
       "      <th>DebtRatio</th>\n",
       "      <td>0</td>\n",
       "      <td>0.000000</td>\n",
       "    </tr>\n",
       "    <tr>\n",
       "      <th>NumberOfTime30-59DaysPastDueNotWorse</th>\n",
       "      <td>0</td>\n",
       "      <td>0.000000</td>\n",
       "    </tr>\n",
       "    <tr>\n",
       "      <th>age</th>\n",
       "      <td>0</td>\n",
       "      <td>0.000000</td>\n",
       "    </tr>\n",
       "    <tr>\n",
       "      <th>RevolvingUtilizationOfUnsecuredLines</th>\n",
       "      <td>0</td>\n",
       "      <td>0.000000</td>\n",
       "    </tr>\n",
       "    <tr>\n",
       "      <th>SeriousDlqin2yrs</th>\n",
       "      <td>0</td>\n",
       "      <td>0.000000</td>\n",
       "    </tr>\n",
       "    <tr>\n",
       "      <th>Unnamed: 0</th>\n",
       "      <td>0</td>\n",
       "      <td>0.000000</td>\n",
       "    </tr>\n",
       "  </tbody>\n",
       "</table>\n",
       "</div>"
      ],
      "text/plain": [
       "                                      Total    Percent\n",
       "MonthlyIncome                         29731  19.820667\n",
       "NumberOfDependents                     3924   2.616000\n",
       "NumberOfTime60-89DaysPastDueNotWorse      0   0.000000\n",
       "NumberRealEstateLoansOrLines              0   0.000000\n",
       "NumberOfTimes90DaysLate                   0   0.000000\n",
       "NumberOfOpenCreditLinesAndLoans           0   0.000000\n",
       "DebtRatio                                 0   0.000000\n",
       "NumberOfTime30-59DaysPastDueNotWorse      0   0.000000\n",
       "age                                       0   0.000000\n",
       "RevolvingUtilizationOfUnsecuredLines      0   0.000000\n",
       "SeriousDlqin2yrs                          0   0.000000\n",
       "Unnamed: 0                                0   0.000000"
      ]
     },
     "execution_count": 3,
     "metadata": {},
     "output_type": "execute_result"
    }
   ],
   "source": [
    "total = train_data.isnull().sum(axis=0).sort_values(ascending=False)\n",
    "percent = ((train_data.isnull().sum(axis=0)/train_data.isnull().count(axis=0))*100).sort_values(ascending=False)\n",
    "\n",
    "# count the number of null values in the column and their perecentage of the total data\n",
    "missing_data_columns = pd.concat([total, percent], axis=1, keys=['Total', 'Percent'])\n",
    "missing_data_columns.head(20)"
   ]
  },
  {
   "cell_type": "code",
   "execution_count": 4,
   "metadata": {},
   "outputs": [],
   "source": [
    "imp_mean = Imputer(missing_values = 'NaN', strategy='mean')\n",
    "imp_mean.fit(train_data[['MonthlyIncome']])\n",
    "train_data['MonthlyIncome'] = imp_mean.transform(train_data[['MonthlyIncome']])"
   ]
  },
  {
   "cell_type": "code",
   "execution_count": 5,
   "metadata": {},
   "outputs": [
    {
     "data": {
      "text/plain": [
       "(146076, 12)"
      ]
     },
     "execution_count": 5,
     "metadata": {},
     "output_type": "execute_result"
    }
   ],
   "source": [
    "train_data = train_data.copy().dropna(how='any')\n",
    "train_data.shape"
   ]
  },
  {
   "cell_type": "code",
   "execution_count": null,
   "metadata": {},
   "outputs": [],
   "source": []
  },
  {
   "cell_type": "code",
   "execution_count": null,
   "metadata": {},
   "outputs": [],
   "source": []
  },
  {
   "cell_type": "code",
   "execution_count": 6,
   "metadata": {},
   "outputs": [
    {
     "name": "stdout",
     "output_type": "stream",
     "text": [
      "<class 'pandas.core.frame.DataFrame'>\n",
      "Int64Index: 146076 entries, 0 to 149999\n",
      "Data columns (total 12 columns):\n",
      "Unnamed: 0                              146076 non-null int64\n",
      "SeriousDlqin2yrs                        146076 non-null int64\n",
      "RevolvingUtilizationOfUnsecuredLines    146076 non-null float64\n",
      "age                                     146076 non-null int64\n",
      "NumberOfTime30-59DaysPastDueNotWorse    146076 non-null int64\n",
      "DebtRatio                               146076 non-null float64\n",
      "MonthlyIncome                           146076 non-null float64\n",
      "NumberOfOpenCreditLinesAndLoans         146076 non-null int64\n",
      "NumberOfTimes90DaysLate                 146076 non-null int64\n",
      "NumberRealEstateLoansOrLines            146076 non-null int64\n",
      "NumberOfTime60-89DaysPastDueNotWorse    146076 non-null int64\n",
      "NumberOfDependents                      146076 non-null float64\n",
      "dtypes: float64(4), int64(8)\n",
      "memory usage: 14.5 MB\n"
     ]
    }
   ],
   "source": [
    "train_data.info()"
   ]
  },
  {
   "cell_type": "code",
   "execution_count": 7,
   "metadata": {},
   "outputs": [
    {
     "data": {
      "text/html": [
       "<div>\n",
       "<style scoped>\n",
       "    .dataframe tbody tr th:only-of-type {\n",
       "        vertical-align: middle;\n",
       "    }\n",
       "\n",
       "    .dataframe tbody tr th {\n",
       "        vertical-align: top;\n",
       "    }\n",
       "\n",
       "    .dataframe thead th {\n",
       "        text-align: right;\n",
       "    }\n",
       "</style>\n",
       "<table border=\"1\" class=\"dataframe\">\n",
       "  <thead>\n",
       "    <tr style=\"text-align: right;\">\n",
       "      <th></th>\n",
       "      <th>count</th>\n",
       "      <th>mean</th>\n",
       "      <th>std</th>\n",
       "      <th>min</th>\n",
       "      <th>25%</th>\n",
       "      <th>50%</th>\n",
       "      <th>75%</th>\n",
       "      <th>max</th>\n",
       "    </tr>\n",
       "  </thead>\n",
       "  <tbody>\n",
       "    <tr>\n",
       "      <th>Unnamed: 0</th>\n",
       "      <td>146076.0</td>\n",
       "      <td>75013.668597</td>\n",
       "      <td>43290.647551</td>\n",
       "      <td>1.0</td>\n",
       "      <td>37534.750000</td>\n",
       "      <td>75013.500000</td>\n",
       "      <td>112496.250000</td>\n",
       "      <td>150000.0</td>\n",
       "    </tr>\n",
       "    <tr>\n",
       "      <th>SeriousDlqin2yrs</th>\n",
       "      <td>146076.0</td>\n",
       "      <td>0.067410</td>\n",
       "      <td>0.250732</td>\n",
       "      <td>0.0</td>\n",
       "      <td>0.000000</td>\n",
       "      <td>0.000000</td>\n",
       "      <td>0.000000</td>\n",
       "      <td>1.0</td>\n",
       "    </tr>\n",
       "    <tr>\n",
       "      <th>RevolvingUtilizationOfUnsecuredLines</th>\n",
       "      <td>146076.0</td>\n",
       "      <td>5.922272</td>\n",
       "      <td>250.070774</td>\n",
       "      <td>0.0</td>\n",
       "      <td>0.031018</td>\n",
       "      <td>0.158818</td>\n",
       "      <td>0.563684</td>\n",
       "      <td>50708.0</td>\n",
       "    </tr>\n",
       "    <tr>\n",
       "      <th>age</th>\n",
       "      <td>146076.0</td>\n",
       "      <td>52.099277</td>\n",
       "      <td>14.604005</td>\n",
       "      <td>0.0</td>\n",
       "      <td>41.000000</td>\n",
       "      <td>52.000000</td>\n",
       "      <td>62.000000</td>\n",
       "      <td>107.0</td>\n",
       "    </tr>\n",
       "    <tr>\n",
       "      <th>NumberOfTime30-59DaysPastDueNotWorse</th>\n",
       "      <td>146076.0</td>\n",
       "      <td>0.407945</td>\n",
       "      <td>4.002747</td>\n",
       "      <td>0.0</td>\n",
       "      <td>0.000000</td>\n",
       "      <td>0.000000</td>\n",
       "      <td>0.000000</td>\n",
       "      <td>98.0</td>\n",
       "    </tr>\n",
       "    <tr>\n",
       "      <th>DebtRatio</th>\n",
       "      <td>146076.0</td>\n",
       "      <td>333.373603</td>\n",
       "      <td>1943.906679</td>\n",
       "      <td>0.0</td>\n",
       "      <td>0.171764</td>\n",
       "      <td>0.357751</td>\n",
       "      <td>0.766117</td>\n",
       "      <td>329664.0</td>\n",
       "    </tr>\n",
       "    <tr>\n",
       "      <th>MonthlyIncome</th>\n",
       "      <td>146076.0</td>\n",
       "      <td>6670.221237</td>\n",
       "      <td>13052.302408</td>\n",
       "      <td>0.0</td>\n",
       "      <td>3820.000000</td>\n",
       "      <td>6415.000000</td>\n",
       "      <td>7500.000000</td>\n",
       "      <td>3008750.0</td>\n",
       "    </tr>\n",
       "    <tr>\n",
       "      <th>NumberOfOpenCreditLinesAndLoans</th>\n",
       "      <td>146076.0</td>\n",
       "      <td>8.529279</td>\n",
       "      <td>5.149533</td>\n",
       "      <td>0.0</td>\n",
       "      <td>5.000000</td>\n",
       "      <td>8.000000</td>\n",
       "      <td>11.000000</td>\n",
       "      <td>58.0</td>\n",
       "    </tr>\n",
       "    <tr>\n",
       "      <th>NumberOfTimes90DaysLate</th>\n",
       "      <td>146076.0</td>\n",
       "      <td>0.250698</td>\n",
       "      <td>3.977197</td>\n",
       "      <td>0.0</td>\n",
       "      <td>0.000000</td>\n",
       "      <td>0.000000</td>\n",
       "      <td>0.000000</td>\n",
       "      <td>98.0</td>\n",
       "    </tr>\n",
       "    <tr>\n",
       "      <th>NumberRealEstateLoansOrLines</th>\n",
       "      <td>146076.0</td>\n",
       "      <td>1.029717</td>\n",
       "      <td>1.132774</td>\n",
       "      <td>0.0</td>\n",
       "      <td>0.000000</td>\n",
       "      <td>1.000000</td>\n",
       "      <td>2.000000</td>\n",
       "      <td>54.0</td>\n",
       "    </tr>\n",
       "    <tr>\n",
       "      <th>NumberOfTime60-89DaysPastDueNotWorse</th>\n",
       "      <td>146076.0</td>\n",
       "      <td>0.225027</td>\n",
       "      <td>3.962048</td>\n",
       "      <td>0.0</td>\n",
       "      <td>0.000000</td>\n",
       "      <td>0.000000</td>\n",
       "      <td>0.000000</td>\n",
       "      <td>98.0</td>\n",
       "    </tr>\n",
       "    <tr>\n",
       "      <th>NumberOfDependents</th>\n",
       "      <td>146076.0</td>\n",
       "      <td>0.757222</td>\n",
       "      <td>1.115086</td>\n",
       "      <td>0.0</td>\n",
       "      <td>0.000000</td>\n",
       "      <td>0.000000</td>\n",
       "      <td>1.000000</td>\n",
       "      <td>20.0</td>\n",
       "    </tr>\n",
       "  </tbody>\n",
       "</table>\n",
       "</div>"
      ],
      "text/plain": [
       "                                         count          mean           std  \\\n",
       "Unnamed: 0                            146076.0  75013.668597  43290.647551   \n",
       "SeriousDlqin2yrs                      146076.0      0.067410      0.250732   \n",
       "RevolvingUtilizationOfUnsecuredLines  146076.0      5.922272    250.070774   \n",
       "age                                   146076.0     52.099277     14.604005   \n",
       "NumberOfTime30-59DaysPastDueNotWorse  146076.0      0.407945      4.002747   \n",
       "DebtRatio                             146076.0    333.373603   1943.906679   \n",
       "MonthlyIncome                         146076.0   6670.221237  13052.302408   \n",
       "NumberOfOpenCreditLinesAndLoans       146076.0      8.529279      5.149533   \n",
       "NumberOfTimes90DaysLate               146076.0      0.250698      3.977197   \n",
       "NumberRealEstateLoansOrLines          146076.0      1.029717      1.132774   \n",
       "NumberOfTime60-89DaysPastDueNotWorse  146076.0      0.225027      3.962048   \n",
       "NumberOfDependents                    146076.0      0.757222      1.115086   \n",
       "\n",
       "                                      min           25%           50%  \\\n",
       "Unnamed: 0                            1.0  37534.750000  75013.500000   \n",
       "SeriousDlqin2yrs                      0.0      0.000000      0.000000   \n",
       "RevolvingUtilizationOfUnsecuredLines  0.0      0.031018      0.158818   \n",
       "age                                   0.0     41.000000     52.000000   \n",
       "NumberOfTime30-59DaysPastDueNotWorse  0.0      0.000000      0.000000   \n",
       "DebtRatio                             0.0      0.171764      0.357751   \n",
       "MonthlyIncome                         0.0   3820.000000   6415.000000   \n",
       "NumberOfOpenCreditLinesAndLoans       0.0      5.000000      8.000000   \n",
       "NumberOfTimes90DaysLate               0.0      0.000000      0.000000   \n",
       "NumberRealEstateLoansOrLines          0.0      0.000000      1.000000   \n",
       "NumberOfTime60-89DaysPastDueNotWorse  0.0      0.000000      0.000000   \n",
       "NumberOfDependents                    0.0      0.000000      0.000000   \n",
       "\n",
       "                                                75%        max  \n",
       "Unnamed: 0                            112496.250000   150000.0  \n",
       "SeriousDlqin2yrs                           0.000000        1.0  \n",
       "RevolvingUtilizationOfUnsecuredLines       0.563684    50708.0  \n",
       "age                                       62.000000      107.0  \n",
       "NumberOfTime30-59DaysPastDueNotWorse       0.000000       98.0  \n",
       "DebtRatio                                  0.766117   329664.0  \n",
       "MonthlyIncome                           7500.000000  3008750.0  \n",
       "NumberOfOpenCreditLinesAndLoans           11.000000       58.0  \n",
       "NumberOfTimes90DaysLate                    0.000000       98.0  \n",
       "NumberRealEstateLoansOrLines               2.000000       54.0  \n",
       "NumberOfTime60-89DaysPastDueNotWorse       0.000000       98.0  \n",
       "NumberOfDependents                         1.000000       20.0  "
      ]
     },
     "execution_count": 7,
     "metadata": {},
     "output_type": "execute_result"
    }
   ],
   "source": [
    "train_data.describe().T"
   ]
  },
  {
   "cell_type": "markdown",
   "metadata": {},
   "source": [
    "The summary statistics for SeriousDlqin2yrs does not make any sense, as it is a categorical variable."
   ]
  },
  {
   "cell_type": "markdown",
   "metadata": {},
   "source": [
    "### Exploratory Data Analysis"
   ]
  },
  {
   "cell_type": "code",
   "execution_count": 8,
   "metadata": {},
   "outputs": [
    {
     "data": {
      "text/plain": [
       "0    136229\n",
       "1      9847\n",
       "Name: SeriousDlqin2yrs, dtype: int64"
      ]
     },
     "execution_count": 8,
     "metadata": {},
     "output_type": "execute_result"
    }
   ],
   "source": [
    "#0 Number of people who have experienced 90 days past due delinquency or worse.\n",
    "train_data_delinquent=train_data['SeriousDlqin2yrs'].value_counts()\n",
    "train_data_delinquent"
   ]
  },
  {
   "cell_type": "code",
   "execution_count": 9,
   "metadata": {},
   "outputs": [],
   "source": [
    "#1 How does age play role in delinquency?"
   ]
  },
  {
   "cell_type": "code",
   "execution_count": 10,
   "metadata": {},
   "outputs": [],
   "source": [
    "age_count=train_data[['age','SeriousDlqin2yrs']].groupby(['age','SeriousDlqin2yrs']).size().reset_index()\n",
    "age_count.columns=['age','SeriousDlqin2yrs','count']\n",
    "age_count['age']=age_count['age']//10*10"
   ]
  },
  {
   "cell_type": "code",
   "execution_count": 11,
   "metadata": {},
   "outputs": [
    {
     "name": "stdout",
     "output_type": "stream",
     "text": [
      "(0, 0)\n",
      "1\n",
      "(20, 0)\n",
      "7436\n",
      "(20, 1)\n",
      "993\n",
      "(30, 0)\n",
      "20579\n",
      "(30, 1)\n",
      "2312\n",
      "(40, 0)\n",
      "31142\n",
      "(40, 1)\n",
      "2850\n",
      "(50, 0)\n",
      "32343\n",
      "(50, 1)\n",
      "2235\n",
      "(60, 0)\n",
      "27023\n",
      "(60, 1)\n",
      "1023\n",
      "(70, 0)\n",
      "12600\n",
      "(70, 1)\n",
      "320\n",
      "(80, 0)\n",
      "4551\n",
      "(80, 1)\n",
      "102\n",
      "(90, 0)\n",
      "545\n",
      "(90, 1)\n",
      "11\n",
      "(100, 0)\n",
      "9\n",
      "(100, 1)\n",
      "1\n"
     ]
    }
   ],
   "source": [
    "grouped=age_count.groupby(['age','SeriousDlqin2yrs'])\n",
    "for name,group in grouped:\n",
    "    print(name)\n",
    "    print(group['count'].sum())"
   ]
  },
  {
   "cell_type": "markdown",
   "metadata": {},
   "source": [
    "So we can conclude from this data that people in their forties have defaulted the most on their loans."
   ]
  },
  {
   "cell_type": "code",
   "execution_count": 12,
   "metadata": {},
   "outputs": [],
   "source": [
    "#3 How is monthly income related to delinquency?"
   ]
  },
  {
   "cell_type": "code",
   "execution_count": 13,
   "metadata": {},
   "outputs": [],
   "source": [
    "income_count=train_data[['MonthlyIncome','SeriousDlqin2yrs']].groupby(['MonthlyIncome','SeriousDlqin2yrs']).size().reset_index()\n",
    "income_count.columns=['MonthlyIncome','SeriousDlqin2yrs','count']"
   ]
  },
  {
   "cell_type": "code",
   "execution_count": 14,
   "metadata": {},
   "outputs": [
    {
     "name": "stderr",
     "output_type": "stream",
     "text": [
      "C:\\Users\\adity\\Anaconda3\\lib\\site-packages\\scipy\\stats\\stats.py:1713: FutureWarning: Using a non-tuple sequence for multidimensional indexing is deprecated; use `arr[tuple(seq)]` instead of `arr[seq]`. In the future this will be interpreted as an array index, `arr[np.array(seq)]`, which will result either in an error or a different result.\n",
      "  return np.add.reduce(sorted[indexer] * weights, axis=axis) / sumval\n"
     ]
    },
    {
     "data": {
      "text/plain": [
       "<matplotlib.axes._subplots.AxesSubplot at 0x269836b7ba8>"
      ]
     },
     "execution_count": 14,
     "metadata": {},
     "output_type": "execute_result"
    },
    {
     "data": {
      "image/png": "[encoded data removed]",
      "text/plain": [
       "<Figure size 432x288 with 1 Axes>"
      ]
     },
     "metadata": {
      "needs_background": "light"
     },
     "output_type": "display_data"
    }
   ],
   "source": [
    "#sns.distplot(income_count[income_count.SeriousDlqin2yrs ==0]['MonthlyIncome'], color='b')\n",
    "sns.distplot(income_count[income_count.SeriousDlqin2yrs ==1]['MonthlyIncome'], color='r')"
   ]
  },
  {
   "cell_type": "markdown",
   "metadata": {},
   "source": [
    "Null Hypothesis: Monthly income does not affect whether the person would be delinquent or not.\n",
    "Alternate Hypothesis: Monthly income does affect whether the person would be delinquent or not."
   ]
  },
  {
   "cell_type": "code",
   "execution_count": 15,
   "metadata": {},
   "outputs": [
    {
     "data": {
      "text/plain": [
       "Ttest_indResult(statistic=-5.59675246930332, pvalue=2.218825771826394e-08)"
      ]
     },
     "execution_count": 15,
     "metadata": {},
     "output_type": "execute_result"
    }
   ],
   "source": [
    "stats.ttest_ind(income_count[income_count.SeriousDlqin2yrs==1]['MonthlyIncome'],income_count[income_count.SeriousDlqin2yrs==0]['MonthlyIncome'] )"
   ]
  },
  {
   "cell_type": "code",
   "execution_count": 16,
   "metadata": {},
   "outputs": [],
   "source": [
    "#4 How DebtRatio affect delinquency of a person?"
   ]
  },
  {
   "cell_type": "code",
   "execution_count": 17,
   "metadata": {},
   "outputs": [
    {
     "data": {
      "text/plain": [
       "Text(0.5,0,'Debt Ratio')"
      ]
     },
     "execution_count": 17,
     "metadata": {},
     "output_type": "execute_result"
    },
    {
     "data": {
      "image/png": "[encoded data removed]",
      "text/plain": [
       "<Figure size 432x288 with 1 Axes>"
      ]
     },
     "metadata": {
      "needs_background": "light"
     },
     "output_type": "display_data"
    }
   ],
   "source": [
    "plt.scatter(train_data['DebtRatio'],train_data['SeriousDlqin2yrs'])\n",
    "plt.ylabel('SeriousDlqin2yrs')\n",
    "plt.xlabel('Debt Ratio')"
   ]
  },
  {
   "cell_type": "code",
   "execution_count": 18,
   "metadata": {},
   "outputs": [
    {
     "data": {
      "text/plain": [
       "Text(0.5,0,'RevolvingUtilizationOfUnsecuredLines')"
      ]
     },
     "execution_count": 18,
     "metadata": {},
     "output_type": "execute_result"
    },
    {
     "data": {
      "image/png": "[encoded data removed]",
      "text/plain": [
       "<Figure size 432x288 with 1 Axes>"
      ]
     },
     "metadata": {
      "needs_background": "light"
     },
     "output_type": "display_data"
    }
   ],
   "source": [
    "plt.scatter(train_data['RevolvingUtilizationOfUnsecuredLines'],train_data['SeriousDlqin2yrs'])\n",
    "plt.ylabel('SeriousDlqin2yrs')\n",
    "plt.xlabel('RevolvingUtilizationOfUnsecuredLines')"
   ]
  },
  {
   "cell_type": "code",
   "execution_count": 19,
   "metadata": {},
   "outputs": [
    {
     "data": {
      "text/plain": [
       "<matplotlib.collections.PathCollection at 0x26983c1b0f0>"
      ]
     },
     "execution_count": 19,
     "metadata": {},
     "output_type": "execute_result"
    },
    {
     "data": {
      "image/png": "[encoded data removed]",
      "text/plain": [
       "<Figure size 432x288 with 1 Axes>"
      ]
     },
     "metadata": {
      "needs_background": "light"
     },
     "output_type": "display_data"
    }
   ],
   "source": [
    "plt.scatter(train_data['NumberOfTime30-59DaysPastDueNotWorse'],train_data['SeriousDlqin2yrs'])"
   ]
  },
  {
   "cell_type": "code",
   "execution_count": 20,
   "metadata": {},
   "outputs": [
    {
     "data": {
      "text/plain": [
       "98"
      ]
     },
     "execution_count": 20,
     "metadata": {},
     "output_type": "execute_result"
    }
   ],
   "source": [
    "train_data['NumberOfTime30-59DaysPastDueNotWorse'].max()"
   ]
  },
  {
   "cell_type": "code",
   "execution_count": 21,
   "metadata": {},
   "outputs": [
    {
     "data": {
      "text/plain": [
       "<matplotlib.collections.PathCollection at 0x26983c6bb70>"
      ]
     },
     "execution_count": 21,
     "metadata": {},
     "output_type": "execute_result"
    },
    {
     "data": {
      "image/png": "[encoded data removed]",
      "text/plain": [
       "<Figure size 432x288 with 1 Axes>"
      ]
     },
     "metadata": {
      "needs_background": "light"
     },
     "output_type": "display_data"
    }
   ],
   "source": [
    "plt.scatter(train_data['NumberOfOpenCreditLinesAndLoans'],train_data['SeriousDlqin2yrs'])"
   ]
  },
  {
   "cell_type": "code",
   "execution_count": 22,
   "metadata": {},
   "outputs": [],
   "source": [
    "from scipy.stats import pearsonr"
   ]
  },
  {
   "cell_type": "code",
   "execution_count": 23,
   "metadata": {},
   "outputs": [
    {
     "name": "stdout",
     "output_type": "stream",
     "text": [
      "Unnamed: 0\n",
      "(0.00286295955523407, 0.27386162621416343)\n",
      "SeriousDlqin2yrs\n",
      "(1.0, 0.0)\n",
      "RevolvingUtilizationOfUnsecuredLines\n",
      "(-0.00160080970499169, 0.540654959004689)\n",
      "age\n",
      "(-0.11390677528472706, 0.0)\n",
      "NumberOfTime30-59DaysPastDueNotWorse\n",
      "(0.1270843069960124, 0.0)\n",
      "DebtRatio\n",
      "(-0.007746637392831056, 0.0030686564845941668)\n",
      "MonthlyIncome\n",
      "(-0.018170150506306444, 3.781242228693798e-12)\n",
      "NumberOfOpenCreditLinesAndLoans\n",
      "(-0.03147750135258377, 2.3677110242679355e-33)\n",
      "NumberOfTimes90DaysLate\n",
      "(0.11814843148889632, 0.0)\n",
      "NumberRealEstateLoansOrLines\n",
      "(-0.008378869667640391, 0.0013627645074222642)\n",
      "NumberOfTime60-89DaysPastDueNotWorse\n",
      "(0.10239748216961213, 0.0)\n",
      "NumberOfDependents\n",
      "(0.046047943522171265, 2.1137912590682112e-69)\n"
     ]
    }
   ],
   "source": [
    "for att in train_data.columns:\n",
    "    print(att)\n",
    "    print(pearsonr(train_data[att],train_data['SeriousDlqin2yrs']))"
   ]
  },
  {
   "cell_type": "code",
   "execution_count": null,
   "metadata": {},
   "outputs": [],
   "source": []
  },
  {
   "cell_type": "code",
   "execution_count": 24,
   "metadata": {},
   "outputs": [
    {
     "name": "stdout",
     "output_type": "stream",
     "text": [
      "RevolvingUtilizationOfUnsecuredLines\n",
      "0.000000    10395\n",
      "1.000000     9822\n",
      "1.000000       17\n",
      "0.950100        8\n",
      "0.713147        6\n",
      "0.954092        6\n",
      "0.007984        6\n",
      "0.717131        5\n",
      "0.796407        5\n",
      "0.538922        5\n",
      "0.582834        5\n",
      "0.994012        5\n",
      "0.988024        5\n",
      "0.046048        5\n",
      "0.004999        5\n",
      "1.003322        5\n",
      "0.850299        5\n",
      "0.247505        4\n",
      "0.999001        4\n",
      "1.005199        4\n",
      "0.037498        4\n",
      "0.022799        4\n",
      "0.010866        4\n",
      "0.001667        4\n",
      "0.017849        4\n",
      "0.279441        4\n",
      "0.035964        4\n",
      "0.015984        4\n",
      "0.001800        4\n",
      "1.017964        4\n",
      "            ...  \n",
      "1.008516        1\n",
      "0.171178        1\n",
      "0.720657        1\n",
      "0.805734        1\n",
      "0.105010        1\n",
      "0.069386        1\n",
      "0.253605        1\n",
      "0.145973        1\n",
      "0.019044        1\n",
      "0.889172        1\n",
      "0.459116        1\n",
      "0.583147        1\n",
      "0.200489        1\n",
      "0.009719        1\n",
      "0.596139        1\n",
      "0.078873        1\n",
      "0.406950        1\n",
      "0.143684        1\n",
      "0.691273        1\n",
      "0.171529        1\n",
      "0.365495        1\n",
      "0.654667        1\n",
      "0.035759        1\n",
      "0.154812        1\n",
      "0.448961        1\n",
      "0.128066        1\n",
      "0.164378        1\n",
      "0.032466        1\n",
      "0.095081        1\n",
      "0.118790        1\n",
      "Name: RevolvingUtilizationOfUnsecuredLines, Length: 122957, dtype: int64\n",
      "age\n",
      "49     3782\n",
      "48     3741\n",
      "50     3705\n",
      "47     3671\n",
      "46     3660\n",
      "63     3621\n",
      "51     3566\n",
      "53     3566\n",
      "52     3535\n",
      "56     3497\n",
      "54     3488\n",
      "62     3482\n",
      "45     3470\n",
      "61     3426\n",
      "58     3372\n",
      "55     3339\n",
      "57     3306\n",
      "44     3274\n",
      "59     3204\n",
      "43     3185\n",
      "60     3174\n",
      "41     3094\n",
      "40     3059\n",
      "42     3056\n",
      "39     2965\n",
      "64     2961\n",
      "38     2599\n",
      "65     2509\n",
      "37     2489\n",
      "66     2415\n",
      "       ... \n",
      "25      909\n",
      "80      822\n",
      "24      760\n",
      "81      712\n",
      "23      599\n",
      "82      598\n",
      "83      463\n",
      "84      439\n",
      "85      435\n",
      "22      396\n",
      "86      367\n",
      "87      310\n",
      "88      265\n",
      "89      242\n",
      "90      167\n",
      "21      152\n",
      "91      129\n",
      "92       82\n",
      "93       70\n",
      "95       37\n",
      "94       35\n",
      "96       14\n",
      "97       12\n",
      "98        5\n",
      "99        5\n",
      "101       3\n",
      "103       3\n",
      "102       3\n",
      "107       1\n",
      "0         1\n",
      "Name: age, Length: 84, dtype: int64\n",
      "NumberOfTime30-59DaysPastDueNotWorse\n",
      "0     122503\n",
      "1      15745\n",
      "2       4538\n",
      "3       1741\n",
      "4        735\n",
      "5        340\n",
      "98       233\n",
      "6        138\n",
      "7         54\n",
      "8         25\n",
      "9         11\n",
      "96         5\n",
      "10         4\n",
      "12         2\n",
      "13         1\n",
      "11         1\n",
      "Name: NumberOfTime30-59DaysPastDueNotWorse, dtype: int64\n",
      "DebtRatio\n",
      "0.000000       3708\n",
      "1.000000        158\n",
      "4.000000        129\n",
      "3.000000        121\n",
      "2.000000        117\n",
      "5.000000        103\n",
      "9.000000        101\n",
      "10.000000        90\n",
      "8.000000         90\n",
      "7.000000         89\n",
      "6.000000         88\n",
      "13.000000        85\n",
      "21.000000        81\n",
      "15.000000        78\n",
      "14.000000        77\n",
      "19.000000        76\n",
      "12.000000        76\n",
      "11.000000        75\n",
      "18.000000        72\n",
      "16.000000        72\n",
      "20.000000        69\n",
      "28.000000        67\n",
      "22.000000        63\n",
      "30.000000        63\n",
      "29.000000        63\n",
      "25.000000        62\n",
      "37.000000        62\n",
      "27.000000        58\n",
      "24.000000        55\n",
      "23.000000        53\n",
      "               ... \n",
      "0.351729          1\n",
      "0.580605          1\n",
      "0.405711          1\n",
      "0.380370          1\n",
      "0.435404          1\n",
      "0.608211          1\n",
      "0.428014          1\n",
      "0.534917          1\n",
      "3678.000000       1\n",
      "7030.000000       1\n",
      "0.162149          1\n",
      "0.237702          1\n",
      "0.416164          1\n",
      "0.890659          1\n",
      "0.223912          1\n",
      "0.194544          1\n",
      "0.294731          1\n",
      "0.541576          1\n",
      "0.145202          1\n",
      "0.289780          1\n",
      "0.334490          1\n",
      "0.246783          1\n",
      "0.022366          1\n",
      "0.587448          1\n",
      "0.427715          1\n",
      "0.254224          1\n",
      "0.241679          1\n",
      "0.309049          1\n",
      "0.005270          1\n",
      "0.421323          1\n",
      "Name: DebtRatio, Length: 114090, dtype: int64\n",
      "MonthlyIncome\n",
      "6670.221237     25807\n",
      "5000.000000      2757\n",
      "4000.000000      2106\n",
      "6000.000000      1934\n",
      "3000.000000      1758\n",
      "0.000000         1634\n",
      "2500.000000      1551\n",
      "10000.000000     1466\n",
      "3500.000000      1360\n",
      "4500.000000      1226\n",
      "7000.000000      1223\n",
      "8000.000000      1127\n",
      "2000.000000      1116\n",
      "7500.000000      1051\n",
      "10500.000000     1013\n",
      "5500.000000       897\n",
      "6500.000000       841\n",
      "9000.000000       763\n",
      "1.000000          605\n",
      "3200.000000       584\n",
      "6250.000000       570\n",
      "4200.000000       569\n",
      "4166.000000       554\n",
      "1500.000000       553\n",
      "12000.000000      547\n",
      "8333.000000       543\n",
      "8500.000000       505\n",
      "3750.000000       504\n",
      "3600.000000       503\n",
      "2400.000000       501\n",
      "                ...  \n",
      "6896.000000         1\n",
      "3057.000000         1\n",
      "20283.000000        1\n",
      "16254.000000        1\n",
      "727.000000          1\n",
      "8405.000000         1\n",
      "28430.000000        1\n",
      "8852.000000         1\n",
      "7462.000000         1\n",
      "10224.000000        1\n",
      "40388.000000        1\n",
      "15667.000000        1\n",
      "6899.000000         1\n",
      "10099.000000        1\n",
      "30500.000000        1\n",
      "10101.000000        1\n",
      "25808.000000        1\n",
      "14803.000000        1\n",
      "9329.000000         1\n",
      "14214.000000        1\n",
      "16582.000000        1\n",
      "10105.000000        1\n",
      "11637.000000        1\n",
      "595.000000          1\n",
      "16580.000000        1\n",
      "3847.000000         1\n",
      "10113.000000        1\n",
      "14210.000000        1\n",
      "13023.000000        1\n",
      "1037.000000         1\n",
      "Name: MonthlyIncome, Length: 13595, dtype: int64\n",
      "NumberOfOpenCreditLinesAndLoans\n",
      "6     13272\n",
      "7     12933\n",
      "5     12531\n",
      "8     12316\n",
      "9     11158\n",
      "4     11141\n",
      "10     9496\n",
      "3      8573\n",
      "11     8227\n",
      "12     6918\n",
      "2      6253\n",
      "13     5607\n",
      "14     4499\n",
      "1      4104\n",
      "15     3606\n",
      "16     2968\n",
      "17     2342\n",
      "18     1862\n",
      "0      1731\n",
      "19     1426\n",
      "20     1162\n",
      "21      852\n",
      "22      682\n",
      "23      529\n",
      "24      419\n",
      "25      335\n",
      "26      237\n",
      "27      193\n",
      "28      149\n",
      "29      114\n",
      "30       87\n",
      "31       74\n",
      "32       52\n",
      "33       47\n",
      "34       35\n",
      "35       27\n",
      "36       18\n",
      "38       13\n",
      "40       10\n",
      "39        9\n",
      "45        8\n",
      "43        8\n",
      "42        8\n",
      "37        7\n",
      "48        6\n",
      "41        4\n",
      "54        4\n",
      "49        4\n",
      "46        3\n",
      "52        3\n",
      "51        2\n",
      "56        2\n",
      "57        2\n",
      "50        2\n",
      "47        2\n",
      "44        2\n",
      "53        1\n",
      "58        1\n",
      "Name: NumberOfOpenCreditLinesAndLoans, dtype: int64\n",
      "NumberOfTimes90DaysLate\n",
      "0     137922\n",
      "1       5141\n",
      "2       1522\n",
      "3        656\n",
      "4        289\n",
      "98       233\n",
      "5        128\n",
      "6         79\n",
      "7         37\n",
      "8         21\n",
      "9         19\n",
      "10         8\n",
      "11         5\n",
      "96         5\n",
      "13         4\n",
      "12         2\n",
      "14         2\n",
      "15         2\n",
      "17         1\n",
      "Name: NumberOfTimes90DaysLate, dtype: int64\n",
      "NumberRealEstateLoansOrLines\n",
      "0     53893\n",
      "1     51191\n",
      "2     31156\n",
      "3      6230\n",
      "4      2141\n",
      "5       678\n",
      "6       318\n",
      "7       170\n",
      "8        93\n",
      "9        78\n",
      "10       36\n",
      "11       23\n",
      "12       18\n",
      "13       15\n",
      "14        7\n",
      "15        5\n",
      "16        4\n",
      "17        4\n",
      "25        3\n",
      "18        2\n",
      "19        2\n",
      "20        2\n",
      "23        2\n",
      "32        1\n",
      "21        1\n",
      "26        1\n",
      "29        1\n",
      "54        1\n",
      "Name: NumberRealEstateLoansOrLines, dtype: int64\n",
      "NumberOfTime60-89DaysPastDueNotWorse\n",
      "0     138611\n",
      "1       5647\n",
      "2       1103\n",
      "3        312\n",
      "98       233\n",
      "4        105\n",
      "5         32\n",
      "6         16\n",
      "7          8\n",
      "96         5\n",
      "8          2\n",
      "11         1\n",
      "9          1\n",
      "Name: NumberOfTime60-89DaysPastDueNotWorse, dtype: int64\n",
      "NumberOfDependents\n",
      "0.0     86902\n",
      "1.0     26316\n",
      "2.0     19522\n",
      "3.0      9483\n",
      "4.0      2862\n",
      "5.0       746\n",
      "6.0       158\n",
      "7.0        51\n",
      "8.0        24\n",
      "9.0         5\n",
      "10.0        5\n",
      "13.0        1\n",
      "20.0        1\n",
      "Name: NumberOfDependents, dtype: int64\n"
     ]
    }
   ],
   "source": [
    "for att in train_data.columns[2:]:\n",
    "    print(att)\n",
    "    print(train_data[att].value_counts())"
   ]
  },
  {
   "cell_type": "code",
   "execution_count": 25,
   "metadata": {},
   "outputs": [],
   "source": [
    "train_data.drop(columns=\"RevolvingUtilizationOfUnsecuredLines\",inplace=True)"
   ]
  },
  {
   "cell_type": "code",
   "execution_count": 26,
   "metadata": {},
   "outputs": [
    {
     "data": {
      "text/html": [
       "<div>\n",
       "<style scoped>\n",
       "    .dataframe tbody tr th:only-of-type {\n",
       "        vertical-align: middle;\n",
       "    }\n",
       "\n",
       "    .dataframe tbody tr th {\n",
       "        vertical-align: top;\n",
       "    }\n",
       "\n",
       "    .dataframe thead th {\n",
       "        text-align: right;\n",
       "    }\n",
       "</style>\n",
       "<table border=\"1\" class=\"dataframe\">\n",
       "  <thead>\n",
       "    <tr style=\"text-align: right;\">\n",
       "      <th></th>\n",
       "      <th>Unnamed: 0</th>\n",
       "      <th>SeriousDlqin2yrs</th>\n",
       "      <th>RevolvingUtilizationOfUnsecuredLines</th>\n",
       "      <th>age</th>\n",
       "      <th>NumberOfTime30-59DaysPastDueNotWorse</th>\n",
       "      <th>DebtRatio</th>\n",
       "      <th>MonthlyIncome</th>\n",
       "      <th>NumberOfOpenCreditLinesAndLoans</th>\n",
       "      <th>NumberOfTimes90DaysLate</th>\n",
       "      <th>NumberRealEstateLoansOrLines</th>\n",
       "      <th>NumberOfTime60-89DaysPastDueNotWorse</th>\n",
       "      <th>NumberOfDependents</th>\n",
       "    </tr>\n",
       "  </thead>\n",
       "  <tbody>\n",
       "    <tr>\n",
       "      <th>0</th>\n",
       "      <td>1</td>\n",
       "      <td>NaN</td>\n",
       "      <td>0.885519</td>\n",
       "      <td>43</td>\n",
       "      <td>0</td>\n",
       "      <td>0.177513</td>\n",
       "      <td>5700.0</td>\n",
       "      <td>4</td>\n",
       "      <td>0</td>\n",
       "      <td>0</td>\n",
       "      <td>0</td>\n",
       "      <td>0.0</td>\n",
       "    </tr>\n",
       "    <tr>\n",
       "      <th>1</th>\n",
       "      <td>2</td>\n",
       "      <td>NaN</td>\n",
       "      <td>0.463295</td>\n",
       "      <td>57</td>\n",
       "      <td>0</td>\n",
       "      <td>0.527237</td>\n",
       "      <td>9141.0</td>\n",
       "      <td>15</td>\n",
       "      <td>0</td>\n",
       "      <td>4</td>\n",
       "      <td>0</td>\n",
       "      <td>2.0</td>\n",
       "    </tr>\n",
       "    <tr>\n",
       "      <th>2</th>\n",
       "      <td>3</td>\n",
       "      <td>NaN</td>\n",
       "      <td>0.043275</td>\n",
       "      <td>59</td>\n",
       "      <td>0</td>\n",
       "      <td>0.687648</td>\n",
       "      <td>5083.0</td>\n",
       "      <td>12</td>\n",
       "      <td>0</td>\n",
       "      <td>1</td>\n",
       "      <td>0</td>\n",
       "      <td>2.0</td>\n",
       "    </tr>\n",
       "    <tr>\n",
       "      <th>3</th>\n",
       "      <td>4</td>\n",
       "      <td>NaN</td>\n",
       "      <td>0.280308</td>\n",
       "      <td>38</td>\n",
       "      <td>1</td>\n",
       "      <td>0.925961</td>\n",
       "      <td>3200.0</td>\n",
       "      <td>7</td>\n",
       "      <td>0</td>\n",
       "      <td>2</td>\n",
       "      <td>0</td>\n",
       "      <td>0.0</td>\n",
       "    </tr>\n",
       "    <tr>\n",
       "      <th>4</th>\n",
       "      <td>5</td>\n",
       "      <td>NaN</td>\n",
       "      <td>1.000000</td>\n",
       "      <td>27</td>\n",
       "      <td>0</td>\n",
       "      <td>0.019917</td>\n",
       "      <td>3865.0</td>\n",
       "      <td>4</td>\n",
       "      <td>0</td>\n",
       "      <td>0</td>\n",
       "      <td>0</td>\n",
       "      <td>1.0</td>\n",
       "    </tr>\n",
       "  </tbody>\n",
       "</table>\n",
       "</div>"
      ],
      "text/plain": [
       "   Unnamed: 0  SeriousDlqin2yrs  RevolvingUtilizationOfUnsecuredLines  age  \\\n",
       "0           1               NaN                              0.885519   43   \n",
       "1           2               NaN                              0.463295   57   \n",
       "2           3               NaN                              0.043275   59   \n",
       "3           4               NaN                              0.280308   38   \n",
       "4           5               NaN                              1.000000   27   \n",
       "\n",
       "   NumberOfTime30-59DaysPastDueNotWorse  DebtRatio  MonthlyIncome  \\\n",
       "0                                     0   0.177513         5700.0   \n",
       "1                                     0   0.527237         9141.0   \n",
       "2                                     0   0.687648         5083.0   \n",
       "3                                     1   0.925961         3200.0   \n",
       "4                                     0   0.019917         3865.0   \n",
       "\n",
       "   NumberOfOpenCreditLinesAndLoans  NumberOfTimes90DaysLate  \\\n",
       "0                                4                        0   \n",
       "1                               15                        0   \n",
       "2                               12                        0   \n",
       "3                                7                        0   \n",
       "4                                4                        0   \n",
       "\n",
       "   NumberRealEstateLoansOrLines  NumberOfTime60-89DaysPastDueNotWorse  \\\n",
       "0                             0                                     0   \n",
       "1                             4                                     0   \n",
       "2                             1                                     0   \n",
       "3                             2                                     0   \n",
       "4                             0                                     0   \n",
       "\n",
       "   NumberOfDependents  \n",
       "0                 0.0  \n",
       "1                 2.0  \n",
       "2                 2.0  \n",
       "3                 0.0  \n",
       "4                 1.0  "
      ]
     },
     "execution_count": 26,
     "metadata": {},
     "output_type": "execute_result"
    }
   ],
   "source": [
    "test_data=pd.read_csv('cs-test.csv')\n",
    "test_data.head()"
   ]
  },
  {
   "cell_type": "code",
   "execution_count": 27,
   "metadata": {},
   "outputs": [
    {
     "data": {
      "text/html": [
       "<div>\n",
       "<style scoped>\n",
       "    .dataframe tbody tr th:only-of-type {\n",
       "        vertical-align: middle;\n",
       "    }\n",
       "\n",
       "    .dataframe tbody tr th {\n",
       "        vertical-align: top;\n",
       "    }\n",
       "\n",
       "    .dataframe thead th {\n",
       "        text-align: right;\n",
       "    }\n",
       "</style>\n",
       "<table border=\"1\" class=\"dataframe\">\n",
       "  <thead>\n",
       "    <tr style=\"text-align: right;\">\n",
       "      <th></th>\n",
       "      <th>Total</th>\n",
       "      <th>Percent</th>\n",
       "    </tr>\n",
       "  </thead>\n",
       "  <tbody>\n",
       "    <tr>\n",
       "      <th>SeriousDlqin2yrs</th>\n",
       "      <td>101503</td>\n",
       "      <td>100.000000</td>\n",
       "    </tr>\n",
       "    <tr>\n",
       "      <th>MonthlyIncome</th>\n",
       "      <td>20103</td>\n",
       "      <td>19.805326</td>\n",
       "    </tr>\n",
       "    <tr>\n",
       "      <th>NumberOfDependents</th>\n",
       "      <td>2626</td>\n",
       "      <td>2.587116</td>\n",
       "    </tr>\n",
       "    <tr>\n",
       "      <th>NumberOfTime60-89DaysPastDueNotWorse</th>\n",
       "      <td>0</td>\n",
       "      <td>0.000000</td>\n",
       "    </tr>\n",
       "    <tr>\n",
       "      <th>NumberRealEstateLoansOrLines</th>\n",
       "      <td>0</td>\n",
       "      <td>0.000000</td>\n",
       "    </tr>\n",
       "    <tr>\n",
       "      <th>NumberOfTimes90DaysLate</th>\n",
       "      <td>0</td>\n",
       "      <td>0.000000</td>\n",
       "    </tr>\n",
       "    <tr>\n",
       "      <th>NumberOfOpenCreditLinesAndLoans</th>\n",
       "      <td>0</td>\n",
       "      <td>0.000000</td>\n",
       "    </tr>\n",
       "    <tr>\n",
       "      <th>DebtRatio</th>\n",
       "      <td>0</td>\n",
       "      <td>0.000000</td>\n",
       "    </tr>\n",
       "    <tr>\n",
       "      <th>NumberOfTime30-59DaysPastDueNotWorse</th>\n",
       "      <td>0</td>\n",
       "      <td>0.000000</td>\n",
       "    </tr>\n",
       "    <tr>\n",
       "      <th>age</th>\n",
       "      <td>0</td>\n",
       "      <td>0.000000</td>\n",
       "    </tr>\n",
       "    <tr>\n",
       "      <th>RevolvingUtilizationOfUnsecuredLines</th>\n",
       "      <td>0</td>\n",
       "      <td>0.000000</td>\n",
       "    </tr>\n",
       "    <tr>\n",
       "      <th>Unnamed: 0</th>\n",
       "      <td>0</td>\n",
       "      <td>0.000000</td>\n",
       "    </tr>\n",
       "  </tbody>\n",
       "</table>\n",
       "</div>"
      ],
      "text/plain": [
       "                                       Total     Percent\n",
       "SeriousDlqin2yrs                      101503  100.000000\n",
       "MonthlyIncome                          20103   19.805326\n",
       "NumberOfDependents                      2626    2.587116\n",
       "NumberOfTime60-89DaysPastDueNotWorse       0    0.000000\n",
       "NumberRealEstateLoansOrLines               0    0.000000\n",
       "NumberOfTimes90DaysLate                    0    0.000000\n",
       "NumberOfOpenCreditLinesAndLoans            0    0.000000\n",
       "DebtRatio                                  0    0.000000\n",
       "NumberOfTime30-59DaysPastDueNotWorse       0    0.000000\n",
       "age                                        0    0.000000\n",
       "RevolvingUtilizationOfUnsecuredLines       0    0.000000\n",
       "Unnamed: 0                                 0    0.000000"
      ]
     },
     "execution_count": 27,
     "metadata": {},
     "output_type": "execute_result"
    }
   ],
   "source": [
    "total = test_data.isnull().sum(axis=0).sort_values(ascending=False)\n",
    "percent = ((test_data.isnull().sum(axis=0)/test_data.isnull().count(axis=0))*100).sort_values(ascending=False)\n",
    "\n",
    "# count the number of null values in the column and their perecentage of the total data\n",
    "missing_data_columns = pd.concat([total, percent], axis=1, keys=['Total', 'Percent'])\n",
    "missing_data_columns.head(20)"
   ]
  },
  {
   "cell_type": "code",
   "execution_count": 28,
   "metadata": {},
   "outputs": [],
   "source": [
    "imp_mean = Imputer(missing_values = 'NaN', strategy='mean')\n",
    "imp_mean.fit(test_data[['MonthlyIncome']])\n",
    "test_data['MonthlyIncome'] = imp_mean.transform(test_data[['MonthlyIncome']])"
   ]
  },
  {
   "cell_type": "code",
   "execution_count": 29,
   "metadata": {},
   "outputs": [],
   "source": [
    "test_data=test_data.drop('SeriousDlqin2yrs',axis=1)"
   ]
  },
  {
   "cell_type": "code",
   "execution_count": 30,
   "metadata": {},
   "outputs": [],
   "source": [
    "test_data.drop('Unnamed: 0',axis=1,inplace=True)"
   ]
  },
  {
   "cell_type": "code",
   "execution_count": 40,
   "metadata": {},
   "outputs": [],
   "source": [
    "test_data.drop('RevolvingUtilizationOfUnsecuredLines',axis=1,inplace=True)"
   ]
  },
  {
   "cell_type": "code",
   "execution_count": 31,
   "metadata": {},
   "outputs": [],
   "source": [
    "remove_index=test_data[test_data['NumberOfDependents'].isnull()].index"
   ]
  },
  {
   "cell_type": "code",
   "execution_count": 32,
   "metadata": {},
   "outputs": [
    {
     "data": {
      "text/plain": [
       "Int64Index([    46,     80,    198,    238,    250,    320,    329,    364,\n",
       "               453,    592,\n",
       "            ...\n",
       "            100955, 101035, 101082, 101103, 101138, 101145, 101388, 101431,\n",
       "            101460, 101500],\n",
       "           dtype='int64', length=2626)"
      ]
     },
     "execution_count": 32,
     "metadata": {},
     "output_type": "execute_result"
    }
   ],
   "source": [
    "remove_index"
   ]
  },
  {
   "cell_type": "code",
   "execution_count": 33,
   "metadata": {},
   "outputs": [
    {
     "data": {
      "text/plain": [
       "(98877, 10)"
      ]
     },
     "execution_count": 33,
     "metadata": {},
     "output_type": "execute_result"
    }
   ],
   "source": [
    "test_data = test_data.copy().dropna(how='any')\n",
    "test_data.shape"
   ]
  },
  {
   "cell_type": "code",
   "execution_count": 34,
   "metadata": {},
   "outputs": [
    {
     "data": {
      "text/html": [
       "<div>\n",
       "<style scoped>\n",
       "    .dataframe tbody tr th:only-of-type {\n",
       "        vertical-align: middle;\n",
       "    }\n",
       "\n",
       "    .dataframe tbody tr th {\n",
       "        vertical-align: top;\n",
       "    }\n",
       "\n",
       "    .dataframe thead th {\n",
       "        text-align: right;\n",
       "    }\n",
       "</style>\n",
       "<table border=\"1\" class=\"dataframe\">\n",
       "  <thead>\n",
       "    <tr style=\"text-align: right;\">\n",
       "      <th></th>\n",
       "      <th>Total</th>\n",
       "      <th>Percent</th>\n",
       "    </tr>\n",
       "  </thead>\n",
       "  <tbody>\n",
       "    <tr>\n",
       "      <th>NumberOfDependents</th>\n",
       "      <td>0</td>\n",
       "      <td>0.0</td>\n",
       "    </tr>\n",
       "    <tr>\n",
       "      <th>NumberOfTime60-89DaysPastDueNotWorse</th>\n",
       "      <td>0</td>\n",
       "      <td>0.0</td>\n",
       "    </tr>\n",
       "    <tr>\n",
       "      <th>NumberRealEstateLoansOrLines</th>\n",
       "      <td>0</td>\n",
       "      <td>0.0</td>\n",
       "    </tr>\n",
       "    <tr>\n",
       "      <th>NumberOfTimes90DaysLate</th>\n",
       "      <td>0</td>\n",
       "      <td>0.0</td>\n",
       "    </tr>\n",
       "    <tr>\n",
       "      <th>NumberOfOpenCreditLinesAndLoans</th>\n",
       "      <td>0</td>\n",
       "      <td>0.0</td>\n",
       "    </tr>\n",
       "    <tr>\n",
       "      <th>MonthlyIncome</th>\n",
       "      <td>0</td>\n",
       "      <td>0.0</td>\n",
       "    </tr>\n",
       "    <tr>\n",
       "      <th>DebtRatio</th>\n",
       "      <td>0</td>\n",
       "      <td>0.0</td>\n",
       "    </tr>\n",
       "    <tr>\n",
       "      <th>NumberOfTime30-59DaysPastDueNotWorse</th>\n",
       "      <td>0</td>\n",
       "      <td>0.0</td>\n",
       "    </tr>\n",
       "    <tr>\n",
       "      <th>age</th>\n",
       "      <td>0</td>\n",
       "      <td>0.0</td>\n",
       "    </tr>\n",
       "    <tr>\n",
       "      <th>RevolvingUtilizationOfUnsecuredLines</th>\n",
       "      <td>0</td>\n",
       "      <td>0.0</td>\n",
       "    </tr>\n",
       "  </tbody>\n",
       "</table>\n",
       "</div>"
      ],
      "text/plain": [
       "                                      Total  Percent\n",
       "NumberOfDependents                        0      0.0\n",
       "NumberOfTime60-89DaysPastDueNotWorse      0      0.0\n",
       "NumberRealEstateLoansOrLines              0      0.0\n",
       "NumberOfTimes90DaysLate                   0      0.0\n",
       "NumberOfOpenCreditLinesAndLoans           0      0.0\n",
       "MonthlyIncome                             0      0.0\n",
       "DebtRatio                                 0      0.0\n",
       "NumberOfTime30-59DaysPastDueNotWorse      0      0.0\n",
       "age                                       0      0.0\n",
       "RevolvingUtilizationOfUnsecuredLines      0      0.0"
      ]
     },
     "execution_count": 34,
     "metadata": {},
     "output_type": "execute_result"
    }
   ],
   "source": [
    "total = test_data.isnull().sum(axis=0).sort_values(ascending=False)\n",
    "percent = ((test_data.isnull().sum(axis=0)/test_data.isnull().count(axis=0))*100).sort_values(ascending=False)\n",
    "\n",
    "# count the number of null values in the column and their perecentage of the total data\n",
    "missing_data_columns = pd.concat([total, percent], axis=1, keys=['Total', 'Percent'])\n",
    "missing_data_columns.head(20)"
   ]
  },
  {
   "cell_type": "code",
   "execution_count": null,
   "metadata": {},
   "outputs": [],
   "source": []
  },
  {
   "cell_type": "code",
   "execution_count": null,
   "metadata": {},
   "outputs": [],
   "source": []
  },
  {
   "cell_type": "markdown",
   "metadata": {},
   "source": [
    "### Predictive Model: Build a model to predict whether or not a person will go delinquent for more than 90 days or not."
   ]
  },
  {
   "cell_type": "code",
   "execution_count": 35,
   "metadata": {},
   "outputs": [
    {
     "data": {
      "text/plain": [
       "LogisticRegression(C=1.0, class_weight=None, dual=False, fit_intercept=True,\n",
       "          intercept_scaling=1, max_iter=100, multi_class='ovr', n_jobs=1,\n",
       "          penalty='l2', random_state=None, solver='liblinear', tol=0.0001,\n",
       "          verbose=0, warm_start=False)"
      ]
     },
     "execution_count": 35,
     "metadata": {},
     "output_type": "execute_result"
    }
   ],
   "source": [
    "from sklearn.linear_model import LogisticRegression\n",
    "\n",
    "logreg = LogisticRegression()\n",
    "logreg.fit( train_data.iloc[:,2:], train_data['SeriousDlqin2yrs'] )"
   ]
  },
  {
   "cell_type": "code",
   "execution_count": 41,
   "metadata": {},
   "outputs": [],
   "source": [
    "y_pred=logreg.predict(test_data)"
   ]
  },
  {
   "cell_type": "code",
   "execution_count": null,
   "metadata": {},
   "outputs": [],
   "source": []
  },
  {
   "cell_type": "code",
   "execution_count": null,
   "metadata": {},
   "outputs": [],
   "source": []
  },
  {
   "cell_type": "code",
   "execution_count": 45,
   "metadata": {},
   "outputs": [],
   "source": [
    "#Converting numpy array to Pandas dataframe object.\n",
    "y_pred=pd.DataFrame(data=y_pred,index=range(len(y_pred)))\n"
   ]
  },
  {
   "cell_type": "code",
   "execution_count": 46,
   "metadata": {},
   "outputs": [],
   "source": [
    "y_pred=y_pred_pd.rename(columns={0:'Predicted_Values'})"
   ]
  },
  {
   "cell_type": "code",
   "execution_count": 47,
   "metadata": {},
   "outputs": [
    {
     "data": {
      "text/html": [
       "<div>\n",
       "<style scoped>\n",
       "    .dataframe tbody tr th:only-of-type {\n",
       "        vertical-align: middle;\n",
       "    }\n",
       "\n",
       "    .dataframe tbody tr th {\n",
       "        vertical-align: top;\n",
       "    }\n",
       "\n",
       "    .dataframe thead th {\n",
       "        text-align: right;\n",
       "    }\n",
       "</style>\n",
       "<table border=\"1\" class=\"dataframe\">\n",
       "  <thead>\n",
       "    <tr style=\"text-align: right;\">\n",
       "      <th></th>\n",
       "      <th>Predicted_Values</th>\n",
       "    </tr>\n",
       "  </thead>\n",
       "  <tbody>\n",
       "    <tr>\n",
       "      <th>0</th>\n",
       "      <td>0</td>\n",
       "    </tr>\n",
       "    <tr>\n",
       "      <th>1</th>\n",
       "      <td>0</td>\n",
       "    </tr>\n",
       "    <tr>\n",
       "      <th>2</th>\n",
       "      <td>0</td>\n",
       "    </tr>\n",
       "    <tr>\n",
       "      <th>3</th>\n",
       "      <td>0</td>\n",
       "    </tr>\n",
       "    <tr>\n",
       "      <th>4</th>\n",
       "      <td>0</td>\n",
       "    </tr>\n",
       "  </tbody>\n",
       "</table>\n",
       "</div>"
      ],
      "text/plain": [
       "   Predicted_Values\n",
       "0                 0\n",
       "1                 0\n",
       "2                 0\n",
       "3                 0\n",
       "4                 0"
      ]
     },
     "execution_count": 47,
     "metadata": {},
     "output_type": "execute_result"
    }
   ],
   "source": [
    "y_pred.head()"
   ]
  },
  {
   "cell_type": "code",
   "execution_count": 36,
   "metadata": {},
   "outputs": [],
   "source": []
  },
  {
   "cell_type": "code",
   "execution_count": null,
   "metadata": {},
   "outputs": [],
   "source": []
  },
  {
   "cell_type": "code",
   "execution_count": null,
   "metadata": {},
   "outputs": [],
   "source": []
  },
  {
   "cell_type": "code",
   "execution_count": null,
   "metadata": {},
   "outputs": [],
   "source": []
  },
  {
   "cell_type": "code",
   "execution_count": null,
   "metadata": {},
   "outputs": [],
   "source": []
  },
  {
   "cell_type": "code",
   "execution_count": null,
   "metadata": {},
   "outputs": [],
   "source": []
  },
  {
   "cell_type": "code",
   "execution_count": null,
   "metadata": {},
   "outputs": [],
   "source": []
  },
  {
   "cell_type": "code",
   "execution_count": null,
   "metadata": {},
   "outputs": [],
   "source": []
  },
  {
   "cell_type": "code",
   "execution_count": null,
   "metadata": {},
   "outputs": [],
   "source": []
  },
  {
   "cell_type": "markdown",
   "metadata": {},
   "source": [
    "### Building Decision Tree Model."
   ]
  },
  {
   "cell_type": "code",
   "execution_count": 48,
   "metadata": {},
   "outputs": [],
   "source": [
    "import sklearn.tree as dt"
   ]
  },
  {
   "cell_type": "code",
   "execution_count": 49,
   "metadata": {},
   "outputs": [
    {
     "name": "stderr",
     "output_type": "stream",
     "text": [
      "C:\\Users\\adity\\Anaconda3\\lib\\site-packages\\sklearn\\ensemble\\weight_boosting.py:29: DeprecationWarning: numpy.core.umath_tests is an internal NumPy module and should not be imported. It will be removed in a future NumPy release.\n",
      "  from numpy.core.umath_tests import inner1d\n"
     ]
    }
   ],
   "source": [
    "import sklearn.ensemble as en"
   ]
  },
  {
   "cell_type": "code",
   "execution_count": 50,
   "metadata": {},
   "outputs": [
    {
     "name": "stderr",
     "output_type": "stream",
     "text": [
      "C:\\Users\\adity\\Anaconda3\\lib\\site-packages\\sklearn\\cross_validation.py:41: DeprecationWarning: This module was deprecated in version 0.18 in favor of the model_selection module into which all the refactored classes and functions are moved. Also note that the interface of the new CV iterators are different from that of this module. This module will be removed in 0.20.\n",
      "  \"This module will be removed in 0.20.\", DeprecationWarning)\n",
      "C:\\Users\\adity\\Anaconda3\\lib\\site-packages\\sklearn\\grid_search.py:42: DeprecationWarning: This module was deprecated in version 0.18 in favor of the model_selection module into which all the refactored classes and functions are moved. This module will be removed in 0.20.\n",
      "  DeprecationWarning)\n"
     ]
    }
   ],
   "source": [
    "from sklearn import metrics\n",
    "from sklearn.tree import DecisionTreeClassifier\n",
    "from sklearn.grid_search import GridSearchCV"
   ]
  },
  {
   "cell_type": "code",
   "execution_count": 51,
   "metadata": {},
   "outputs": [
    {
     "data": {
      "text/plain": [
       "DecisionTreeClassifier(class_weight=None, criterion='gini', max_depth=3,\n",
       "            max_features=None, max_leaf_nodes=None,\n",
       "            min_impurity_decrease=0.0, min_impurity_split=None,\n",
       "            min_samples_leaf=1, min_samples_split=2,\n",
       "            min_weight_fraction_leaf=0.0, presort=False, random_state=None,\n",
       "            splitter='best')"
      ]
     },
     "execution_count": 51,
     "metadata": {},
     "output_type": "execute_result"
    }
   ],
   "source": [
    "clf_tree=DecisionTreeClassifier(max_depth=3)\n",
    "clf_tree.fit(train_data.iloc[:,2:], train_data['SeriousDlqin2yrs'])"
   ]
  },
  {
   "cell_type": "code",
   "execution_count": 52,
   "metadata": {},
   "outputs": [
    {
     "data": {
      "text/html": [
       "<div>\n",
       "<style scoped>\n",
       "    .dataframe tbody tr th:only-of-type {\n",
       "        vertical-align: middle;\n",
       "    }\n",
       "\n",
       "    .dataframe tbody tr th {\n",
       "        vertical-align: top;\n",
       "    }\n",
       "\n",
       "    .dataframe thead th {\n",
       "        text-align: right;\n",
       "    }\n",
       "</style>\n",
       "<table border=\"1\" class=\"dataframe\">\n",
       "  <thead>\n",
       "    <tr style=\"text-align: right;\">\n",
       "      <th></th>\n",
       "      <th>0</th>\n",
       "      <th>1</th>\n",
       "    </tr>\n",
       "  </thead>\n",
       "  <tbody>\n",
       "    <tr>\n",
       "      <th>0</th>\n",
       "      <td>0.880095</td>\n",
       "      <td>0.119905</td>\n",
       "    </tr>\n",
       "    <tr>\n",
       "      <th>1</th>\n",
       "      <td>0.972360</td>\n",
       "      <td>0.027640</td>\n",
       "    </tr>\n",
       "    <tr>\n",
       "      <th>2</th>\n",
       "      <td>0.712905</td>\n",
       "      <td>0.287095</td>\n",
       "    </tr>\n",
       "    <tr>\n",
       "      <th>3</th>\n",
       "      <td>0.972360</td>\n",
       "      <td>0.027640</td>\n",
       "    </tr>\n",
       "    <tr>\n",
       "      <th>4</th>\n",
       "      <td>0.880095</td>\n",
       "      <td>0.119905</td>\n",
       "    </tr>\n",
       "  </tbody>\n",
       "</table>\n",
       "</div>"
      ],
      "text/plain": [
       "          0         1\n",
       "0  0.880095  0.119905\n",
       "1  0.972360  0.027640\n",
       "2  0.712905  0.287095\n",
       "3  0.972360  0.027640\n",
       "4  0.880095  0.119905"
      ]
     },
     "execution_count": 52,
     "metadata": {},
     "output_type": "execute_result"
    }
   ],
   "source": [
    "pd.DataFrame(clf_tree.predict_proba(train_data.iloc[:,2:])).head()"
   ]
  },
  {
   "cell_type": "code",
   "execution_count": 53,
   "metadata": {},
   "outputs": [],
   "source": [
    "tree_train_pred=pd.DataFrame({'predicted':clf_tree.predict(train_data.iloc[:,2:]),'actual':train_data['SeriousDlqin2yrs']})"
   ]
  },
  {
   "cell_type": "code",
   "execution_count": 23,
   "metadata": {},
   "outputs": [
    {
     "data": {
      "text/html": [
       "<div>\n",
       "<style scoped>\n",
       "    .dataframe tbody tr th:only-of-type {\n",
       "        vertical-align: middle;\n",
       "    }\n",
       "\n",
       "    .dataframe tbody tr th {\n",
       "        vertical-align: top;\n",
       "    }\n",
       "\n",
       "    .dataframe thead th {\n",
       "        text-align: right;\n",
       "    }\n",
       "</style>\n",
       "<table border=\"1\" class=\"dataframe\">\n",
       "  <thead>\n",
       "    <tr style=\"text-align: right;\">\n",
       "      <th></th>\n",
       "      <th>actual</th>\n",
       "      <th>predicted</th>\n",
       "    </tr>\n",
       "  </thead>\n",
       "  <tbody>\n",
       "    <tr>\n",
       "      <th>0</th>\n",
       "      <td>1</td>\n",
       "      <td>0</td>\n",
       "    </tr>\n",
       "    <tr>\n",
       "      <th>1</th>\n",
       "      <td>0</td>\n",
       "      <td>0</td>\n",
       "    </tr>\n",
       "    <tr>\n",
       "      <th>2</th>\n",
       "      <td>0</td>\n",
       "      <td>0</td>\n",
       "    </tr>\n",
       "    <tr>\n",
       "      <th>3</th>\n",
       "      <td>0</td>\n",
       "      <td>0</td>\n",
       "    </tr>\n",
       "    <tr>\n",
       "      <th>4</th>\n",
       "      <td>0</td>\n",
       "      <td>0</td>\n",
       "    </tr>\n",
       "    <tr>\n",
       "      <th>5</th>\n",
       "      <td>0</td>\n",
       "      <td>0</td>\n",
       "    </tr>\n",
       "    <tr>\n",
       "      <th>6</th>\n",
       "      <td>0</td>\n",
       "      <td>0</td>\n",
       "    </tr>\n",
       "    <tr>\n",
       "      <th>7</th>\n",
       "      <td>0</td>\n",
       "      <td>0</td>\n",
       "    </tr>\n",
       "    <tr>\n",
       "      <th>9</th>\n",
       "      <td>0</td>\n",
       "      <td>0</td>\n",
       "    </tr>\n",
       "    <tr>\n",
       "      <th>10</th>\n",
       "      <td>0</td>\n",
       "      <td>0</td>\n",
       "    </tr>\n",
       "    <tr>\n",
       "      <th>11</th>\n",
       "      <td>0</td>\n",
       "      <td>0</td>\n",
       "    </tr>\n",
       "    <tr>\n",
       "      <th>12</th>\n",
       "      <td>0</td>\n",
       "      <td>0</td>\n",
       "    </tr>\n",
       "    <tr>\n",
       "      <th>13</th>\n",
       "      <td>1</td>\n",
       "      <td>1</td>\n",
       "    </tr>\n",
       "    <tr>\n",
       "      <th>14</th>\n",
       "      <td>0</td>\n",
       "      <td>0</td>\n",
       "    </tr>\n",
       "    <tr>\n",
       "      <th>15</th>\n",
       "      <td>0</td>\n",
       "      <td>0</td>\n",
       "    </tr>\n",
       "    <tr>\n",
       "      <th>16</th>\n",
       "      <td>0</td>\n",
       "      <td>0</td>\n",
       "    </tr>\n",
       "    <tr>\n",
       "      <th>17</th>\n",
       "      <td>0</td>\n",
       "      <td>0</td>\n",
       "    </tr>\n",
       "    <tr>\n",
       "      <th>18</th>\n",
       "      <td>0</td>\n",
       "      <td>0</td>\n",
       "    </tr>\n",
       "    <tr>\n",
       "      <th>19</th>\n",
       "      <td>0</td>\n",
       "      <td>0</td>\n",
       "    </tr>\n",
       "    <tr>\n",
       "      <th>20</th>\n",
       "      <td>0</td>\n",
       "      <td>0</td>\n",
       "    </tr>\n",
       "    <tr>\n",
       "      <th>21</th>\n",
       "      <td>1</td>\n",
       "      <td>0</td>\n",
       "    </tr>\n",
       "    <tr>\n",
       "      <th>22</th>\n",
       "      <td>0</td>\n",
       "      <td>0</td>\n",
       "    </tr>\n",
       "    <tr>\n",
       "      <th>23</th>\n",
       "      <td>0</td>\n",
       "      <td>0</td>\n",
       "    </tr>\n",
       "    <tr>\n",
       "      <th>24</th>\n",
       "      <td>0</td>\n",
       "      <td>0</td>\n",
       "    </tr>\n",
       "    <tr>\n",
       "      <th>25</th>\n",
       "      <td>1</td>\n",
       "      <td>0</td>\n",
       "    </tr>\n",
       "    <tr>\n",
       "      <th>26</th>\n",
       "      <td>0</td>\n",
       "      <td>0</td>\n",
       "    </tr>\n",
       "    <tr>\n",
       "      <th>27</th>\n",
       "      <td>0</td>\n",
       "      <td>0</td>\n",
       "    </tr>\n",
       "    <tr>\n",
       "      <th>28</th>\n",
       "      <td>0</td>\n",
       "      <td>0</td>\n",
       "    </tr>\n",
       "    <tr>\n",
       "      <th>29</th>\n",
       "      <td>0</td>\n",
       "      <td>0</td>\n",
       "    </tr>\n",
       "    <tr>\n",
       "      <th>30</th>\n",
       "      <td>0</td>\n",
       "      <td>0</td>\n",
       "    </tr>\n",
       "    <tr>\n",
       "      <th>...</th>\n",
       "      <td>...</td>\n",
       "      <td>...</td>\n",
       "    </tr>\n",
       "    <tr>\n",
       "      <th>149970</th>\n",
       "      <td>0</td>\n",
       "      <td>0</td>\n",
       "    </tr>\n",
       "    <tr>\n",
       "      <th>149971</th>\n",
       "      <td>0</td>\n",
       "      <td>0</td>\n",
       "    </tr>\n",
       "    <tr>\n",
       "      <th>149972</th>\n",
       "      <td>0</td>\n",
       "      <td>0</td>\n",
       "    </tr>\n",
       "    <tr>\n",
       "      <th>149973</th>\n",
       "      <td>0</td>\n",
       "      <td>0</td>\n",
       "    </tr>\n",
       "    <tr>\n",
       "      <th>149974</th>\n",
       "      <td>0</td>\n",
       "      <td>0</td>\n",
       "    </tr>\n",
       "    <tr>\n",
       "      <th>149975</th>\n",
       "      <td>0</td>\n",
       "      <td>0</td>\n",
       "    </tr>\n",
       "    <tr>\n",
       "      <th>149976</th>\n",
       "      <td>0</td>\n",
       "      <td>0</td>\n",
       "    </tr>\n",
       "    <tr>\n",
       "      <th>149977</th>\n",
       "      <td>0</td>\n",
       "      <td>0</td>\n",
       "    </tr>\n",
       "    <tr>\n",
       "      <th>149978</th>\n",
       "      <td>0</td>\n",
       "      <td>0</td>\n",
       "    </tr>\n",
       "    <tr>\n",
       "      <th>149979</th>\n",
       "      <td>1</td>\n",
       "      <td>0</td>\n",
       "    </tr>\n",
       "    <tr>\n",
       "      <th>149980</th>\n",
       "      <td>0</td>\n",
       "      <td>0</td>\n",
       "    </tr>\n",
       "    <tr>\n",
       "      <th>149981</th>\n",
       "      <td>0</td>\n",
       "      <td>0</td>\n",
       "    </tr>\n",
       "    <tr>\n",
       "      <th>149982</th>\n",
       "      <td>0</td>\n",
       "      <td>0</td>\n",
       "    </tr>\n",
       "    <tr>\n",
       "      <th>149983</th>\n",
       "      <td>0</td>\n",
       "      <td>0</td>\n",
       "    </tr>\n",
       "    <tr>\n",
       "      <th>149984</th>\n",
       "      <td>0</td>\n",
       "      <td>0</td>\n",
       "    </tr>\n",
       "    <tr>\n",
       "      <th>149985</th>\n",
       "      <td>0</td>\n",
       "      <td>0</td>\n",
       "    </tr>\n",
       "    <tr>\n",
       "      <th>149986</th>\n",
       "      <td>0</td>\n",
       "      <td>0</td>\n",
       "    </tr>\n",
       "    <tr>\n",
       "      <th>149987</th>\n",
       "      <td>0</td>\n",
       "      <td>0</td>\n",
       "    </tr>\n",
       "    <tr>\n",
       "      <th>149988</th>\n",
       "      <td>0</td>\n",
       "      <td>0</td>\n",
       "    </tr>\n",
       "    <tr>\n",
       "      <th>149989</th>\n",
       "      <td>0</td>\n",
       "      <td>0</td>\n",
       "    </tr>\n",
       "    <tr>\n",
       "      <th>149990</th>\n",
       "      <td>0</td>\n",
       "      <td>0</td>\n",
       "    </tr>\n",
       "    <tr>\n",
       "      <th>149991</th>\n",
       "      <td>0</td>\n",
       "      <td>0</td>\n",
       "    </tr>\n",
       "    <tr>\n",
       "      <th>149992</th>\n",
       "      <td>0</td>\n",
       "      <td>0</td>\n",
       "    </tr>\n",
       "    <tr>\n",
       "      <th>149993</th>\n",
       "      <td>0</td>\n",
       "      <td>0</td>\n",
       "    </tr>\n",
       "    <tr>\n",
       "      <th>149994</th>\n",
       "      <td>0</td>\n",
       "      <td>0</td>\n",
       "    </tr>\n",
       "    <tr>\n",
       "      <th>149995</th>\n",
       "      <td>0</td>\n",
       "      <td>0</td>\n",
       "    </tr>\n",
       "    <tr>\n",
       "      <th>149996</th>\n",
       "      <td>0</td>\n",
       "      <td>0</td>\n",
       "    </tr>\n",
       "    <tr>\n",
       "      <th>149997</th>\n",
       "      <td>0</td>\n",
       "      <td>0</td>\n",
       "    </tr>\n",
       "    <tr>\n",
       "      <th>149998</th>\n",
       "      <td>0</td>\n",
       "      <td>0</td>\n",
       "    </tr>\n",
       "    <tr>\n",
       "      <th>149999</th>\n",
       "      <td>0</td>\n",
       "      <td>0</td>\n",
       "    </tr>\n",
       "  </tbody>\n",
       "</table>\n",
       "<p>146076 rows × 2 columns</p>\n",
       "</div>"
      ],
      "text/plain": [
       "        actual  predicted\n",
       "0            1          0\n",
       "1            0          0\n",
       "2            0          0\n",
       "3            0          0\n",
       "4            0          0\n",
       "5            0          0\n",
       "6            0          0\n",
       "7            0          0\n",
       "9            0          0\n",
       "10           0          0\n",
       "11           0          0\n",
       "12           0          0\n",
       "13           1          1\n",
       "14           0          0\n",
       "15           0          0\n",
       "16           0          0\n",
       "17           0          0\n",
       "18           0          0\n",
       "19           0          0\n",
       "20           0          0\n",
       "21           1          0\n",
       "22           0          0\n",
       "23           0          0\n",
       "24           0          0\n",
       "25           1          0\n",
       "26           0          0\n",
       "27           0          0\n",
       "28           0          0\n",
       "29           0          0\n",
       "30           0          0\n",
       "...        ...        ...\n",
       "149970       0          0\n",
       "149971       0          0\n",
       "149972       0          0\n",
       "149973       0          0\n",
       "149974       0          0\n",
       "149975       0          0\n",
       "149976       0          0\n",
       "149977       0          0\n",
       "149978       0          0\n",
       "149979       1          0\n",
       "149980       0          0\n",
       "149981       0          0\n",
       "149982       0          0\n",
       "149983       0          0\n",
       "149984       0          0\n",
       "149985       0          0\n",
       "149986       0          0\n",
       "149987       0          0\n",
       "149988       0          0\n",
       "149989       0          0\n",
       "149990       0          0\n",
       "149991       0          0\n",
       "149992       0          0\n",
       "149993       0          0\n",
       "149994       0          0\n",
       "149995       0          0\n",
       "149996       0          0\n",
       "149997       0          0\n",
       "149998       0          0\n",
       "149999       0          0\n",
       "\n",
       "[146076 rows x 2 columns]"
      ]
     },
     "execution_count": 23,
     "metadata": {},
     "output_type": "execute_result"
    }
   ],
   "source": [
    "tree_train_pred"
   ]
  },
  {
   "cell_type": "code",
   "execution_count": 54,
   "metadata": {},
   "outputs": [
    {
     "data": {
      "text/plain": [
       "0.935143350036967"
      ]
     },
     "execution_count": 54,
     "metadata": {},
     "output_type": "execute_result"
    }
   ],
   "source": [
    "metrics.accuracy_score( tree_train_pred.actual, tree_train_pred.predicted )"
   ]
  },
  {
   "cell_type": "code",
   "execution_count": null,
   "metadata": {},
   "outputs": [],
   "source": []
  },
  {
   "cell_type": "code",
   "execution_count": null,
   "metadata": {},
   "outputs": [],
   "source": []
  },
  {
   "cell_type": "code",
   "execution_count": null,
   "metadata": {},
   "outputs": [],
   "source": []
  },
  {
   "cell_type": "markdown",
   "metadata": {},
   "source": [
    "### Building Model using Suppport Vector Machines"
   ]
  },
  {
   "cell_type": "code",
   "execution_count": 56,
   "metadata": {},
   "outputs": [],
   "source": [
    "from sklearn.svm import LinearSVC"
   ]
  },
  {
   "cell_type": "code",
   "execution_count": 57,
   "metadata": {},
   "outputs": [],
   "source": [
    "svm_clf = LinearSVC(random_state=0)\n"
   ]
  },
  {
   "cell_type": "code",
   "execution_count": 61,
   "metadata": {},
   "outputs": [
    {
     "data": {
      "text/plain": [
       "LinearSVC(C=1.0, class_weight=None, dual=True, fit_intercept=True,\n",
       "     intercept_scaling=1, loss='squared_hinge', max_iter=1000,\n",
       "     multi_class='ovr', penalty='l2', random_state=0, tol=0.0001,\n",
       "     verbose=0)"
      ]
     },
     "execution_count": 61,
     "metadata": {},
     "output_type": "execute_result"
    }
   ],
   "source": [
    "svm_clf.fit(train_data.values[:,range(2,11)], train_data['SeriousDlqin2yrs'])"
   ]
  },
  {
   "cell_type": "code",
   "execution_count": 62,
   "metadata": {},
   "outputs": [
    {
     "data": {
      "text/plain": [
       "array([[4.50000000e+01, 2.00000000e+00, 8.02982129e-01, ...,\n",
       "        6.00000000e+00, 0.00000000e+00, 2.00000000e+00],\n",
       "       [4.00000000e+01, 0.00000000e+00, 1.21876201e-01, ...,\n",
       "        0.00000000e+00, 0.00000000e+00, 1.00000000e+00],\n",
       "       [3.80000000e+01, 1.00000000e+00, 8.51133750e-02, ...,\n",
       "        0.00000000e+00, 0.00000000e+00, 0.00000000e+00],\n",
       "       ...,\n",
       "       [5.80000000e+01, 0.00000000e+00, 3.87000000e+03, ...,\n",
       "        1.00000000e+00, 0.00000000e+00, 0.00000000e+00],\n",
       "       [3.00000000e+01, 0.00000000e+00, 0.00000000e+00, ...,\n",
       "        0.00000000e+00, 0.00000000e+00, 0.00000000e+00],\n",
       "       [6.40000000e+01, 0.00000000e+00, 2.49908077e-01, ...,\n",
       "        2.00000000e+00, 0.00000000e+00, 0.00000000e+00]])"
      ]
     },
     "execution_count": 62,
     "metadata": {},
     "output_type": "execute_result"
    }
   ],
   "source": [
    "train_data.values[:,range(2,11)]"
   ]
  },
  {
   "cell_type": "code",
   "execution_count": null,
   "metadata": {},
   "outputs": [],
   "source": []
  },
  {
   "cell_type": "code",
   "execution_count": null,
   "metadata": {},
   "outputs": [],
   "source": []
  },
  {
   "cell_type": "code",
   "execution_count": 64,
   "metadata": {},
   "outputs": [
    {
     "data": {
      "text/plain": [
       "array([0, 0, 0, ..., 0, 0, 0], dtype=int64)"
      ]
     },
     "execution_count": 64,
     "metadata": {},
     "output_type": "execute_result"
    }
   ],
   "source": [
    "svm_clf.predict(test_data)"
   ]
  },
  {
   "cell_type": "code",
   "execution_count": 65,
   "metadata": {},
   "outputs": [],
   "source": [
    "y_pred_pd=pd.DataFrame(data=svm_clf.predict(test_data),index=range(len(svm_clf.predict(test_data))))"
   ]
  },
  {
   "cell_type": "code",
   "execution_count": 66,
   "metadata": {},
   "outputs": [],
   "source": [
    "y_pred_pd=y_pred_pd.rename(columns={0:'Predicted_Values'})"
   ]
  },
  {
   "cell_type": "code",
   "execution_count": 73,
   "metadata": {},
   "outputs": [
    {
     "data": {
      "text/plain": [
       "0    98497\n",
       "1      380\n",
       "Name: Predicted_Values, dtype: int64"
      ]
     },
     "execution_count": 73,
     "metadata": {},
     "output_type": "execute_result"
    }
   ],
   "source": [
    "y_pred_pd['Predicted_Values'].value_counts()"
   ]
  },
  {
   "cell_type": "code",
   "execution_count": null,
   "metadata": {},
   "outputs": [],
   "source": []
  },
  {
   "cell_type": "code",
   "execution_count": null,
   "metadata": {},
   "outputs": [],
   "source": []
  },
  {
   "cell_type": "code",
   "execution_count": null,
   "metadata": {},
   "outputs": [],
   "source": []
  }
 ],
 "metadata": {
  "kernelspec": {
   "display_name": "Python 3",
   "language": "python",
   "name": "python3"
  },
  "language_info": {
   "codemirror_mode": {
    "name": "ipython",
    "version": 3
   },
   "file_extension": ".py",
   "mimetype": "text/x-python",
   "name": "python",
   "nbconvert_exporter": "python",
   "pygments_lexer": "ipython3",
   "version": "3.6.6"
  }
 },
 "nbformat": 4,
 "nbformat_minor": 2
}
